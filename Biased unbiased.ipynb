{
 "cells": [
  {
   "cell_type": "markdown",
   "id": "648a7d8c-9a01-4dae-bc54-8f2755a9fba3",
   "metadata": {},
   "source": [
    "# Variance, covariance and bias & defaults in np and pandas\n",
    "\n",
    "Inquiry into implementation of bias into python functions calculating variance, covariance and correlation.\n",
    "Biased and unbiased variance will converge as n large. Since I do not usually have data for all people in the world $(N)$, I have to be satisifed with the few $(n)$ individuals in my sample. But if we divide the sum of squares $ \\sum{}{(x-{\\bar {x}})}^2$ by $n$ there is a problem of downward bias (we underestimate variance) [see discussion here](https://stats.stackexchange.com/questions/3931/intuitive-explanation-for-dividing-by-n-1-when-calculating-standard-deviation) and 2 min video [here](https://twitter.com/MaxvHaastrecht/status/1509440761477185542?s=20&t=IEoTxxcgsN1MPt--Nw0-vg)\n",
    "\n",
    "Variance formulas (notice the n or n-1 in denominator) \n",
    "$${\\displaystyle s^{2}_{biased}={{{\\frac {1}{n}}\\sum _{i=1}^{n}\\left(x_{i}-{\\bar {x}}\\right)^{2}}},}$$\n",
    "\n",
    "\n",
    "$${\\displaystyle s^{2}_{unbiased}={{{\\frac {1}{n-1}}\\sum _{i=1}^{n}\\left(x_{i}-{\\bar {x}}\\right)^{2}}}}$$\n",
    "\n",
    "If n is large, the difference between the biased an unbiased form are small. But if n small, these will matter. Similarly, if we know n = N, we definitely want to use division by n. \n",
    "\n",
    "\n",
    "Hence, it is good to know what method python libraries use to calcualte variances so we can taylor their use to our need. "
   ]
  },
  {
   "cell_type": "code",
   "execution_count": 165,
   "id": "b60c3e8f-6043-4425-9c6c-b1b2d08dc41c",
   "metadata": {},
   "outputs": [
    {
     "data": {
      "text/html": [
       "<div>\n",
       "<style scoped>\n",
       "    .dataframe tbody tr th:only-of-type {\n",
       "        vertical-align: middle;\n",
       "    }\n",
       "\n",
       "    .dataframe tbody tr th {\n",
       "        vertical-align: top;\n",
       "    }\n",
       "\n",
       "    .dataframe thead th {\n",
       "        text-align: right;\n",
       "    }\n",
       "</style>\n",
       "<table border=\"1\" class=\"dataframe\">\n",
       "  <thead>\n",
       "    <tr style=\"text-align: right;\">\n",
       "      <th></th>\n",
       "      <th>x</th>\n",
       "      <th>y</th>\n",
       "    </tr>\n",
       "  </thead>\n",
       "  <tbody>\n",
       "    <tr>\n",
       "      <th>0</th>\n",
       "      <td>0.548814</td>\n",
       "      <td>1.646441</td>\n",
       "    </tr>\n",
       "    <tr>\n",
       "      <th>1</th>\n",
       "      <td>0.715189</td>\n",
       "      <td>2.145568</td>\n",
       "    </tr>\n",
       "    <tr>\n",
       "      <th>2</th>\n",
       "      <td>0.602763</td>\n",
       "      <td>1.808290</td>\n",
       "    </tr>\n",
       "    <tr>\n",
       "      <th>3</th>\n",
       "      <td>0.544883</td>\n",
       "      <td>1.634650</td>\n",
       "    </tr>\n",
       "    <tr>\n",
       "      <th>4</th>\n",
       "      <td>0.423655</td>\n",
       "      <td>1.270964</td>\n",
       "    </tr>\n",
       "    <tr>\n",
       "      <th>...</th>\n",
       "      <td>...</td>\n",
       "      <td>...</td>\n",
       "    </tr>\n",
       "    <tr>\n",
       "      <th>95</th>\n",
       "      <td>0.183191</td>\n",
       "      <td>0.549574</td>\n",
       "    </tr>\n",
       "    <tr>\n",
       "      <th>96</th>\n",
       "      <td>0.586513</td>\n",
       "      <td>1.759539</td>\n",
       "    </tr>\n",
       "    <tr>\n",
       "      <th>97</th>\n",
       "      <td>0.020108</td>\n",
       "      <td>0.060323</td>\n",
       "    </tr>\n",
       "    <tr>\n",
       "      <th>98</th>\n",
       "      <td>0.828940</td>\n",
       "      <td>2.486820</td>\n",
       "    </tr>\n",
       "    <tr>\n",
       "      <th>99</th>\n",
       "      <td>0.004695</td>\n",
       "      <td>0.014086</td>\n",
       "    </tr>\n",
       "  </tbody>\n",
       "</table>\n",
       "<p>100 rows × 2 columns</p>\n",
       "</div>"
      ],
      "text/plain": [
       "           x         y\n",
       "0   0.548814  1.646441\n",
       "1   0.715189  2.145568\n",
       "2   0.602763  1.808290\n",
       "3   0.544883  1.634650\n",
       "4   0.423655  1.270964\n",
       "..       ...       ...\n",
       "95  0.183191  0.549574\n",
       "96  0.586513  1.759539\n",
       "97  0.020108  0.060323\n",
       "98  0.828940  2.486820\n",
       "99  0.004695  0.014086\n",
       "\n",
       "[100 rows x 2 columns]"
      ]
     },
     "execution_count": 165,
     "metadata": {},
     "output_type": "execute_result"
    }
   ],
   "source": [
    "import numpy as np\n",
    "import statsmodels.api as sm\n",
    "import pandas as pd\n",
    "\n",
    "# Set a seed for reproducibility\n",
    "np.random.seed(0)\n",
    "\n",
    "# Generate 100 random values for x and y\n",
    "x = np.random.rand(100)\n",
    "y = 3*x \n",
    "\n",
    "#y = 3*x + np.random.normal(0, 0.1, 100)\n",
    "# Optional: uncomment `np.random.normal(0, 0.1, 100)` to add random noise to the relationship between x and y. \n",
    "# This noise represents the unexplained variation or error \n",
    "# that you might find in real-world datasets as we generate 100 random values (errors) \n",
    "# from a normal distribution with a mean of 0 and a standard deviation of 0.1. \n",
    "# this will be good when moving to correleation coeficients and OLS \n",
    "# I plan to copy this dataset so I am already preapring for later\n",
    "\n",
    "\n",
    "df = pd.DataFrame({'x': x, 'y': y})\n",
    "df"
   ]
  },
  {
   "cell_type": "code",
   "execution_count": 148,
   "id": "f65db577-dc32-4614-94f0-d7cf82e73b03",
   "metadata": {},
   "outputs": [
    {
     "data": {
      "text/plain": [
       "x    0.083957\n",
       "y    0.762468\n",
       "dtype: float64"
      ]
     },
     "execution_count": 148,
     "metadata": {},
     "output_type": "execute_result"
    }
   ],
   "source": [
    "df.var() #deafult: unbiased: divide by n-1"
   ]
  },
  {
   "cell_type": "markdown",
   "id": "f90b86b7-1d87-4cdb-8267-3b8f2d7eece7",
   "metadata": {},
   "source": [
    "Sidenote: the variance above is unbiased (divide by n-1, n = sample size)"
   ]
  },
  {
   "cell_type": "code",
   "execution_count": 149,
   "id": "7493d1a7-9f1e-4e14-a4a8-410b14d7940c",
   "metadata": {},
   "outputs": [
    {
     "data": {
      "text/plain": [
       "0.08311781545439237"
      ]
     },
     "execution_count": 149,
     "metadata": {},
     "output_type": "execute_result"
    }
   ],
   "source": [
    "# # Calculate variance\n",
    "var_x = np.var(x)\n",
    "\n",
    "var_x#deafult: biased: divide by n"
   ]
  },
  {
   "cell_type": "markdown",
   "id": "b936bbba-d42b-43e4-8fcd-94550496f2dd",
   "metadata": {},
   "source": [
    "The variance above using numpy is biased (divided by n, n = sample size)"
   ]
  },
  {
   "cell_type": "markdown",
   "id": "4542a8e7-c994-4d7c-a101-4381be39253c",
   "metadata": {},
   "source": [
    "x unbiased variance: `df.var()` or `np.var(, doof = 1)`: 0.0839  (have to override the default in `np.var`\n",
    "\n",
    "x biased variance: `df.var(, doof = 0)`, `np.var()`.   : 0.0831 (have to override defualt in `df.var`)\n",
    "\n",
    "**Notice the different default settings with `np.var` as opposed to `df.var()`**\n"
   ]
  },
  {
   "cell_type": "markdown",
   "id": "76aa08c0-0947-4be5-8180-7cabd5783cb5",
   "metadata": {},
   "source": [
    "# covariance"
   ]
  },
  {
   "cell_type": "code",
   "execution_count": 150,
   "id": "13a9cb06-fa39-4f4d-b452-b9b416555789",
   "metadata": {},
   "outputs": [
    {
     "data": {
      "text/html": [
       "<div>\n",
       "<style scoped>\n",
       "    .dataframe tbody tr th:only-of-type {\n",
       "        vertical-align: middle;\n",
       "    }\n",
       "\n",
       "    .dataframe tbody tr th {\n",
       "        vertical-align: top;\n",
       "    }\n",
       "\n",
       "    .dataframe thead th {\n",
       "        text-align: right;\n",
       "    }\n",
       "</style>\n",
       "<table border=\"1\" class=\"dataframe\">\n",
       "  <thead>\n",
       "    <tr style=\"text-align: right;\">\n",
       "      <th></th>\n",
       "      <th>x</th>\n",
       "      <th>y</th>\n",
       "    </tr>\n",
       "  </thead>\n",
       "  <tbody>\n",
       "    <tr>\n",
       "      <th>x</th>\n",
       "      <td>0.083957</td>\n",
       "      <td>0.251343</td>\n",
       "    </tr>\n",
       "    <tr>\n",
       "      <th>y</th>\n",
       "      <td>0.251343</td>\n",
       "      <td>0.762468</td>\n",
       "    </tr>\n",
       "  </tbody>\n",
       "</table>\n",
       "</div>"
      ],
      "text/plain": [
       "          x         y\n",
       "x  0.083957  0.251343\n",
       "y  0.251343  0.762468"
      ]
     },
     "execution_count": 150,
     "metadata": {},
     "output_type": "execute_result"
    }
   ],
   "source": [
    "df.cov() #default: unbiased : divide by n-1"
   ]
  },
  {
   "cell_type": "code",
   "execution_count": 151,
   "id": "c6e74ff7-6922-4984-8515-b98eaad1045b",
   "metadata": {},
   "outputs": [
    {
     "data": {
      "text/plain": [
       "array([[0.08395739, 0.25134269],\n",
       "       [0.25134269, 0.76246761]])"
      ]
     },
     "execution_count": 151,
     "metadata": {},
     "output_type": "execute_result"
    }
   ],
   "source": [
    "np.cov(x, y) #default: unbiased:  divide by n-1"
   ]
  },
  {
   "cell_type": "markdown",
   "id": "68e7d277-ca40-4091-9847-1a4ec1d636e0",
   "metadata": {},
   "source": [
    "When using `np` or `df` for covariance, both use unbiased. \n",
    "\n",
    "Takeaway:\n",
    "\n",
    "\n",
    "* **There is inconsistency in the default setting for np** \n",
    "* `np.var` variance is by default unbiased, while `np.cov`is by default unbiased\n",
    "\n"
   ]
  },
  {
   "cell_type": "markdown",
   "id": "d887729e-8cc7-4fcb-a86e-f74b0dfb5b2f",
   "metadata": {},
   "source": [
    "# driving the points home, offering solutions"
   ]
  },
  {
   "cell_type": "markdown",
   "id": "eacef732-6cf6-43c4-9a44-5035fc07ac90",
   "metadata": {},
   "source": [
    "## var \n",
    "$Var X = Cov (X,X) $, notice it's just the X "
   ]
  },
  {
   "cell_type": "code",
   "execution_count": 152,
   "id": "917057d0-6c50-4dac-9c42-e9a7533e37f3",
   "metadata": {},
   "outputs": [
    {
     "name": "stdout",
     "output_type": "stream",
     "text": [
      "default df.var : 0.0840 UNbiased\n",
      "default np.cov xx = var x: 0.0840 UNbiased\n",
      "default np.var: 0.0831 biased\n",
      "\n",
      " options\n",
      "forcing np.var: 0.0840 to be UNbiased\n",
      "forcing np.cov: 0.0831 to be biased\n"
     ]
    }
   ],
   "source": [
    "cov_xx = np.cov(x, x)[0][1] \n",
    "print(f\"default df.var : {df.x.var():.4f}\",'UNbiased')\n",
    "print(f\"default np.cov xx = var x: {cov_xx:.4f}\",'UNbiased')\n",
    "print(f\"default np.var: {np.var(x):.4f}\", 'biased')\n",
    "\n",
    "print('\\n','options')\n",
    "print(f\"forcing np.var: {np.var(x, ddof = 1):.4f}\",'to be UNbiased')\n",
    "print(f\"forcing np.cov: {np.cov(x, x, bias = True)[0][1]:.4f}\", 'to be biased')\n"
   ]
  },
  {
   "cell_type": "markdown",
   "id": "d9dd978c-3d3f-47b8-b1a1-5fc15bcf73bc",
   "metadata": {},
   "source": [
    "## cov"
   ]
  },
  {
   "cell_type": "markdown",
   "id": "8b3ee23e-c2b1-4208-ba9f-d94aa001011e",
   "metadata": {},
   "source": [
    "How about covariance for X **and** Y ? \n",
    "$Cov (X,Y)$ "
   ]
  },
  {
   "cell_type": "code",
   "execution_count": 153,
   "id": "e7947f3e-0137-42f9-8bfc-5b314535d5f2",
   "metadata": {},
   "outputs": [
    {
     "name": "stdout",
     "output_type": "stream",
     "text": [
      "default df.cov : 0.2513 UNbiased\n",
      "default np.cov: 0.2513 UNbiased\n",
      "\n",
      " options\n",
      "forcing df.cov : 0.2488 to be biased\n",
      "forced np.cov: 0.2488 to be biased\n"
     ]
    }
   ],
   "source": [
    "cov_xy = np.cov(x, y)[0][1] \n",
    "print(f\"default df.cov : {df.cov().iloc[0][1]:.4f}\" , 'UNbiased')\n",
    "print(f\"default np.cov: {cov_xy:.4f}\", 'UNbiased')\n",
    "\n",
    "print('\\n','options')\n",
    "print(f\"forcing df.cov : {df.cov(ddof = 0).iloc[0][1]:.4f}\" , 'to be biased')\n",
    "print(f\"forced np.cov: {np.cov(x, y, bias = True)[0][1]:.4f}\", 'to be biased')\n"
   ]
  },
  {
   "cell_type": "markdown",
   "id": "838e47a0-87d5-441b-ba0e-dfcf9804bd0c",
   "metadata": {},
   "source": [
    "## cov manual calculation"
   ]
  },
  {
   "cell_type": "code",
   "execution_count": 154,
   "id": "2bdd8662-8489-4a57-a66c-3858b2aa3940",
   "metadata": {},
   "outputs": [
    {
     "data": {
      "text/plain": [
       "(0.248829264037903, 0.25134269094737677)"
      ]
     },
     "execution_count": 154,
     "metadata": {},
     "output_type": "execute_result"
    }
   ],
   "source": [
    "df['x-xbar'] = df[\"x\"]-df[\"x\"].mean() \n",
    "df['y-ybar'] = df[\"y\"]-df[\"y\"].mean() \n",
    "\n",
    "biased_cov = (df['x-xbar']*df['y-ybar']).sum()/df.shape[0] #biased\n",
    "unbiased_cov = (df['x-xbar']*df['y-ybar']).sum()/(df.shape[0]-1) #biased\n",
    "biased_cov, unbiased_cov"
   ]
  },
  {
   "cell_type": "code",
   "execution_count": 155,
   "id": "cb4810cf-610b-4c48-a57f-bbcdd34da728",
   "metadata": {},
   "outputs": [
    {
     "data": {
      "text/html": [
       "<div>\n",
       "<style scoped>\n",
       "    .dataframe tbody tr th:only-of-type {\n",
       "        vertical-align: middle;\n",
       "    }\n",
       "\n",
       "    .dataframe tbody tr th {\n",
       "        vertical-align: top;\n",
       "    }\n",
       "\n",
       "    .dataframe thead th {\n",
       "        text-align: right;\n",
       "    }\n",
       "</style>\n",
       "<table border=\"1\" class=\"dataframe\">\n",
       "  <thead>\n",
       "    <tr style=\"text-align: right;\">\n",
       "      <th></th>\n",
       "      <th>x-xbar</th>\n",
       "      <th>y-ybar</th>\n",
       "    </tr>\n",
       "  </thead>\n",
       "  <tbody>\n",
       "    <tr>\n",
       "      <th>0</th>\n",
       "      <td>0.076020</td>\n",
       "      <td>0.092311</td>\n",
       "    </tr>\n",
       "    <tr>\n",
       "      <th>1</th>\n",
       "      <td>0.242396</td>\n",
       "      <td>0.798036</td>\n",
       "    </tr>\n",
       "    <tr>\n",
       "      <th>2</th>\n",
       "      <td>0.129970</td>\n",
       "      <td>0.417241</td>\n",
       "    </tr>\n",
       "    <tr>\n",
       "      <th>3</th>\n",
       "      <td>0.072089</td>\n",
       "      <td>0.043410</td>\n",
       "    </tr>\n",
       "    <tr>\n",
       "      <th>4</th>\n",
       "      <td>-0.049139</td>\n",
       "      <td>-0.017825</td>\n",
       "    </tr>\n",
       "    <tr>\n",
       "      <th>...</th>\n",
       "      <td>...</td>\n",
       "      <td>...</td>\n",
       "    </tr>\n",
       "    <tr>\n",
       "      <th>95</th>\n",
       "      <td>-0.289602</td>\n",
       "      <td>-0.819881</td>\n",
       "    </tr>\n",
       "    <tr>\n",
       "      <th>96</th>\n",
       "      <td>0.113719</td>\n",
       "      <td>0.241583</td>\n",
       "    </tr>\n",
       "    <tr>\n",
       "      <th>97</th>\n",
       "      <td>-0.452686</td>\n",
       "      <td>-1.446247</td>\n",
       "    </tr>\n",
       "    <tr>\n",
       "      <th>98</th>\n",
       "      <td>0.356146</td>\n",
       "      <td>1.003652</td>\n",
       "    </tr>\n",
       "    <tr>\n",
       "      <th>99</th>\n",
       "      <td>-0.468098</td>\n",
       "      <td>-1.421781</td>\n",
       "    </tr>\n",
       "  </tbody>\n",
       "</table>\n",
       "<p>100 rows × 2 columns</p>\n",
       "</div>"
      ],
      "text/plain": [
       "      x-xbar    y-ybar\n",
       "0   0.076020  0.092311\n",
       "1   0.242396  0.798036\n",
       "2   0.129970  0.417241\n",
       "3   0.072089  0.043410\n",
       "4  -0.049139 -0.017825\n",
       "..       ...       ...\n",
       "95 -0.289602 -0.819881\n",
       "96  0.113719  0.241583\n",
       "97 -0.452686 -1.446247\n",
       "98  0.356146  1.003652\n",
       "99 -0.468098 -1.421781\n",
       "\n",
       "[100 rows x 2 columns]"
      ]
     },
     "execution_count": 155,
     "metadata": {},
     "output_type": "execute_result"
    }
   ],
   "source": [
    "#so let's calculate covariance\n",
    "#when x moves right of the mean, what does y do? oes it also move in the same direction \n",
    "df[['x-xbar', 'y-ybar']]"
   ]
  },
  {
   "cell_type": "markdown",
   "id": "946c1443-fcea-4b57-89c6-1e7ceec8cb97",
   "metadata": {},
   "source": [
    "# correlation\n",
    "$$\n",
    "{\\displaystyle r_{xy}={\\frac {\\sum _{i=1}^{n}(x_{i}-{\\bar {x}})(y_{i}-{\\bar {y}})}{{\\sqrt {\\sum _{i=1}^{n}(x_{i}-{\\bar {x}})^{2}}}{\\sqrt {\\sum _{i=1}^{n}(y_{i}-{\\bar {y}})^{2}}}}}}\n",
    "$$"
   ]
  },
  {
   "cell_type": "code",
   "execution_count": 156,
   "id": "d6af63a3-fec7-47ec-a53b-6232a2aecf0f",
   "metadata": {},
   "outputs": [
    {
     "data": {
      "text/plain": [
       "0.9934044403650562"
      ]
     },
     "execution_count": 156,
     "metadata": {},
     "output_type": "execute_result"
    }
   ],
   "source": [
    "#idk is there a mistake in this wikipeadia formula - wheere is dividing by N ? \n",
    "#numerator \n",
    "num = (df['x-xbar']*df['y-ybar']).sum() #biased\n",
    "denom = (np.sqrt((df['x-xbar']**2).sum()))*(np.sqrt((df['y-ybar']**2).sum()))\n",
    "num/denom"
   ]
  },
  {
   "cell_type": "code",
   "execution_count": 157,
   "id": "05b76fed-b624-4515-8daf-f7fbc70291de",
   "metadata": {},
   "outputs": [
    {
     "data": {
      "text/plain": [
       "array([[1.        , 0.99340444],\n",
       "       [0.99340444, 1.        ]])"
      ]
     },
     "execution_count": 157,
     "metadata": {},
     "output_type": "execute_result"
    }
   ],
   "source": [
    "np.corrcoef(df.x, df.y) #is this unbiased or biased\n",
    "\n"
   ]
  },
  {
   "cell_type": "code",
   "execution_count": 158,
   "id": "b27e71d7-178b-49ba-8407-257a54cdd78c",
   "metadata": {},
   "outputs": [],
   "source": [
    "biased_sd_x = np.sqrt((df['x-xbar']**2).sum()/df.shape[0]) #biased - what we got with expectation\n",
    "unbiased_sd_x = np.sqrt((df['x-xbar']**2).sum()/(df.shape[0]-1)) #unbiased \n"
   ]
  },
  {
   "cell_type": "code",
   "execution_count": 159,
   "id": "db026350-e3be-49b1-9f2b-3b25196ed558",
   "metadata": {},
   "outputs": [],
   "source": [
    "biased_sd_y = np.sqrt((df['y-ybar']**2).sum()/df.shape[0]) #biased - what we got with eypectation\n",
    "unbiased_sd_y = np.sqrt((df['y-ybar']**2).sum()/(df.shape[0]-1)) #unbiased \n"
   ]
  },
  {
   "cell_type": "code",
   "execution_count": 160,
   "id": "863b90c2-f191-4876-91ad-1f28a0b2a2e9",
   "metadata": {},
   "outputs": [
    {
     "data": {
      "text/plain": [
       "(0.248829264037903, 0.25134269094737677)"
      ]
     },
     "execution_count": 160,
     "metadata": {},
     "output_type": "execute_result"
    }
   ],
   "source": [
    "biased_cov = (df['x-xbar']*df['y-ybar']).sum()/df.shape[0] #biased\n",
    "unbiased_cov = (df['x-xbar']*df['y-ybar']).sum()/(df.shape[0]-1) #biased\n",
    "biased_cov, unbiased_cov"
   ]
  },
  {
   "cell_type": "code",
   "execution_count": 161,
   "id": "034a2015-7b6c-4dd7-a0d7-c86fcbc781c4",
   "metadata": {},
   "outputs": [
    {
     "data": {
      "text/plain": [
       "0.9934044403650563"
      ]
     },
     "execution_count": 161,
     "metadata": {},
     "output_type": "execute_result"
    }
   ],
   "source": [
    "biased_cov/(biased_sd_x*biased_sd_y)"
   ]
  },
  {
   "cell_type": "code",
   "execution_count": 162,
   "id": "48db3c10-35fd-4143-b5f1-6c9ade238f16",
   "metadata": {},
   "outputs": [
    {
     "data": {
      "text/plain": [
       "0.9934044403650562"
      ]
     },
     "execution_count": 162,
     "metadata": {},
     "output_type": "execute_result"
    }
   ],
   "source": [
    "unbiased_cov/(unbiased_sd_x*unbiased_sd_y)"
   ]
  },
  {
   "cell_type": "code",
   "execution_count": 163,
   "id": "fb92ee13-f20a-41a1-b090-bcacbaae5c0a",
   "metadata": {},
   "outputs": [
    {
     "data": {
      "text/plain": [
       "1.003438828651572"
      ]
     },
     "execution_count": 163,
     "metadata": {},
     "output_type": "execute_result"
    }
   ],
   "source": [
    "unbiased_cov/(biased_sd_x*biased_sd_y)"
   ]
  },
  {
   "cell_type": "code",
   "execution_count": 164,
   "id": "243773f0-3024-4b01-9eeb-456360dbfe04",
   "metadata": {},
   "outputs": [
    {
     "data": {
      "text/plain": [
       "0.9834703959614056"
      ]
     },
     "execution_count": 164,
     "metadata": {},
     "output_type": "execute_result"
    }
   ],
   "source": [
    "biased_cov/(unbiased_sd_x*unbiased_sd_y)"
   ]
  },
  {
   "cell_type": "markdown",
   "id": "8f94a59f-965e-4d1f-b067-91f09f47cdcf",
   "metadata": {},
   "source": [
    "# takeaway\n",
    "\n",
    "## numpy vs pandas (df, describe)\n",
    "* if N=n, i.e. we deal with populatin, use `np.var()` as it is dividing by N by default\n",
    "* if N>n, i.e. we deal with sample, use `df.var()` as it is dividing by n-1 by default\n",
    "* either command can be adjusted to meet our needs with the `ddof` option\n",
    "\n",
    "## cov\n",
    "* is the same in both `np.cov)` and `df.cov() as it is dividing by n-1 by default\n",
    "    * the default setting for `np.var` and `np.cov`wtherefore differ (the former is biased by default, the lattr is unbiased by default) \n",
    "    \n",
    "## corr \n",
    "* Bias does not matter for correlation: \n",
    "    * we arrive at the same number as long as both covariance and variance are of the same kind (i.e. both biased or both unbiased) "
   ]
  }
 ],
 "metadata": {
  "kernelspec": {
   "display_name": "Python 3 (ipykernel)",
   "language": "python",
   "name": "python3"
  },
  "language_info": {
   "codemirror_mode": {
    "name": "ipython",
    "version": 3
   },
   "file_extension": ".py",
   "mimetype": "text/x-python",
   "name": "python",
   "nbconvert_exporter": "python",
   "pygments_lexer": "ipython3",
   "version": "3.10.9"
  }
 },
 "nbformat": 4,
 "nbformat_minor": 5
}
