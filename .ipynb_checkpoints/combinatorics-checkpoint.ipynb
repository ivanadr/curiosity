{
  "cells": [
    {
      "cell_type": "code",
      "execution_count": null,
      "id": "d8383c2e-4bd1-45ba-ad0f-c4b26c939306",
      "metadata": {
        "id": "d8383c2e-4bd1-45ba-ad0f-c4b26c939306"
      },
      "outputs": [],
      "source": [
        "import itertools\n",
        "import numpy as np\n",
        "import pandas as pd\n",
        "import plotly_express as px\n",
        "import math\n",
        "from scipy.stats import binom\n"
      ]
    },
    {
      "cell_type": "code",
      "execution_count": null,
      "id": "6dda36bb-4a95-4c67-acdb-c6d39a3e3918",
      "metadata": {
        "id": "6dda36bb-4a95-4c67-acdb-c6d39a3e3918"
      },
      "outputs": [],
      "source": [
        "def create_perms(students_list):\n",
        "  return list(itertools.permutations(students_list))\n",
        "\n",
        "def count_matches(test_p, professor):\n",
        "  match_cntr = 0\n",
        "  for i in range(len(test_p)):\n",
        "    # print('test', test_p[i])\n",
        "    # print('prof', professor[i])\n",
        "    if test_p[i] == professor[i]:\n",
        "      match_cntr+= 1\n",
        "    #print('mathces', match_cntr)\n",
        "  return match_cntr\n",
        "\n",
        "def get_count_list(professor, perms):\n",
        "  return[count_matches(test_p, professor) for test_p in perms]"
      ]
    },
    {
      "cell_type": "code",
      "execution_count": null,
      "id": "f51f2cd6-307b-4d0f-8d8a-81d9c241c62f",
      "metadata": {
        "id": "f51f2cd6-307b-4d0f-8d8a-81d9c241c62f"
      },
      "outputs": [],
      "source": [
        "def create_prob_df(n_students):\n",
        "  students_list = list(range(1, 1+n_students))\n",
        "  perms = create_perms(students_list)\n",
        "  all_perms_count = len(perms)\n",
        "  prof = perms[5]\n",
        "  counts_distr = np.array(np.unique(get_count_list(prof, perms), return_counts=True)).T\n",
        "  df = pd.DataFrame(columns = ['n_matches', 'occurence' ] , data = counts_distr)\n",
        "  df['total_possibilities']= all_perms_count\n",
        "  df['prob(n_matches)'] = df['occurence']/ df['total_possibilities']\n",
        "  df = df[['n_matches', 'prob(n_matches)', 'occurence', 'total_possibilities']]\n",
        "  df['n_students'] = n_students\n",
        "  return df"
      ]
    },
    {
      "cell_type": "code",
      "execution_count": null,
      "id": "cd83d259-b533-49e7-ac3f-4ddb82273952",
      "metadata": {
        "id": "cd83d259-b533-49e7-ac3f-4ddb82273952",
        "outputId": "4ad338b8-b371-4850-d1f4-3f2889572d33"
      },
      "outputs": [
        {
          "data": {
            "text/html": [
              "<div><div id=aa76d613-93e9-42db-a0cb-ffc4304cf5af style=\"display:none; background-color:#9D6CFF; color:white; width:200px; height:30px; padding-left:5px; border-radius:4px; flex-direction:row; justify-content:space-around; align-items:center;\" onmouseover=\"this.style.backgroundColor='#BA9BF8'\" onmouseout=\"this.style.backgroundColor='#9D6CFF'\" onclick=\"window.commands?.execute('create-mitosheet-from-dataframe-output');\">See Full Dataframe in Mito</div> <script> if (window.commands?.hasCommand('create-mitosheet-from-dataframe-output')) document.getElementById('aa76d613-93e9-42db-a0cb-ffc4304cf5af').style.display = 'flex' </script> <table border=\"1\" class=\"dataframe\">\n",
              "  <thead>\n",
              "    <tr style=\"text-align: right;\">\n",
              "      <th></th>\n",
              "      <th>n_matches</th>\n",
              "      <th>prob(n_matches)</th>\n",
              "      <th>occurence</th>\n",
              "      <th>total_possibilities</th>\n",
              "      <th>n_students</th>\n",
              "    </tr>\n",
              "  </thead>\n",
              "  <tbody>\n",
              "    <tr>\n",
              "      <th>0</th>\n",
              "      <td>0</td>\n",
              "      <td>0.367857</td>\n",
              "      <td>1854</td>\n",
              "      <td>5040</td>\n",
              "      <td>7</td>\n",
              "    </tr>\n",
              "    <tr>\n",
              "      <th>1</th>\n",
              "      <td>1</td>\n",
              "      <td>0.368056</td>\n",
              "      <td>1855</td>\n",
              "      <td>5040</td>\n",
              "      <td>7</td>\n",
              "    </tr>\n",
              "    <tr>\n",
              "      <th>2</th>\n",
              "      <td>2</td>\n",
              "      <td>0.183333</td>\n",
              "      <td>924</td>\n",
              "      <td>5040</td>\n",
              "      <td>7</td>\n",
              "    </tr>\n",
              "    <tr>\n",
              "      <th>3</th>\n",
              "      <td>3</td>\n",
              "      <td>0.062500</td>\n",
              "      <td>315</td>\n",
              "      <td>5040</td>\n",
              "      <td>7</td>\n",
              "    </tr>\n",
              "    <tr>\n",
              "      <th>4</th>\n",
              "      <td>4</td>\n",
              "      <td>0.013889</td>\n",
              "      <td>70</td>\n",
              "      <td>5040</td>\n",
              "      <td>7</td>\n",
              "    </tr>\n",
              "    <tr>\n",
              "      <th>5</th>\n",
              "      <td>5</td>\n",
              "      <td>0.004167</td>\n",
              "      <td>21</td>\n",
              "      <td>5040</td>\n",
              "      <td>7</td>\n",
              "    </tr>\n",
              "    <tr>\n",
              "      <th>6</th>\n",
              "      <td>7</td>\n",
              "      <td>0.000198</td>\n",
              "      <td>1</td>\n",
              "      <td>5040</td>\n",
              "      <td>7</td>\n",
              "    </tr>\n",
              "  </tbody>\n",
              "</table></div>"
            ],
            "text/plain": [
              "   n_matches  prob(n_matches)  occurence  total_possibilities  n_students\n",
              "0          0         0.367857       1854                 5040           7\n",
              "1          1         0.368056       1855                 5040           7\n",
              "2          2         0.183333        924                 5040           7\n",
              "3          3         0.062500        315                 5040           7\n",
              "4          4         0.013889         70                 5040           7\n",
              "5          5         0.004167         21                 5040           7\n",
              "6          7         0.000198          1                 5040           7"
            ]
          },
          "execution_count": 47,
          "metadata": {},
          "output_type": "execute_result"
        }
      ],
      "source": [
        "create_prob_df(7)"
      ]
    },
    {
      "cell_type": "code",
      "execution_count": null,
      "id": "a5c570fc-ad30-4570-a51b-5eb4de48bea2",
      "metadata": {
        "id": "a5c570fc-ad30-4570-a51b-5eb4de48bea2",
        "outputId": "dccb6138-e69c-480d-ead3-8fce79c07365"
      },
      "outputs": [
        {
          "data": {
            "text/plain": [
              "5040"
            ]
          },
          "execution_count": 48,
          "metadata": {},
          "output_type": "execute_result"
        }
      ],
      "source": [
        "math.factorial(7)"
      ]
    },
    {
      "cell_type": "markdown",
      "id": "7e830dc1-0a46-478f-acff-836cdb0187c8",
      "metadata": {
        "id": "7e830dc1-0a46-478f-acff-836cdb0187c8"
      },
      "source": [
        "![image.png](attachment:29815d79-6bbd-408c-b9ec-2f1d9183a88b.png)"
      ]
    },
    {
      "cell_type": "code",
      "execution_count": null,
      "id": "f2cf7082-376b-423b-92dc-93d1f10816db",
      "metadata": {
        "id": "f2cf7082-376b-423b-92dc-93d1f10816db"
      },
      "outputs": [],
      "source": [
        "n = 10\n",
        "p = 1/10\n",
        "x = 5\n"
      ]
    },
    {
      "cell_type": "code",
      "execution_count": null,
      "id": "b6c1d80e-8b35-49a5-a9a8-ec874e26a586",
      "metadata": {
        "id": "b6c1d80e-8b35-49a5-a9a8-ec874e26a586",
        "outputId": "861611b9-8c30-4f55-a1cf-34231d6d2526"
      },
      "outputs": [
        {
          "data": {
            "text/plain": [
              "0.05783149341442975"
            ]
          },
          "execution_count": 74,
          "metadata": {},
          "output_type": "execute_result"
        }
      ],
      "source": [
        "math.comb(11,3)*(1/11)**3*(10/11)**8 #hardcoded"
      ]
    },
    {
      "cell_type": "code",
      "execution_count": null,
      "id": "38d8642f-6ef1-4cb0-b27f-bc11d74660cd",
      "metadata": {
        "id": "38d8642f-6ef1-4cb0-b27f-bc11d74660cd",
        "outputId": "ed95272c-650f-4e7c-db7c-67ff8cb12b27"
      },
      "outputs": [
        {
          "data": {
            "text/plain": [
              "0.05783149341442975"
            ]
          },
          "execution_count": 73,
          "metadata": {},
          "output_type": "execute_result"
        }
      ],
      "source": [
        "math.factorial(n)*p**(x)*(1-p)**(n-x)/(math.factorial(x)*math.factorial(n-x))"
      ]
    },
    {
      "cell_type": "code",
      "execution_count": null,
      "id": "fbee92fd-a989-469b-8d63-fb0bd4aa522c",
      "metadata": {
        "id": "fbee92fd-a989-469b-8d63-fb0bd4aa522c",
        "outputId": "3b69b9d9-9037-4153-d5a4-5c6371130e0a"
      },
      "outputs": [
        {
          "data": {
            "text/plain": [
              "0.0014880348000000001"
            ]
          },
          "execution_count": 88,
          "metadata": {},
          "output_type": "execute_result"
        }
      ],
      "source": [
        "binom.pmf(x, n, p)"
      ]
    },
    {
      "cell_type": "code",
      "execution_count": null,
      "id": "16532b60-7113-429b-99cc-eee4ae6ea1ef",
      "metadata": {
        "id": "16532b60-7113-429b-99cc-eee4ae6ea1ef",
        "outputId": "bb8db789-d4b0-4caa-f760-7f209a6cef57"
      },
      "outputs": [
        {
          "name": "stdout",
          "output_type": "stream",
          "text": [
            "|    |   n_matches |   prob(n_matches) |        occurence |   total_possibilities |   n_students |\n",
            "|---:|------------:|------------------:|-----------------:|----------------------:|-------------:|\n",
            "|  0 |           0 |       0.367879    |      1.46846e+07 |           3.99168e+07 |           11 |\n",
            "|  1 |           1 |       0.367879    |      1.46846e+07 |           3.99168e+07 |           11 |\n",
            "|  2 |           2 |       0.18394     |      7.34228e+06 |           3.99168e+07 |           11 |\n",
            "|  3 |           3 |       0.0613137   |      2.44744e+06 |           3.99168e+07 |           11 |\n",
            "|  4 |           4 |       0.0153274   | 611820           |           3.99168e+07 |           11 |\n",
            "|  5 |           5 |       0.00306713  | 122430           |           3.99168e+07 |           11 |\n",
            "|  6 |           6 |       0.000509259 |  20328           |           3.99168e+07 |           11 |\n",
            "|  7 |           7 |       7.44048e-05 |   2970           |           3.99168e+07 |           11 |\n",
            "|  8 |           8 |       8.2672e-06  |    330           |           3.99168e+07 |           11 |\n",
            "|  9 |           9 |       1.37787e-06 |     55           |           3.99168e+07 |           11 |\n",
            "| 10 |          11 |       2.50521e-08 |      1           |           3.99168e+07 |           11 |\n"
          ]
        }
      ],
      "source": [
        "print(create_prob_df(n_students).to_markdown())"
      ]
    },
    {
      "cell_type": "code",
      "execution_count": null,
      "id": "9e4b79e7-f661-4097-8af6-b6774698260b",
      "metadata": {
        "id": "9e4b79e7-f661-4097-8af6-b6774698260b",
        "outputId": "1bd73843-0b67-445d-e11f-3ba802c79b73"
      },
      "outputs": [
        {
          "name": "stdout",
          "output_type": "stream",
          "text": [
            "|    |   n_matches |   prob(n_matches) |        occurence |   total_possibilities |   n_students |\n",
            "|---:|------------:|------------------:|-----------------:|----------------------:|-------------:|\n",
            "|  0 |           0 |       0.367879    |      1.46846e+07 |           3.99168e+07 |           11 |\n",
            "|  1 |           1 |       0.367879    |      1.46846e+07 |           3.99168e+07 |           11 |\n",
            "|  2 |           2 |       0.18394     |      7.34228e+06 |           3.99168e+07 |           11 |\n",
            "|  3 |           3 |       0.0613137   |      2.44744e+06 |           3.99168e+07 |           11 |\n",
            "|  4 |           4 |       0.0153274   | 611820           |           3.99168e+07 |           11 |\n",
            "|  5 |           5 |       0.00306713  | 122430           |           3.99168e+07 |           11 |\n",
            "|  6 |           6 |       0.000509259 |  20328           |           3.99168e+07 |           11 |\n",
            "|  7 |           7 |       7.44048e-05 |   2970           |           3.99168e+07 |           11 |\n",
            "|  8 |           8 |       8.2672e-06  |    330           |           3.99168e+07 |           11 |\n",
            "|  9 |           9 |       1.37787e-06 |     55           |           3.99168e+07 |           11 |\n",
            "| 10 |          11 |       2.50521e-08 |      1           |           3.99168e+07 |           11 |\n"
          ]
        }
      ],
      "source": [
        "print(create_prob_df(11).to_markdown())"
      ]
    },
    {
      "cell_type": "code",
      "execution_count": null,
      "id": "00a0482b-4d6c-4c57-9f01-a6f5edea4fe3",
      "metadata": {
        "id": "00a0482b-4d6c-4c57-9f01-a6f5edea4fe3",
        "outputId": "e20dbe38-213b-46d5-f41d-ba11a6383a7b"
      },
      "outputs": [
        {
          "data": {
            "text/plain": [
              "720"
            ]
          },
          "execution_count": 8,
          "metadata": {},
          "output_type": "execute_result"
        }
      ],
      "source": [
        "math.factorial(6)"
      ]
    },
    {
      "cell_type": "code",
      "execution_count": null,
      "id": "93a13a45-2680-463a-a6fb-efeb111ec9f5",
      "metadata": {
        "id": "93a13a45-2680-463a-a6fb-efeb111ec9f5",
        "outputId": "9d4b1606-3fda-4e1f-8cc3-635bcb1daa4a"
      },
      "outputs": [
        {
          "data": {
            "text/plain": [
              "3"
            ]
          },
          "execution_count": 61,
          "metadata": {},
          "output_type": "execute_result"
        }
      ],
      "source": [
        "math.comb(3,2)"
      ]
    },
    {
      "cell_type": "code",
      "execution_count": null,
      "id": "cb90c612-7b3c-42ec-9dc7-e88561fd2104",
      "metadata": {
        "id": "cb90c612-7b3c-42ec-9dc7-e88561fd2104",
        "outputId": "f863ed41-92b1-4c38-e059-d8bb92ca1546"
      },
      "outputs": [
        {
          "data": {
            "text/plain": [
              "0.0003663003663003663"
            ]
          },
          "execution_count": 20,
          "metadata": {},
          "output_type": "execute_result"
        }
      ],
      "source": [
        "(1/15)*(1/14)*(1/13)"
      ]
    },
    {
      "cell_type": "code",
      "execution_count": null,
      "id": "5d79dfed-ece0-4ef3-83e6-795eee84162d",
      "metadata": {
        "id": "5d79dfed-ece0-4ef3-83e6-795eee84162d",
        "outputId": "ca3c21e9-0f2d-45dc-d5d1-7429b31257b0"
      },
      "outputs": [
        {
          "data": {
            "text/plain": [
              "3.0525030525030525e-05"
            ]
          },
          "execution_count": 21,
          "metadata": {},
          "output_type": "execute_result"
        }
      ],
      "source": [
        "1/32760"
      ]
    },
    {
      "cell_type": "code",
      "execution_count": null,
      "id": "effd26f4-4dbb-4d42-b77a-d3bf346e6437",
      "metadata": {
        "id": "effd26f4-4dbb-4d42-b77a-d3bf346e6437"
      },
      "outputs": [],
      "source": [
        "final = create_prob_df(6)"
      ]
    },
    {
      "cell_type": "code",
      "execution_count": null,
      "id": "319f4c45-8864-4661-9d39-b7fd649f54ef",
      "metadata": {
        "id": "319f4c45-8864-4661-9d39-b7fd649f54ef",
        "outputId": "b111b4c2-40aa-4d4e-9381-99742bca66a3"
      },
      "outputs": [
        {
          "data": {
            "text/html": [
              "<div><div id=710df509-7f58-4539-9f75-f0c031f2f85e style=\"display:none; background-color:#9D6CFF; color:white; width:200px; height:30px; padding-left:5px; border-radius:4px; flex-direction:row; justify-content:space-around; align-items:center;\" onmouseover=\"this.style.backgroundColor='#BA9BF8'\" onmouseout=\"this.style.backgroundColor='#9D6CFF'\" onclick=\"window.commands?.execute('create-mitosheet-from-dataframe-output');\">See Full Dataframe in Mito</div> <script> if (window.commands?.hasCommand('create-mitosheet-from-dataframe-output')) document.getElementById('710df509-7f58-4539-9f75-f0c031f2f85e').style.display = 'flex' </script> <table border=\"1\" class=\"dataframe\">\n",
              "  <thead>\n",
              "    <tr style=\"text-align: right;\">\n",
              "      <th></th>\n",
              "      <th>n_matches</th>\n",
              "      <th>prob(n_matches)</th>\n",
              "      <th>occurence</th>\n",
              "      <th>total_possibilities</th>\n",
              "      <th>n_students</th>\n",
              "    </tr>\n",
              "  </thead>\n",
              "  <tbody>\n",
              "    <tr>\n",
              "      <th>0</th>\n",
              "      <td>0</td>\n",
              "      <td>0.368056</td>\n",
              "      <td>265</td>\n",
              "      <td>720</td>\n",
              "      <td>6</td>\n",
              "    </tr>\n",
              "    <tr>\n",
              "      <th>1</th>\n",
              "      <td>1</td>\n",
              "      <td>0.366667</td>\n",
              "      <td>264</td>\n",
              "      <td>720</td>\n",
              "      <td>6</td>\n",
              "    </tr>\n",
              "    <tr>\n",
              "      <th>2</th>\n",
              "      <td>2</td>\n",
              "      <td>0.187500</td>\n",
              "      <td>135</td>\n",
              "      <td>720</td>\n",
              "      <td>6</td>\n",
              "    </tr>\n",
              "    <tr>\n",
              "      <th>3</th>\n",
              "      <td>3</td>\n",
              "      <td>0.055556</td>\n",
              "      <td>40</td>\n",
              "      <td>720</td>\n",
              "      <td>6</td>\n",
              "    </tr>\n",
              "    <tr>\n",
              "      <th>4</th>\n",
              "      <td>4</td>\n",
              "      <td>0.020833</td>\n",
              "      <td>15</td>\n",
              "      <td>720</td>\n",
              "      <td>6</td>\n",
              "    </tr>\n",
              "    <tr>\n",
              "      <th>5</th>\n",
              "      <td>6</td>\n",
              "      <td>0.001389</td>\n",
              "      <td>1</td>\n",
              "      <td>720</td>\n",
              "      <td>6</td>\n",
              "    </tr>\n",
              "  </tbody>\n",
              "</table></div>"
            ],
            "text/plain": [
              "   n_matches  prob(n_matches)  occurence  total_possibilities  n_students\n",
              "0          0         0.368056        265                  720           6\n",
              "1          1         0.366667        264                  720           6\n",
              "2          2         0.187500        135                  720           6\n",
              "3          3         0.055556         40                  720           6\n",
              "4          4         0.020833         15                  720           6\n",
              "5          6         0.001389          1                  720           6"
            ]
          },
          "execution_count": 6,
          "metadata": {},
          "output_type": "execute_result"
        }
      ],
      "source": [
        "final"
      ]
    },
    {
      "cell_type": "code",
      "execution_count": null,
      "id": "b8cbda16-92bb-4a18-8880-a8c0d3513de1",
      "metadata": {
        "id": "b8cbda16-92bb-4a18-8880-a8c0d3513de1",
        "outputId": "f5b6b3ee-e4f8-49ac-8f84-5097240551db"
      },
      "outputs": [
        {
          "data": {
            "text/html": [
              "<div><div id=47328ba9-ff15-4616-a6c3-61b3fd0b9c5b style=\"display:none; background-color:#9D6CFF; color:white; width:200px; height:30px; padding-left:5px; border-radius:4px; flex-direction:row; justify-content:space-around; align-items:center;\" onmouseover=\"this.style.backgroundColor='#BA9BF8'\" onmouseout=\"this.style.backgroundColor='#9D6CFF'\" onclick=\"window.commands?.execute('create-mitosheet-from-dataframe-output');\">See Full Dataframe in Mito</div> <script> if (window.commands?.hasCommand('create-mitosheet-from-dataframe-output')) document.getElementById('47328ba9-ff15-4616-a6c3-61b3fd0b9c5b').style.display = 'flex' </script> <table border=\"1\" class=\"dataframe\">\n",
              "  <thead>\n",
              "    <tr style=\"text-align: right;\">\n",
              "      <th></th>\n",
              "      <th>n_matches</th>\n",
              "      <th>prob(n_matches)</th>\n",
              "      <th>occurence</th>\n",
              "      <th>total_possibilities</th>\n",
              "      <th>n_students</th>\n",
              "    </tr>\n",
              "  </thead>\n",
              "  <tbody>\n",
              "    <tr>\n",
              "      <th>0</th>\n",
              "      <td>0</td>\n",
              "      <td>3.678795e-01</td>\n",
              "      <td>1334961</td>\n",
              "      <td>3628800</td>\n",
              "      <td>10</td>\n",
              "    </tr>\n",
              "    <tr>\n",
              "      <th>1</th>\n",
              "      <td>1</td>\n",
              "      <td>3.678792e-01</td>\n",
              "      <td>1334960</td>\n",
              "      <td>3628800</td>\n",
              "      <td>10</td>\n",
              "    </tr>\n",
              "    <tr>\n",
              "      <th>2</th>\n",
              "      <td>2</td>\n",
              "      <td>1.839410e-01</td>\n",
              "      <td>667485</td>\n",
              "      <td>3628800</td>\n",
              "      <td>10</td>\n",
              "    </tr>\n",
              "    <tr>\n",
              "      <th>3</th>\n",
              "      <td>3</td>\n",
              "      <td>6.130952e-02</td>\n",
              "      <td>222480</td>\n",
              "      <td>3628800</td>\n",
              "      <td>10</td>\n",
              "    </tr>\n",
              "    <tr>\n",
              "      <th>4</th>\n",
              "      <td>4</td>\n",
              "      <td>1.533565e-02</td>\n",
              "      <td>55650</td>\n",
              "      <td>3628800</td>\n",
              "      <td>10</td>\n",
              "    </tr>\n",
              "    <tr>\n",
              "      <th>5</th>\n",
              "      <td>5</td>\n",
              "      <td>3.055556e-03</td>\n",
              "      <td>11088</td>\n",
              "      <td>3628800</td>\n",
              "      <td>10</td>\n",
              "    </tr>\n",
              "    <tr>\n",
              "      <th>6</th>\n",
              "      <td>6</td>\n",
              "      <td>5.208333e-04</td>\n",
              "      <td>1890</td>\n",
              "      <td>3628800</td>\n",
              "      <td>10</td>\n",
              "    </tr>\n",
              "    <tr>\n",
              "      <th>7</th>\n",
              "      <td>7</td>\n",
              "      <td>6.613757e-05</td>\n",
              "      <td>240</td>\n",
              "      <td>3628800</td>\n",
              "      <td>10</td>\n",
              "    </tr>\n",
              "    <tr>\n",
              "      <th>8</th>\n",
              "      <td>8</td>\n",
              "      <td>1.240079e-05</td>\n",
              "      <td>45</td>\n",
              "      <td>3628800</td>\n",
              "      <td>10</td>\n",
              "    </tr>\n",
              "    <tr>\n",
              "      <th>9</th>\n",
              "      <td>10</td>\n",
              "      <td>2.755732e-07</td>\n",
              "      <td>1</td>\n",
              "      <td>3628800</td>\n",
              "      <td>10</td>\n",
              "    </tr>\n",
              "  </tbody>\n",
              "</table></div>"
            ],
            "text/plain": [
              "   n_matches  prob(n_matches)  occurence  total_possibilities  n_students\n",
              "0          0     3.678795e-01    1334961              3628800          10\n",
              "1          1     3.678792e-01    1334960              3628800          10\n",
              "2          2     1.839410e-01     667485              3628800          10\n",
              "3          3     6.130952e-02     222480              3628800          10\n",
              "4          4     1.533565e-02      55650              3628800          10\n",
              "5          5     3.055556e-03      11088              3628800          10\n",
              "6          6     5.208333e-04       1890              3628800          10\n",
              "7          7     6.613757e-05        240              3628800          10\n",
              "8          8     1.240079e-05         45              3628800          10\n",
              "9         10     2.755732e-07          1              3628800          10"
            ]
          },
          "execution_count": 6,
          "metadata": {},
          "output_type": "execute_result"
        }
      ],
      "source": [
        "final"
      ]
    },
    {
      "cell_type": "markdown",
      "id": "828e30ca-2929-431d-bf82-485f6000fa71",
      "metadata": {
        "id": "828e30ca-2929-431d-bf82-485f6000fa71"
      },
      "source": [
        "![image.png](attachment:234025e8-1c44-4da4-9ce8-6798fe5394fa.png)"
      ]
    },
    {
      "cell_type": "markdown",
      "id": "4fcee1ba-cc06-48db-8b8b-8ab709abbd21",
      "metadata": {
        "id": "4fcee1ba-cc06-48db-8b8b-8ab709abbd21"
      },
      "source": [
        "* https://blogs.sas.com/content/iml/2013/12/04/probability-of-pulling-your-own-name-from-a-hat.html\n",
        "* https://mindyourdecisions.com/blog/2015/12/06/secret-santa-surprising-probability-sunday-puzzle/\n",
        "* https://leancrew.com/all-this/2020/05/arrangements-and-derangements/\n",
        "* http://oeis.org/wiki/Number_of_arrangements#Example\n",
        "* https://leancrew.com/all-this/2020/05/arrangements-and-derangements/"
      ]
    },
    {
      "cell_type": "markdown",
      "id": "60bbe04f-7051-40b4-a8f7-537be852973e",
      "metadata": {
        "id": "60bbe04f-7051-40b4-a8f7-537be852973e"
      },
      "source": [
        "![image.png](attachment:5a78919e-2095-46b0-b6f2-07d90cc16672.png)"
      ]
    },
    {
      "cell_type": "code",
      "execution_count": null,
      "id": "12be3905-69d8-4b39-8179-63c3b43752bc",
      "metadata": {
        "id": "12be3905-69d8-4b39-8179-63c3b43752bc",
        "outputId": "52f62969-cc67-47f3-b494-896cbee1a778"
      },
      "outputs": [
        {
          "name": "stdout",
          "output_type": "stream",
          "text": [
            "|    |   n_matches |   prob(n_matches) |   occurence |   total_possibilities |   n_students |\n",
            "|---:|------------:|------------------:|------------:|----------------------:|-------------:|\n",
            "|  0 |           0 |                 1 |           1 |                     1 |            0 |\n",
            "\n",
            "|    |   n_matches |   prob(n_matches) |   occurence |   total_possibilities |   n_students |\n",
            "|---:|------------:|------------------:|------------:|----------------------:|-------------:|\n",
            "|  0 |           1 |                 1 |           1 |                     1 |            1 |\n",
            "\n",
            "|    |   n_matches |   prob(n_matches) |   occurence |   total_possibilities |   n_students |\n",
            "|---:|------------:|------------------:|------------:|----------------------:|-------------:|\n",
            "|  0 |           0 |               0.5 |           1 |                     2 |            2 |\n",
            "|  1 |           2 |               0.5 |           1 |                     2 |            2 |\n",
            "\n",
            "|    |   n_matches |   prob(n_matches) |   occurence |   total_possibilities |   n_students |\n",
            "|---:|------------:|------------------:|------------:|----------------------:|-------------:|\n",
            "|  0 |           0 |          0.333333 |           2 |                     6 |            3 |\n",
            "|  1 |           1 |          0.5      |           3 |                     6 |            3 |\n",
            "|  2 |           3 |          0.166667 |           1 |                     6 |            3 |\n",
            "\n",
            "|    |   n_matches |   prob(n_matches) |   occurence |   total_possibilities |   n_students |\n",
            "|---:|------------:|------------------:|------------:|----------------------:|-------------:|\n",
            "|  0 |           0 |         0.375     |           9 |                    24 |            4 |\n",
            "|  1 |           1 |         0.333333  |           8 |                    24 |            4 |\n",
            "|  2 |           2 |         0.25      |           6 |                    24 |            4 |\n",
            "|  3 |           4 |         0.0416667 |           1 |                    24 |            4 |\n",
            "\n",
            "|    |   n_matches |   prob(n_matches) |   occurence |   total_possibilities |   n_students |\n",
            "|---:|------------:|------------------:|------------:|----------------------:|-------------:|\n",
            "|  0 |           0 |        0.366667   |          44 |                   120 |            5 |\n",
            "|  1 |           1 |        0.375      |          45 |                   120 |            5 |\n",
            "|  2 |           2 |        0.166667   |          20 |                   120 |            5 |\n",
            "|  3 |           3 |        0.0833333  |          10 |                   120 |            5 |\n",
            "|  4 |           5 |        0.00833333 |           1 |                   120 |            5 |\n",
            "\n",
            "|    |   n_matches |   prob(n_matches) |   occurence |   total_possibilities |   n_students |\n",
            "|---:|------------:|------------------:|------------:|----------------------:|-------------:|\n",
            "|  0 |           0 |        0.368056   |         265 |                   720 |            6 |\n",
            "|  1 |           1 |        0.366667   |         264 |                   720 |            6 |\n",
            "|  2 |           2 |        0.1875     |         135 |                   720 |            6 |\n",
            "|  3 |           3 |        0.0555556  |          40 |                   720 |            6 |\n",
            "|  4 |           4 |        0.0208333  |          15 |                   720 |            6 |\n",
            "|  5 |           6 |        0.00138889 |           1 |                   720 |            6 |\n",
            "\n",
            "|    |   n_matches |   prob(n_matches) |   occurence |   total_possibilities |   n_students |\n",
            "|---:|------------:|------------------:|------------:|----------------------:|-------------:|\n",
            "|  0 |           0 |       0.367857    |        1854 |                  5040 |            7 |\n",
            "|  1 |           1 |       0.368056    |        1855 |                  5040 |            7 |\n",
            "|  2 |           2 |       0.183333    |         924 |                  5040 |            7 |\n",
            "|  3 |           3 |       0.0625      |         315 |                  5040 |            7 |\n",
            "|  4 |           4 |       0.0138889   |          70 |                  5040 |            7 |\n",
            "|  5 |           5 |       0.00416667  |          21 |                  5040 |            7 |\n",
            "|  6 |           7 |       0.000198413 |           1 |                  5040 |            7 |\n",
            "\n",
            "|    |   n_matches |   prob(n_matches) |   occurence |   total_possibilities |   n_students |\n",
            "|---:|------------:|------------------:|------------:|----------------------:|-------------:|\n",
            "|  0 |           0 |       0.367882    |       14833 |                 40320 |            8 |\n",
            "|  1 |           1 |       0.367857    |       14832 |                 40320 |            8 |\n",
            "|  2 |           2 |       0.184028    |        7420 |                 40320 |            8 |\n",
            "|  3 |           3 |       0.0611111   |        2464 |                 40320 |            8 |\n",
            "|  4 |           4 |       0.015625    |         630 |                 40320 |            8 |\n",
            "|  5 |           5 |       0.00277778  |         112 |                 40320 |            8 |\n",
            "|  6 |           6 |       0.000694444 |          28 |                 40320 |            8 |\n",
            "|  7 |           8 |       2.48016e-05 |           1 |                 40320 |            8 |\n",
            "\n",
            "|    |   n_matches |   prob(n_matches) |   occurence |   total_possibilities |   n_students |\n",
            "|---:|------------:|------------------:|------------:|----------------------:|-------------:|\n",
            "|  0 |           0 |       0.367879    |      133496 |                362880 |            9 |\n",
            "|  1 |           1 |       0.367882    |      133497 |                362880 |            9 |\n",
            "|  2 |           2 |       0.183929    |       66744 |                362880 |            9 |\n",
            "|  3 |           3 |       0.0613426   |       22260 |                362880 |            9 |\n",
            "|  4 |           4 |       0.0152778   |        5544 |                362880 |            9 |\n",
            "|  5 |           5 |       0.003125    |        1134 |                362880 |            9 |\n",
            "|  6 |           6 |       0.000462963 |         168 |                362880 |            9 |\n",
            "|  7 |           7 |       9.92063e-05 |          36 |                362880 |            9 |\n",
            "|  8 |           9 |       2.75573e-06 |           1 |                362880 |            9 |\n",
            "\n",
            "|    |   n_matches |   prob(n_matches) |        occurence |   total_possibilities |   n_students |\n",
            "|---:|------------:|------------------:|-----------------:|----------------------:|-------------:|\n",
            "|  0 |           0 |       0.367879    |      1.33496e+06 |            3.6288e+06 |           10 |\n",
            "|  1 |           1 |       0.367879    |      1.33496e+06 |            3.6288e+06 |           10 |\n",
            "|  2 |           2 |       0.183941    | 667485           |            3.6288e+06 |           10 |\n",
            "|  3 |           3 |       0.0613095   | 222480           |            3.6288e+06 |           10 |\n",
            "|  4 |           4 |       0.0153356   |  55650           |            3.6288e+06 |           10 |\n",
            "|  5 |           5 |       0.00305556  |  11088           |            3.6288e+06 |           10 |\n",
            "|  6 |           6 |       0.000520833 |   1890           |            3.6288e+06 |           10 |\n",
            "|  7 |           7 |       6.61376e-05 |    240           |            3.6288e+06 |           10 |\n",
            "|  8 |           8 |       1.24008e-05 |     45           |            3.6288e+06 |           10 |\n",
            "|  9 |          10 |       2.75573e-07 |      1           |            3.6288e+06 |           10 |\n",
            "\n"
          ]
        }
      ],
      "source": [
        "for i in range(0,11):\n",
        "  print(create_prob_df(i).to_markdown())\n",
        "  print()"
      ]
    }
  ],
  "metadata": {
    "kernelspec": {
      "display_name": "Python 3 (ipykernel)",
      "language": "python",
      "name": "python3"
    },
    "language_info": {
      "codemirror_mode": {
        "name": "ipython",
        "version": 3
      },
      "file_extension": ".py",
      "mimetype": "text/x-python",
      "name": "python",
      "nbconvert_exporter": "python",
      "pygments_lexer": "ipython3",
      "version": "3.9.14"
    },
    "colab": {
      "provenance": []
    }
  },
  "nbformat": 4,
  "nbformat_minor": 5
}