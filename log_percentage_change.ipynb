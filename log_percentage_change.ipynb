{
 "cells": [
  {
   "cell_type": "code",
   "execution_count": null,
   "id": "da1aab5e-8f3e-4b59-8021-c43be39f14aa",
   "metadata": {
    "id": "da1aab5e-8f3e-4b59-8021-c43be39f14aa"
   },
   "outputs": [],
   "source": [
    "import numpy as np\n",
    "import pandas as pd\n"
   ]
  },
  {
   "cell_type": "code",
   "execution_count": null,
   "id": "1fcd433b-3a75-4c5f-b8a7-7b0a01817401",
   "metadata": {
    "id": "1fcd433b-3a75-4c5f-b8a7-7b0a01817401"
   },
   "outputs": [],
   "source": [
    "df = pd.DataFrame()"
   ]
  },
  {
   "cell_type": "code",
   "execution_count": null,
   "id": "d20a3543-a706-41c2-b5cd-1d30744f077e",
   "metadata": {
    "id": "d20a3543-a706-41c2-b5cd-1d30744f077e",
    "outputId": "ff04c566-d319-4d0d-b57b-e1efa22b17f0"
   },
   "outputs": [
    {
     "data": {
      "text/html": [
       "<div>\n",
       "<style scoped>\n",
       "    .dataframe tbody tr th:only-of-type {\n",
       "        vertical-align: middle;\n",
       "    }\n",
       "\n",
       "    .dataframe tbody tr th {\n",
       "        vertical-align: top;\n",
       "    }\n",
       "\n",
       "    .dataframe thead th {\n",
       "        text-align: right;\n",
       "    }\n",
       "</style>\n",
       "<table border=\"1\" class=\"dataframe\">\n",
       "  <thead>\n",
       "    <tr style=\"text-align: right;\">\n",
       "      <th></th>\n",
       "      <th>x1</th>\n",
       "      <th>x2</th>\n",
       "    </tr>\n",
       "  </thead>\n",
       "  <tbody>\n",
       "    <tr>\n",
       "      <th>0</th>\n",
       "      <td>100</td>\n",
       "      <td>102</td>\n",
       "    </tr>\n",
       "    <tr>\n",
       "      <th>1</th>\n",
       "      <td>100</td>\n",
       "      <td>105</td>\n",
       "    </tr>\n",
       "    <tr>\n",
       "      <th>2</th>\n",
       "      <td>100</td>\n",
       "      <td>170</td>\n",
       "    </tr>\n",
       "  </tbody>\n",
       "</table>\n",
       "</div>"
      ],
      "text/plain": [
       "    x1   x2\n",
       "0  100  102\n",
       "1  100  105\n",
       "2  100  170"
      ]
     },
     "execution_count": 68,
     "metadata": {},
     "output_type": "execute_result"
    }
   ],
   "source": [
    "df['x1'] = [100, 100, 100]\n",
    "df['x2'] = df.x1 + [2,5,70]\n",
    "df"
   ]
  },
  {
   "cell_type": "code",
   "execution_count": null,
   "id": "6a072dac-5ca7-44c5-adab-d19ec11cc576",
   "metadata": {
    "id": "6a072dac-5ca7-44c5-adab-d19ec11cc576",
    "outputId": "38eda8a7-b40a-4dd7-ae45-37d5d73d2c30"
   },
   "outputs": [
    {
     "data": {
      "text/html": [
       "<div>\n",
       "<style scoped>\n",
       "    .dataframe tbody tr th:only-of-type {\n",
       "        vertical-align: middle;\n",
       "    }\n",
       "\n",
       "    .dataframe tbody tr th {\n",
       "        vertical-align: top;\n",
       "    }\n",
       "\n",
       "    .dataframe thead th {\n",
       "        text-align: right;\n",
       "    }\n",
       "</style>\n",
       "<table border=\"1\" class=\"dataframe\">\n",
       "  <thead>\n",
       "    <tr style=\"text-align: right;\">\n",
       "      <th></th>\n",
       "      <th>ratio</th>\n",
       "      <th>gr_rate</th>\n",
       "      <th>ln_approx</th>\n",
       "      <th>perct_point_difference</th>\n",
       "    </tr>\n",
       "  </thead>\n",
       "  <tbody>\n",
       "    <tr>\n",
       "      <th>0</th>\n",
       "      <td>1.02</td>\n",
       "      <td>0.02</td>\n",
       "      <td>0.019803</td>\n",
       "      <td>0.000197</td>\n",
       "    </tr>\n",
       "    <tr>\n",
       "      <th>1</th>\n",
       "      <td>1.05</td>\n",
       "      <td>0.05</td>\n",
       "      <td>0.048790</td>\n",
       "      <td>0.001210</td>\n",
       "    </tr>\n",
       "    <tr>\n",
       "      <th>2</th>\n",
       "      <td>1.70</td>\n",
       "      <td>0.70</td>\n",
       "      <td>0.530628</td>\n",
       "      <td>0.169372</td>\n",
       "    </tr>\n",
       "  </tbody>\n",
       "</table>\n",
       "</div>"
      ],
      "text/plain": [
       "   ratio  gr_rate  ln_approx  perct_point_difference\n",
       "0   1.02     0.02   0.019803                0.000197\n",
       "1   1.05     0.05   0.048790                0.001210\n",
       "2   1.70     0.70   0.530628                0.169372"
      ]
     },
     "execution_count": 74,
     "metadata": {},
     "output_type": "execute_result"
    }
   ],
   "source": [
    "df2 = pd.DataFrame()\n",
    "df2['ratio'] = df.x2 / df.x1\n",
    "df2['gr_rate']= df.pct_change(axis=1)['x2']\n",
    "df2['ln_approx'] = np.log(df2['ratio'])\n",
    "df2['perct_point_difference'] = df2['gr_rate'] - df2['ln_approx']\n",
    "df2"
   ]
  },
  {
   "cell_type": "markdown",
   "id": "925e0194-ccd0-4716-9896-e6724ecea13f",
   "metadata": {
    "id": "925e0194-ccd0-4716-9896-e6724ecea13f"
   },
   "source": [
    "We can either do $base * (1 + growth rate) = new value$\n",
    "\n",
    "or $base * e^{growth rate} = new value$"
   ]
  },
  {
   "cell_type": "code",
   "execution_count": null,
   "id": "31ae540e-935a-45ab-97b3-cd26b145fd25",
   "metadata": {
    "id": "31ae540e-935a-45ab-97b3-cd26b145fd25",
    "outputId": "9b65cc89-59a1-4425-aa5d-261d775c0211"
   },
   "outputs": [
    {
     "data": {
      "application/vnd.plotly.v1+json": {
       "config": {
        "plotlyServerURL": "https://plot.ly"
       },
       "data": [
        {
         "hovertemplate": "x=%{x}<br>y=%{y}<extra></extra>",
         "legendgroup": "",
         "line": {
          "color": "#636efa",
          "dash": "solid"
         },
         "marker": {
          "symbol": "circle"
         },
         "mode": "lines",
         "name": "",
         "orientation": "v",
         "showlegend": false,
         "type": "scatter",
         "x": [
          -90,
          -88.18181818181819,
          -86.36363636363636,
          -84.54545454545455,
          -82.72727272727273,
          -80.9090909090909,
          -79.0909090909091,
          -77.27272727272727,
          -75.45454545454545,
          -73.63636363636363,
          -71.81818181818181,
          -70,
          -68.18181818181819,
          -66.36363636363636,
          -64.54545454545455,
          -62.727272727272734,
          -60.909090909090914,
          -59.09090909090909,
          -57.27272727272727,
          -55.45454545454545,
          -53.63636363636364,
          -51.81818181818182,
          -50,
          -48.18181818181818,
          -46.36363636363636,
          -44.54545454545455,
          -42.72727272727273,
          -40.90909090909091,
          -39.0909090909091,
          -37.27272727272728,
          -35.45454545454546,
          -33.63636363636364,
          -31.818181818181824,
          -30.000000000000004,
          -28.181818181818187,
          -26.363636363636367,
          -24.545454545454547,
          -22.72727272727273,
          -20.90909090909091,
          -19.090909090909093,
          -17.272727272727273,
          -15.454545454545466,
          -13.636363636363647,
          -11.818181818181827,
          -10.000000000000009,
          -8.18181818181819,
          -6.363636363636371,
          -4.545454545454552,
          -2.7272727272727337,
          -0.909090909090915,
          0.9090909090909038,
          2.7272727272727337,
          4.545454545454541,
          6.363636363636371,
          8.18181818181818,
          10.000000000000009,
          11.818181818181817,
          13.636363636363647,
          15.454545454545453,
          17.272727272727284,
          19.090909090909093,
          20.90909090909092,
          22.72727272727273,
          24.54545454545456,
          26.363636363636367,
          28.181818181818173,
          30.000000000000004,
          31.818181818181813,
          33.63636363636364,
          35.45454545454545,
          37.27272727272728,
          39.090909090909086,
          40.90909090909092,
          42.72727272727273,
          44.545454545454554,
          46.36363636363636,
          48.181818181818194,
          50,
          51.81818181818183,
          53.63636363636364,
          55.45454545454547,
          57.27272727272727,
          59.09090909090908,
          60.909090909090914,
          62.72727272727272,
          64.54545454545455,
          66.36363636363636,
          68.18181818181819,
          70,
          71.81818181818183,
          73.63636363636363,
          75.45454545454547,
          77.27272727272727,
          79.0909090909091,
          80.9090909090909,
          82.72727272727273,
          84.54545454545455,
          86.36363636363636,
          88.18181818181819,
          89.99999999999999
         ],
         "xaxis": "x",
         "y": [
          -90,
          -88.18181818181819,
          -86.36363636363636,
          -84.54545454545455,
          -82.72727272727273,
          -80.9090909090909,
          -79.0909090909091,
          -77.27272727272727,
          -75.45454545454545,
          -73.63636363636363,
          -71.81818181818181,
          -70,
          -68.18181818181819,
          -66.36363636363636,
          -64.54545454545455,
          -62.727272727272734,
          -60.909090909090914,
          -59.09090909090909,
          -57.27272727272727,
          -55.45454545454545,
          -53.63636363636364,
          -51.81818181818182,
          -50,
          -48.18181818181818,
          -46.36363636363636,
          -44.54545454545455,
          -42.72727272727273,
          -40.90909090909091,
          -39.0909090909091,
          -37.27272727272728,
          -35.45454545454546,
          -33.63636363636364,
          -31.818181818181824,
          -30.000000000000004,
          -28.181818181818187,
          -26.363636363636367,
          -24.545454545454547,
          -22.72727272727273,
          -20.90909090909091,
          -19.090909090909093,
          -17.272727272727273,
          -15.454545454545466,
          -13.636363636363647,
          -11.818181818181827,
          -10.000000000000009,
          -8.18181818181819,
          -6.363636363636371,
          -4.545454545454552,
          -2.7272727272727337,
          -0.909090909090915,
          0.9090909090909038,
          2.7272727272727337,
          4.545454545454541,
          6.363636363636371,
          8.18181818181818,
          10.000000000000009,
          11.818181818181817,
          13.636363636363647,
          15.454545454545453,
          17.272727272727284,
          19.090909090909093,
          20.90909090909092,
          22.72727272727273,
          24.54545454545456,
          26.363636363636367,
          28.181818181818173,
          30.000000000000004,
          31.818181818181813,
          33.63636363636364,
          35.45454545454545,
          37.27272727272728,
          39.090909090909086,
          40.90909090909092,
          42.72727272727273,
          44.545454545454554,
          46.36363636363636,
          48.181818181818194,
          50,
          51.81818181818183,
          53.63636363636364,
          55.45454545454547,
          57.27272727272727,
          59.09090909090908,
          60.909090909090914,
          62.72727272727272,
          64.54545454545455,
          66.36363636363636,
          68.18181818181819,
          70,
          71.81818181818183,
          73.63636363636363,
          75.45454545454547,
          77.27272727272727,
          79.0909090909091,
          80.9090909090909,
          82.72727272727273,
          84.54545454545455,
          86.36363636363636,
          88.18181818181819,
          89.99999999999999
         ],
         "yaxis": "y"
        },
        {
         "hovertemplate": "x=%{x}<br>y=%{y}<extra></extra>",
         "legendgroup": "",
         "line": {
          "color": "#636efa",
          "dash": "solid"
         },
         "marker": {
          "symbol": "circle"
         },
         "mode": "lines",
         "name": "",
         "orientation": "v",
         "showlegend": false,
         "type": "scatter",
         "x": [
          -90,
          -88.18181818181819,
          -86.36363636363636,
          -84.54545454545455,
          -82.72727272727273,
          -80.9090909090909,
          -79.0909090909091,
          -77.27272727272727,
          -75.45454545454545,
          -73.63636363636363,
          -71.81818181818181,
          -70,
          -68.18181818181819,
          -66.36363636363636,
          -64.54545454545455,
          -62.727272727272734,
          -60.909090909090914,
          -59.09090909090909,
          -57.27272727272727,
          -55.45454545454545,
          -53.63636363636364,
          -51.81818181818182,
          -50,
          -48.18181818181818,
          -46.36363636363636,
          -44.54545454545455,
          -42.72727272727273,
          -40.90909090909091,
          -39.0909090909091,
          -37.27272727272728,
          -35.45454545454546,
          -33.63636363636364,
          -31.818181818181824,
          -30.000000000000004,
          -28.181818181818187,
          -26.363636363636367,
          -24.545454545454547,
          -22.72727272727273,
          -20.90909090909091,
          -19.090909090909093,
          -17.272727272727273,
          -15.454545454545466,
          -13.636363636363647,
          -11.818181818181827,
          -10.000000000000009,
          -8.18181818181819,
          -6.363636363636371,
          -4.545454545454552,
          -2.7272727272727337,
          -0.909090909090915,
          0.9090909090909038,
          2.7272727272727337,
          4.545454545454541,
          6.363636363636371,
          8.18181818181818,
          10.000000000000009,
          11.818181818181817,
          13.636363636363647,
          15.454545454545453,
          17.272727272727284,
          19.090909090909093,
          20.90909090909092,
          22.72727272727273,
          24.54545454545456,
          26.363636363636367,
          28.181818181818173,
          30.000000000000004,
          31.818181818181813,
          33.63636363636364,
          35.45454545454545,
          37.27272727272728,
          39.090909090909086,
          40.90909090909092,
          42.72727272727273,
          44.545454545454554,
          46.36363636363636,
          48.181818181818194,
          50,
          51.81818181818183,
          53.63636363636364,
          55.45454545454547,
          57.27272727272727,
          59.09090909090908,
          60.909090909090914,
          62.72727272727272,
          64.54545454545455,
          66.36363636363636,
          68.18181818181819,
          70,
          71.81818181818183,
          73.63636363636363,
          75.45454545454547,
          77.27272727272727,
          79.0909090909091,
          80.9090909090909,
          82.72727272727273,
          84.54545454545455,
          86.36363636363636,
          88.18181818181819,
          89.99999999999999
         ],
         "xaxis": "x",
         "y": [
          -230.25850929940455,
          -213.55310083308794,
          -199.24301646902063,
          -186.72670217362003,
          -175.6041386625976,
          -165.5957928068993,
          -156.49861498632666,
          -148.16045409242156,
          -140.4643499788087,
          -133.3184535805942,
          -126.64931613072699,
          -120.39728043259362,
          -114.51323043030027,
          -108.95624531481917,
          -103.69187196627698,
          -98.69082990881085,
          -93.92802500988539,
          -89.38178760220966,
          -85.03327640823576,
          -80.86600676817896,
          -76.86547330680905,
          -73.01884522402943,
          -69.31471805599453,
          -65.7429097957866,
          -62.29429218866967,
          -58.9606501619105,
          -55.73456394008836,
          -52.60930958967791,
          -49.57877464014503,
          -46.637386119515696,
          -43.78004887511009,
          -41.002092464402516,
          -38.299225225610584,
          -35.66749439387324,
          -33.10325133253948,
          -30.60312111199775,
          -28.163975799581838,
          -25.78291093020998,
          -23.457224713783255,
          -21.18439960602764,
          -18.96208592755662,
          -16.78808726391604,
          -14.66034741918755,
          -12.57693872890335,
          -10.53605156578264,
          -8.535984895115686,
          -6.575137756278054,
          -4.652001563489293,
          -2.765153133051012,
          -0.9132483563272586,
          0.9049835519917856,
          2.69074529199244,
          4.4451762570833795,
          6.169356900533996,
          7.864312731911313,
          9.531017980432493,
          11.170398958000126,
          12.7833371509885,
          14.370672066617503,
          15.933203856925598,
          17.471695740873532,
          18.986876242933764,
          20.479441264601324,
          21.950056003570882,
          23.399356733827556,
          24.8279524585752,
          26.236426446749107,
          27.625337662815813,
          28.995222098632013,
          30.34659401530429,
          31.679947102250814,
          32.995755560001925,
          34.294475112683045,
          35.57654395558918,
          36.842383642781535,
          38.09239991920468,
          39.32698350143462,
          40.546510810816436,
          41.7513446624339,
          42.941834913065726,
          44.118319071024374,
          45.28112287053627,
          46.43056081310978,
          47.56693667814129,
          48.690544004833875,
          49.80166654734096,
          50.90057870490047,
          51.98754592859086,
          53.06282510621704,
          54.126664926722626,
          55.179306225421364,
          56.220982311246935,
          57.251919277133055,
          58.272336294557235,
          59.282445893207615,
          60.28245422666596,
          61.272561324937115,
          62.25296133459919,
          63.223842747295286,
          64.18538861723947
         ],
         "yaxis": "y"
        }
       ],
       "layout": {
        "autosize": true,
        "legend": {
         "tracegroupgap": 0
        },
        "template": {
         "data": {
          "bar": [
           {
            "error_x": {
             "color": "#2a3f5f"
            },
            "error_y": {
             "color": "#2a3f5f"
            },
            "marker": {
             "line": {
              "color": "#E5ECF6",
              "width": 0.5
             },
             "pattern": {
              "fillmode": "overlay",
              "size": 10,
              "solidity": 0.2
             }
            },
            "type": "bar"
           }
          ],
          "barpolar": [
           {
            "marker": {
             "line": {
              "color": "#E5ECF6",
              "width": 0.5
             },
             "pattern": {
              "fillmode": "overlay",
              "size": 10,
              "solidity": 0.2
             }
            },
            "type": "barpolar"
           }
          ],
          "carpet": [
           {
            "aaxis": {
             "endlinecolor": "#2a3f5f",
             "gridcolor": "white",
             "linecolor": "white",
             "minorgridcolor": "white",
             "startlinecolor": "#2a3f5f"
            },
            "baxis": {
             "endlinecolor": "#2a3f5f",
             "gridcolor": "white",
             "linecolor": "white",
             "minorgridcolor": "white",
             "startlinecolor": "#2a3f5f"
            },
            "type": "carpet"
           }
          ],
          "choropleth": [
           {
            "colorbar": {
             "outlinewidth": 0,
             "ticks": ""
            },
            "type": "choropleth"
           }
          ],
          "contour": [
           {
            "colorbar": {
             "outlinewidth": 0,
             "ticks": ""
            },
            "colorscale": [
             [
              0,
              "#0d0887"
             ],
             [
              0.1111111111111111,
              "#46039f"
             ],
             [
              0.2222222222222222,
              "#7201a8"
             ],
             [
              0.3333333333333333,
              "#9c179e"
             ],
             [
              0.4444444444444444,
              "#bd3786"
             ],
             [
              0.5555555555555556,
              "#d8576b"
             ],
             [
              0.6666666666666666,
              "#ed7953"
             ],
             [
              0.7777777777777778,
              "#fb9f3a"
             ],
             [
              0.8888888888888888,
              "#fdca26"
             ],
             [
              1,
              "#f0f921"
             ]
            ],
            "type": "contour"
           }
          ],
          "contourcarpet": [
           {
            "colorbar": {
             "outlinewidth": 0,
             "ticks": ""
            },
            "type": "contourcarpet"
           }
          ],
          "heatmap": [
           {
            "colorbar": {
             "outlinewidth": 0,
             "ticks": ""
            },
            "colorscale": [
             [
              0,
              "#0d0887"
             ],
             [
              0.1111111111111111,
              "#46039f"
             ],
             [
              0.2222222222222222,
              "#7201a8"
             ],
             [
              0.3333333333333333,
              "#9c179e"
             ],
             [
              0.4444444444444444,
              "#bd3786"
             ],
             [
              0.5555555555555556,
              "#d8576b"
             ],
             [
              0.6666666666666666,
              "#ed7953"
             ],
             [
              0.7777777777777778,
              "#fb9f3a"
             ],
             [
              0.8888888888888888,
              "#fdca26"
             ],
             [
              1,
              "#f0f921"
             ]
            ],
            "type": "heatmap"
           }
          ],
          "heatmapgl": [
           {
            "colorbar": {
             "outlinewidth": 0,
             "ticks": ""
            },
            "colorscale": [
             [
              0,
              "#0d0887"
             ],
             [
              0.1111111111111111,
              "#46039f"
             ],
             [
              0.2222222222222222,
              "#7201a8"
             ],
             [
              0.3333333333333333,
              "#9c179e"
             ],
             [
              0.4444444444444444,
              "#bd3786"
             ],
             [
              0.5555555555555556,
              "#d8576b"
             ],
             [
              0.6666666666666666,
              "#ed7953"
             ],
             [
              0.7777777777777778,
              "#fb9f3a"
             ],
             [
              0.8888888888888888,
              "#fdca26"
             ],
             [
              1,
              "#f0f921"
             ]
            ],
            "type": "heatmapgl"
           }
          ],
          "histogram": [
           {
            "marker": {
             "pattern": {
              "fillmode": "overlay",
              "size": 10,
              "solidity": 0.2
             }
            },
            "type": "histogram"
           }
          ],
          "histogram2d": [
           {
            "colorbar": {
             "outlinewidth": 0,
             "ticks": ""
            },
            "colorscale": [
             [
              0,
              "#0d0887"
             ],
             [
              0.1111111111111111,
              "#46039f"
             ],
             [
              0.2222222222222222,
              "#7201a8"
             ],
             [
              0.3333333333333333,
              "#9c179e"
             ],
             [
              0.4444444444444444,
              "#bd3786"
             ],
             [
              0.5555555555555556,
              "#d8576b"
             ],
             [
              0.6666666666666666,
              "#ed7953"
             ],
             [
              0.7777777777777778,
              "#fb9f3a"
             ],
             [
              0.8888888888888888,
              "#fdca26"
             ],
             [
              1,
              "#f0f921"
             ]
            ],
            "type": "histogram2d"
           }
          ],
          "histogram2dcontour": [
           {
            "colorbar": {
             "outlinewidth": 0,
             "ticks": ""
            },
            "colorscale": [
             [
              0,
              "#0d0887"
             ],
             [
              0.1111111111111111,
              "#46039f"
             ],
             [
              0.2222222222222222,
              "#7201a8"
             ],
             [
              0.3333333333333333,
              "#9c179e"
             ],
             [
              0.4444444444444444,
              "#bd3786"
             ],
             [
              0.5555555555555556,
              "#d8576b"
             ],
             [
              0.6666666666666666,
              "#ed7953"
             ],
             [
              0.7777777777777778,
              "#fb9f3a"
             ],
             [
              0.8888888888888888,
              "#fdca26"
             ],
             [
              1,
              "#f0f921"
             ]
            ],
            "type": "histogram2dcontour"
           }
          ],
          "mesh3d": [
           {
            "colorbar": {
             "outlinewidth": 0,
             "ticks": ""
            },
            "type": "mesh3d"
           }
          ],
          "parcoords": [
           {
            "line": {
             "colorbar": {
              "outlinewidth": 0,
              "ticks": ""
             }
            },
            "type": "parcoords"
           }
          ],
          "pie": [
           {
            "automargin": true,
            "type": "pie"
           }
          ],
          "scatter": [
           {
            "fillpattern": {
             "fillmode": "overlay",
             "size": 10,
             "solidity": 0.2
            },
            "type": "scatter"
           }
          ],
          "scatter3d": [
           {
            "line": {
             "colorbar": {
              "outlinewidth": 0,
              "ticks": ""
             }
            },
            "marker": {
             "colorbar": {
              "outlinewidth": 0,
              "ticks": ""
             }
            },
            "type": "scatter3d"
           }
          ],
          "scattercarpet": [
           {
            "marker": {
             "colorbar": {
              "outlinewidth": 0,
              "ticks": ""
             }
            },
            "type": "scattercarpet"
           }
          ],
          "scattergeo": [
           {
            "marker": {
             "colorbar": {
              "outlinewidth": 0,
              "ticks": ""
             }
            },
            "type": "scattergeo"
           }
          ],
          "scattergl": [
           {
            "marker": {
             "colorbar": {
              "outlinewidth": 0,
              "ticks": ""
             }
            },
            "type": "scattergl"
           }
          ],
          "scattermapbox": [
           {
            "marker": {
             "colorbar": {
              "outlinewidth": 0,
              "ticks": ""
             }
            },
            "type": "scattermapbox"
           }
          ],
          "scatterpolar": [
           {
            "marker": {
             "colorbar": {
              "outlinewidth": 0,
              "ticks": ""
             }
            },
            "type": "scatterpolar"
           }
          ],
          "scatterpolargl": [
           {
            "marker": {
             "colorbar": {
              "outlinewidth": 0,
              "ticks": ""
             }
            },
            "type": "scatterpolargl"
           }
          ],
          "scatterternary": [
           {
            "marker": {
             "colorbar": {
              "outlinewidth": 0,
              "ticks": ""
             }
            },
            "type": "scatterternary"
           }
          ],
          "surface": [
           {
            "colorbar": {
             "outlinewidth": 0,
             "ticks": ""
            },
            "colorscale": [
             [
              0,
              "#0d0887"
             ],
             [
              0.1111111111111111,
              "#46039f"
             ],
             [
              0.2222222222222222,
              "#7201a8"
             ],
             [
              0.3333333333333333,
              "#9c179e"
             ],
             [
              0.4444444444444444,
              "#bd3786"
             ],
             [
              0.5555555555555556,
              "#d8576b"
             ],
             [
              0.6666666666666666,
              "#ed7953"
             ],
             [
              0.7777777777777778,
              "#fb9f3a"
             ],
             [
              0.8888888888888888,
              "#fdca26"
             ],
             [
              1,
              "#f0f921"
             ]
            ],
            "type": "surface"
           }
          ],
          "table": [
           {
            "cells": {
             "fill": {
              "color": "#EBF0F8"
             },
             "line": {
              "color": "white"
             }
            },
            "header": {
             "fill": {
              "color": "#C8D4E3"
             },
             "line": {
              "color": "white"
             }
            },
            "type": "table"
           }
          ]
         },
         "layout": {
          "annotationdefaults": {
           "arrowcolor": "#2a3f5f",
           "arrowhead": 0,
           "arrowwidth": 1
          },
          "autotypenumbers": "strict",
          "coloraxis": {
           "colorbar": {
            "outlinewidth": 0,
            "ticks": ""
           }
          },
          "colorscale": {
           "diverging": [
            [
             0,
             "#8e0152"
            ],
            [
             0.1,
             "#c51b7d"
            ],
            [
             0.2,
             "#de77ae"
            ],
            [
             0.3,
             "#f1b6da"
            ],
            [
             0.4,
             "#fde0ef"
            ],
            [
             0.5,
             "#f7f7f7"
            ],
            [
             0.6,
             "#e6f5d0"
            ],
            [
             0.7,
             "#b8e186"
            ],
            [
             0.8,
             "#7fbc41"
            ],
            [
             0.9,
             "#4d9221"
            ],
            [
             1,
             "#276419"
            ]
           ],
           "sequential": [
            [
             0,
             "#0d0887"
            ],
            [
             0.1111111111111111,
             "#46039f"
            ],
            [
             0.2222222222222222,
             "#7201a8"
            ],
            [
             0.3333333333333333,
             "#9c179e"
            ],
            [
             0.4444444444444444,
             "#bd3786"
            ],
            [
             0.5555555555555556,
             "#d8576b"
            ],
            [
             0.6666666666666666,
             "#ed7953"
            ],
            [
             0.7777777777777778,
             "#fb9f3a"
            ],
            [
             0.8888888888888888,
             "#fdca26"
            ],
            [
             1,
             "#f0f921"
            ]
           ],
           "sequentialminus": [
            [
             0,
             "#0d0887"
            ],
            [
             0.1111111111111111,
             "#46039f"
            ],
            [
             0.2222222222222222,
             "#7201a8"
            ],
            [
             0.3333333333333333,
             "#9c179e"
            ],
            [
             0.4444444444444444,
             "#bd3786"
            ],
            [
             0.5555555555555556,
             "#d8576b"
            ],
            [
             0.6666666666666666,
             "#ed7953"
            ],
            [
             0.7777777777777778,
             "#fb9f3a"
            ],
            [
             0.8888888888888888,
             "#fdca26"
            ],
            [
             1,
             "#f0f921"
            ]
           ]
          },
          "colorway": [
           "#636efa",
           "#EF553B",
           "#00cc96",
           "#ab63fa",
           "#FFA15A",
           "#19d3f3",
           "#FF6692",
           "#B6E880",
           "#FF97FF",
           "#FECB52"
          ],
          "font": {
           "color": "#2a3f5f"
          },
          "geo": {
           "bgcolor": "white",
           "lakecolor": "white",
           "landcolor": "#E5ECF6",
           "showlakes": true,
           "showland": true,
           "subunitcolor": "white"
          },
          "hoverlabel": {
           "align": "left"
          },
          "hovermode": "closest",
          "mapbox": {
           "style": "light"
          },
          "paper_bgcolor": "white",
          "plot_bgcolor": "#E5ECF6",
          "polar": {
           "angularaxis": {
            "gridcolor": "white",
            "linecolor": "white",
            "ticks": ""
           },
           "bgcolor": "#E5ECF6",
           "radialaxis": {
            "gridcolor": "white",
            "linecolor": "white",
            "ticks": ""
           }
          },
          "scene": {
           "xaxis": {
            "backgroundcolor": "#E5ECF6",
            "gridcolor": "white",
            "gridwidth": 2,
            "linecolor": "white",
            "showbackground": true,
            "ticks": "",
            "zerolinecolor": "white"
           },
           "yaxis": {
            "backgroundcolor": "#E5ECF6",
            "gridcolor": "white",
            "gridwidth": 2,
            "linecolor": "white",
            "showbackground": true,
            "ticks": "",
            "zerolinecolor": "white"
           },
           "zaxis": {
            "backgroundcolor": "#E5ECF6",
            "gridcolor": "white",
            "gridwidth": 2,
            "linecolor": "white",
            "showbackground": true,
            "ticks": "",
            "zerolinecolor": "white"
           }
          },
          "shapedefaults": {
           "line": {
            "color": "#2a3f5f"
           }
          },
          "ternary": {
           "aaxis": {
            "gridcolor": "white",
            "linecolor": "white",
            "ticks": ""
           },
           "baxis": {
            "gridcolor": "white",
            "linecolor": "white",
            "ticks": ""
           },
           "bgcolor": "#E5ECF6",
           "caxis": {
            "gridcolor": "white",
            "linecolor": "white",
            "ticks": ""
           }
          },
          "title": {
           "x": 0.05
          },
          "xaxis": {
           "automargin": true,
           "gridcolor": "white",
           "linecolor": "white",
           "ticks": "",
           "title": {
            "standoff": 15
           },
           "zerolinecolor": "white",
           "zerolinewidth": 2
          },
          "yaxis": {
           "automargin": true,
           "gridcolor": "white",
           "linecolor": "white",
           "ticks": "",
           "title": {
            "standoff": 15
           },
           "zerolinecolor": "white",
           "zerolinewidth": 2
          }
         }
        },
        "title": {
         "text": "Compare percent change and its approximation with natural logarithm"
        },
        "xaxis": {
         "anchor": "y",
         "autorange": true,
         "domain": [
          0,
          1
         ],
         "range": [
          -90,
          89.99999999999999
         ],
         "title": {
          "text": "x"
         },
         "type": "linear"
        },
        "yaxis": {
         "anchor": "x",
         "autorange": true,
         "domain": [
          0,
          1
         ],
         "range": [
          -248.05064870492703,
          107.79213940552246
         ],
         "title": {
          "text": "y"
         },
         "type": "linear"
        }
       }
      },
      "image/png": "[encoded data removed]",
      "text/html": [
       "<div>                            <div id=\"3e658331-a149-4ada-8685-42b054ffc102\" class=\"plotly-graph-div\" style=\"height:525px; width:100%;\"></div>            <script type=\"text/javascript\">                require([\"plotly\"], function(Plotly) {                    window.PLOTLYENV=window.PLOTLYENV || {};                                    if (document.getElementById(\"3e658331-a149-4ada-8685-42b054ffc102\")) {                    Plotly.newPlot(                        \"3e658331-a149-4ada-8685-42b054ffc102\",                        [{\"hovertemplate\":\"x=%{x}<br>y=%{y}<extra></extra>\",\"legendgroup\":\"\",\"line\":{\"color\":\"#636efa\",\"dash\":\"solid\"},\"marker\":{\"symbol\":\"circle\"},\"mode\":\"lines\",\"name\":\"\",\"orientation\":\"v\",\"showlegend\":false,\"x\":[-90.0,-88.18181818181819,-86.36363636363636,-84.54545454545455,-82.72727272727273,-80.9090909090909,-79.0909090909091,-77.27272727272727,-75.45454545454545,-73.63636363636363,-71.81818181818181,-70.0,-68.18181818181819,-66.36363636363636,-64.54545454545455,-62.727272727272734,-60.909090909090914,-59.09090909090909,-57.27272727272727,-55.45454545454545,-53.63636363636364,-51.81818181818182,-50.0,-48.18181818181818,-46.36363636363636,-44.54545454545455,-42.72727272727273,-40.90909090909091,-39.0909090909091,-37.27272727272728,-35.45454545454546,-33.63636363636364,-31.818181818181824,-30.000000000000004,-28.181818181818187,-26.363636363636367,-24.545454545454547,-22.72727272727273,-20.90909090909091,-19.090909090909093,-17.272727272727273,-15.454545454545466,-13.636363636363647,-11.818181818181827,-10.000000000000009,-8.18181818181819,-6.363636363636371,-4.545454545454552,-2.7272727272727337,-0.909090909090915,0.9090909090909038,2.7272727272727337,4.545454545454541,6.363636363636371,8.18181818181818,10.000000000000009,11.818181818181817,13.636363636363647,15.454545454545453,17.272727272727284,19.090909090909093,20.90909090909092,22.72727272727273,24.54545454545456,26.363636363636367,28.181818181818173,30.000000000000004,31.818181818181813,33.63636363636364,35.45454545454545,37.27272727272728,39.090909090909086,40.90909090909092,42.72727272727273,44.545454545454554,46.36363636363636,48.181818181818194,50.0,51.81818181818183,53.63636363636364,55.45454545454547,57.27272727272727,59.09090909090908,60.909090909090914,62.72727272727272,64.54545454545455,66.36363636363636,68.18181818181819,70.0,71.81818181818183,73.63636363636363,75.45454545454547,77.27272727272727,79.0909090909091,80.9090909090909,82.72727272727273,84.54545454545455,86.36363636363636,88.18181818181819,89.99999999999999],\"xaxis\":\"x\",\"y\":[-90.0,-88.18181818181819,-86.36363636363636,-84.54545454545455,-82.72727272727273,-80.9090909090909,-79.0909090909091,-77.27272727272727,-75.45454545454545,-73.63636363636363,-71.81818181818181,-70.0,-68.18181818181819,-66.36363636363636,-64.54545454545455,-62.727272727272734,-60.909090909090914,-59.09090909090909,-57.27272727272727,-55.45454545454545,-53.63636363636364,-51.81818181818182,-50.0,-48.18181818181818,-46.36363636363636,-44.54545454545455,-42.72727272727273,-40.90909090909091,-39.0909090909091,-37.27272727272728,-35.45454545454546,-33.63636363636364,-31.818181818181824,-30.000000000000004,-28.181818181818187,-26.363636363636367,-24.545454545454547,-22.72727272727273,-20.90909090909091,-19.090909090909093,-17.272727272727273,-15.454545454545466,-13.636363636363647,-11.818181818181827,-10.000000000000009,-8.18181818181819,-6.363636363636371,-4.545454545454552,-2.7272727272727337,-0.909090909090915,0.9090909090909038,2.7272727272727337,4.545454545454541,6.363636363636371,8.18181818181818,10.000000000000009,11.818181818181817,13.636363636363647,15.454545454545453,17.272727272727284,19.090909090909093,20.90909090909092,22.72727272727273,24.54545454545456,26.363636363636367,28.181818181818173,30.000000000000004,31.818181818181813,33.63636363636364,35.45454545454545,37.27272727272728,39.090909090909086,40.90909090909092,42.72727272727273,44.545454545454554,46.36363636363636,48.181818181818194,50.0,51.81818181818183,53.63636363636364,55.45454545454547,57.27272727272727,59.09090909090908,60.909090909090914,62.72727272727272,64.54545454545455,66.36363636363636,68.18181818181819,70.0,71.81818181818183,73.63636363636363,75.45454545454547,77.27272727272727,79.0909090909091,80.9090909090909,82.72727272727273,84.54545454545455,86.36363636363636,88.18181818181819,89.99999999999999],\"yaxis\":\"y\",\"type\":\"scatter\"},{\"hovertemplate\":\"x=%{x}<br>y=%{y}<extra></extra>\",\"legendgroup\":\"\",\"line\":{\"color\":\"#636efa\",\"dash\":\"solid\"},\"marker\":{\"symbol\":\"circle\"},\"mode\":\"lines\",\"name\":\"\",\"orientation\":\"v\",\"showlegend\":false,\"x\":[-90.0,-88.18181818181819,-86.36363636363636,-84.54545454545455,-82.72727272727273,-80.9090909090909,-79.0909090909091,-77.27272727272727,-75.45454545454545,-73.63636363636363,-71.81818181818181,-70.0,-68.18181818181819,-66.36363636363636,-64.54545454545455,-62.727272727272734,-60.909090909090914,-59.09090909090909,-57.27272727272727,-55.45454545454545,-53.63636363636364,-51.81818181818182,-50.0,-48.18181818181818,-46.36363636363636,-44.54545454545455,-42.72727272727273,-40.90909090909091,-39.0909090909091,-37.27272727272728,-35.45454545454546,-33.63636363636364,-31.818181818181824,-30.000000000000004,-28.181818181818187,-26.363636363636367,-24.545454545454547,-22.72727272727273,-20.90909090909091,-19.090909090909093,-17.272727272727273,-15.454545454545466,-13.636363636363647,-11.818181818181827,-10.000000000000009,-8.18181818181819,-6.363636363636371,-4.545454545454552,-2.7272727272727337,-0.909090909090915,0.9090909090909038,2.7272727272727337,4.545454545454541,6.363636363636371,8.18181818181818,10.000000000000009,11.818181818181817,13.636363636363647,15.454545454545453,17.272727272727284,19.090909090909093,20.90909090909092,22.72727272727273,24.54545454545456,26.363636363636367,28.181818181818173,30.000000000000004,31.818181818181813,33.63636363636364,35.45454545454545,37.27272727272728,39.090909090909086,40.90909090909092,42.72727272727273,44.545454545454554,46.36363636363636,48.181818181818194,50.0,51.81818181818183,53.63636363636364,55.45454545454547,57.27272727272727,59.09090909090908,60.909090909090914,62.72727272727272,64.54545454545455,66.36363636363636,68.18181818181819,70.0,71.81818181818183,73.63636363636363,75.45454545454547,77.27272727272727,79.0909090909091,80.9090909090909,82.72727272727273,84.54545454545455,86.36363636363636,88.18181818181819,89.99999999999999],\"xaxis\":\"x\",\"y\":[-230.25850929940455,-213.55310083308794,-199.24301646902063,-186.72670217362003,-175.6041386625976,-165.5957928068993,-156.49861498632666,-148.16045409242156,-140.4643499788087,-133.3184535805942,-126.64931613072699,-120.39728043259362,-114.51323043030027,-108.95624531481917,-103.69187196627698,-98.69082990881085,-93.92802500988539,-89.38178760220966,-85.03327640823576,-80.86600676817896,-76.86547330680905,-73.01884522402943,-69.31471805599453,-65.7429097957866,-62.29429218866967,-58.9606501619105,-55.73456394008836,-52.60930958967791,-49.57877464014503,-46.637386119515696,-43.78004887511009,-41.002092464402516,-38.299225225610584,-35.66749439387324,-33.10325133253948,-30.60312111199775,-28.163975799581838,-25.78291093020998,-23.457224713783255,-21.18439960602764,-18.96208592755662,-16.78808726391604,-14.66034741918755,-12.57693872890335,-10.53605156578264,-8.535984895115686,-6.575137756278054,-4.652001563489293,-2.765153133051012,-0.9132483563272586,0.9049835519917856,2.69074529199244,4.4451762570833795,6.169356900533996,7.864312731911313,9.531017980432493,11.170398958000126,12.7833371509885,14.370672066617503,15.933203856925598,17.471695740873532,18.986876242933764,20.479441264601324,21.950056003570882,23.399356733827556,24.8279524585752,26.236426446749107,27.625337662815813,28.995222098632013,30.34659401530429,31.679947102250814,32.995755560001925,34.294475112683045,35.57654395558918,36.842383642781535,38.09239991920468,39.32698350143462,40.546510810816436,41.7513446624339,42.941834913065726,44.118319071024374,45.28112287053627,46.43056081310978,47.56693667814129,48.690544004833875,49.80166654734096,50.90057870490047,51.98754592859086,53.06282510621704,54.126664926722626,55.179306225421364,56.220982311246935,57.251919277133055,58.272336294557235,59.282445893207615,60.28245422666596,61.272561324937115,62.25296133459919,63.223842747295286,64.18538861723947],\"yaxis\":\"y\",\"type\":\"scatter\"}],                        {\"template\":{\"data\":{\"histogram2dcontour\":[{\"type\":\"histogram2dcontour\",\"colorbar\":{\"outlinewidth\":0,\"ticks\":\"\"},\"colorscale\":[[0.0,\"#0d0887\"],[0.1111111111111111,\"#46039f\"],[0.2222222222222222,\"#7201a8\"],[0.3333333333333333,\"#9c179e\"],[0.4444444444444444,\"#bd3786\"],[0.5555555555555556,\"#d8576b\"],[0.6666666666666666,\"#ed7953\"],[0.7777777777777778,\"#fb9f3a\"],[0.8888888888888888,\"#fdca26\"],[1.0,\"#f0f921\"]]}],\"choropleth\":[{\"type\":\"choropleth\",\"colorbar\":{\"outlinewidth\":0,\"ticks\":\"\"}}],\"histogram2d\":[{\"type\":\"histogram2d\",\"colorbar\":{\"outlinewidth\":0,\"ticks\":\"\"},\"colorscale\":[[0.0,\"#0d0887\"],[0.1111111111111111,\"#46039f\"],[0.2222222222222222,\"#7201a8\"],[0.3333333333333333,\"#9c179e\"],[0.4444444444444444,\"#bd3786\"],[0.5555555555555556,\"#d8576b\"],[0.6666666666666666,\"#ed7953\"],[0.7777777777777778,\"#fb9f3a\"],[0.8888888888888888,\"#fdca26\"],[1.0,\"#f0f921\"]]}],\"heatmap\":[{\"type\":\"heatmap\",\"colorbar\":{\"outlinewidth\":0,\"ticks\":\"\"},\"colorscale\":[[0.0,\"#0d0887\"],[0.1111111111111111,\"#46039f\"],[0.2222222222222222,\"#7201a8\"],[0.3333333333333333,\"#9c179e\"],[0.4444444444444444,\"#bd3786\"],[0.5555555555555556,\"#d8576b\"],[0.6666666666666666,\"#ed7953\"],[0.7777777777777778,\"#fb9f3a\"],[0.8888888888888888,\"#fdca26\"],[1.0,\"#f0f921\"]]}],\"heatmapgl\":[{\"type\":\"heatmapgl\",\"colorbar\":{\"outlinewidth\":0,\"ticks\":\"\"},\"colorscale\":[[0.0,\"#0d0887\"],[0.1111111111111111,\"#46039f\"],[0.2222222222222222,\"#7201a8\"],[0.3333333333333333,\"#9c179e\"],[0.4444444444444444,\"#bd3786\"],[0.5555555555555556,\"#d8576b\"],[0.6666666666666666,\"#ed7953\"],[0.7777777777777778,\"#fb9f3a\"],[0.8888888888888888,\"#fdca26\"],[1.0,\"#f0f921\"]]}],\"contourcarpet\":[{\"type\":\"contourcarpet\",\"colorbar\":{\"outlinewidth\":0,\"ticks\":\"\"}}],\"contour\":[{\"type\":\"contour\",\"colorbar\":{\"outlinewidth\":0,\"ticks\":\"\"},\"colorscale\":[[0.0,\"#0d0887\"],[0.1111111111111111,\"#46039f\"],[0.2222222222222222,\"#7201a8\"],[0.3333333333333333,\"#9c179e\"],[0.4444444444444444,\"#bd3786\"],[0.5555555555555556,\"#d8576b\"],[0.6666666666666666,\"#ed7953\"],[0.7777777777777778,\"#fb9f3a\"],[0.8888888888888888,\"#fdca26\"],[1.0,\"#f0f921\"]]}],\"surface\":[{\"type\":\"surface\",\"colorbar\":{\"outlinewidth\":0,\"ticks\":\"\"},\"colorscale\":[[0.0,\"#0d0887\"],[0.1111111111111111,\"#46039f\"],[0.2222222222222222,\"#7201a8\"],[0.3333333333333333,\"#9c179e\"],[0.4444444444444444,\"#bd3786\"],[0.5555555555555556,\"#d8576b\"],[0.6666666666666666,\"#ed7953\"],[0.7777777777777778,\"#fb9f3a\"],[0.8888888888888888,\"#fdca26\"],[1.0,\"#f0f921\"]]}],\"mesh3d\":[{\"type\":\"mesh3d\",\"colorbar\":{\"outlinewidth\":0,\"ticks\":\"\"}}],\"scatter\":[{\"fillpattern\":{\"fillmode\":\"overlay\",\"size\":10,\"solidity\":0.2},\"type\":\"scatter\"}],\"parcoords\":[{\"type\":\"parcoords\",\"line\":{\"colorbar\":{\"outlinewidth\":0,\"ticks\":\"\"}}}],\"scatterpolargl\":[{\"type\":\"scatterpolargl\",\"marker\":{\"colorbar\":{\"outlinewidth\":0,\"ticks\":\"\"}}}],\"bar\":[{\"error_x\":{\"color\":\"#2a3f5f\"},\"error_y\":{\"color\":\"#2a3f5f\"},\"marker\":{\"line\":{\"color\":\"#E5ECF6\",\"width\":0.5},\"pattern\":{\"fillmode\":\"overlay\",\"size\":10,\"solidity\":0.2}},\"type\":\"bar\"}],\"scattergeo\":[{\"type\":\"scattergeo\",\"marker\":{\"colorbar\":{\"outlinewidth\":0,\"ticks\":\"\"}}}],\"scatterpolar\":[{\"type\":\"scatterpolar\",\"marker\":{\"colorbar\":{\"outlinewidth\":0,\"ticks\":\"\"}}}],\"histogram\":[{\"marker\":{\"pattern\":{\"fillmode\":\"overlay\",\"size\":10,\"solidity\":0.2}},\"type\":\"histogram\"}],\"scattergl\":[{\"type\":\"scattergl\",\"marker\":{\"colorbar\":{\"outlinewidth\":0,\"ticks\":\"\"}}}],\"scatter3d\":[{\"type\":\"scatter3d\",\"line\":{\"colorbar\":{\"outlinewidth\":0,\"ticks\":\"\"}},\"marker\":{\"colorbar\":{\"outlinewidth\":0,\"ticks\":\"\"}}}],\"scattermapbox\":[{\"type\":\"scattermapbox\",\"marker\":{\"colorbar\":{\"outlinewidth\":0,\"ticks\":\"\"}}}],\"scatterternary\":[{\"type\":\"scatterternary\",\"marker\":{\"colorbar\":{\"outlinewidth\":0,\"ticks\":\"\"}}}],\"scattercarpet\":[{\"type\":\"scattercarpet\",\"marker\":{\"colorbar\":{\"outlinewidth\":0,\"ticks\":\"\"}}}],\"carpet\":[{\"aaxis\":{\"endlinecolor\":\"#2a3f5f\",\"gridcolor\":\"white\",\"linecolor\":\"white\",\"minorgridcolor\":\"white\",\"startlinecolor\":\"#2a3f5f\"},\"baxis\":{\"endlinecolor\":\"#2a3f5f\",\"gridcolor\":\"white\",\"linecolor\":\"white\",\"minorgridcolor\":\"white\",\"startlinecolor\":\"#2a3f5f\"},\"type\":\"carpet\"}],\"table\":[{\"cells\":{\"fill\":{\"color\":\"#EBF0F8\"},\"line\":{\"color\":\"white\"}},\"header\":{\"fill\":{\"color\":\"#C8D4E3\"},\"line\":{\"color\":\"white\"}},\"type\":\"table\"}],\"barpolar\":[{\"marker\":{\"line\":{\"color\":\"#E5ECF6\",\"width\":0.5},\"pattern\":{\"fillmode\":\"overlay\",\"size\":10,\"solidity\":0.2}},\"type\":\"barpolar\"}],\"pie\":[{\"automargin\":true,\"type\":\"pie\"}]},\"layout\":{\"autotypenumbers\":\"strict\",\"colorway\":[\"#636efa\",\"#EF553B\",\"#00cc96\",\"#ab63fa\",\"#FFA15A\",\"#19d3f3\",\"#FF6692\",\"#B6E880\",\"#FF97FF\",\"#FECB52\"],\"font\":{\"color\":\"#2a3f5f\"},\"hovermode\":\"closest\",\"hoverlabel\":{\"align\":\"left\"},\"paper_bgcolor\":\"white\",\"plot_bgcolor\":\"#E5ECF6\",\"polar\":{\"bgcolor\":\"#E5ECF6\",\"angularaxis\":{\"gridcolor\":\"white\",\"linecolor\":\"white\",\"ticks\":\"\"},\"radialaxis\":{\"gridcolor\":\"white\",\"linecolor\":\"white\",\"ticks\":\"\"}},\"ternary\":{\"bgcolor\":\"#E5ECF6\",\"aaxis\":{\"gridcolor\":\"white\",\"linecolor\":\"white\",\"ticks\":\"\"},\"baxis\":{\"gridcolor\":\"white\",\"linecolor\":\"white\",\"ticks\":\"\"},\"caxis\":{\"gridcolor\":\"white\",\"linecolor\":\"white\",\"ticks\":\"\"}},\"coloraxis\":{\"colorbar\":{\"outlinewidth\":0,\"ticks\":\"\"}},\"colorscale\":{\"sequential\":[[0.0,\"#0d0887\"],[0.1111111111111111,\"#46039f\"],[0.2222222222222222,\"#7201a8\"],[0.3333333333333333,\"#9c179e\"],[0.4444444444444444,\"#bd3786\"],[0.5555555555555556,\"#d8576b\"],[0.6666666666666666,\"#ed7953\"],[0.7777777777777778,\"#fb9f3a\"],[0.8888888888888888,\"#fdca26\"],[1.0,\"#f0f921\"]],\"sequentialminus\":[[0.0,\"#0d0887\"],[0.1111111111111111,\"#46039f\"],[0.2222222222222222,\"#7201a8\"],[0.3333333333333333,\"#9c179e\"],[0.4444444444444444,\"#bd3786\"],[0.5555555555555556,\"#d8576b\"],[0.6666666666666666,\"#ed7953\"],[0.7777777777777778,\"#fb9f3a\"],[0.8888888888888888,\"#fdca26\"],[1.0,\"#f0f921\"]],\"diverging\":[[0,\"#8e0152\"],[0.1,\"#c51b7d\"],[0.2,\"#de77ae\"],[0.3,\"#f1b6da\"],[0.4,\"#fde0ef\"],[0.5,\"#f7f7f7\"],[0.6,\"#e6f5d0\"],[0.7,\"#b8e186\"],[0.8,\"#7fbc41\"],[0.9,\"#4d9221\"],[1,\"#276419\"]]},\"xaxis\":{\"gridcolor\":\"white\",\"linecolor\":\"white\",\"ticks\":\"\",\"title\":{\"standoff\":15},\"zerolinecolor\":\"white\",\"automargin\":true,\"zerolinewidth\":2},\"yaxis\":{\"gridcolor\":\"white\",\"linecolor\":\"white\",\"ticks\":\"\",\"title\":{\"standoff\":15},\"zerolinecolor\":\"white\",\"automargin\":true,\"zerolinewidth\":2},\"scene\":{\"xaxis\":{\"backgroundcolor\":\"#E5ECF6\",\"gridcolor\":\"white\",\"linecolor\":\"white\",\"showbackground\":true,\"ticks\":\"\",\"zerolinecolor\":\"white\",\"gridwidth\":2},\"yaxis\":{\"backgroundcolor\":\"#E5ECF6\",\"gridcolor\":\"white\",\"linecolor\":\"white\",\"showbackground\":true,\"ticks\":\"\",\"zerolinecolor\":\"white\",\"gridwidth\":2},\"zaxis\":{\"backgroundcolor\":\"#E5ECF6\",\"gridcolor\":\"white\",\"linecolor\":\"white\",\"showbackground\":true,\"ticks\":\"\",\"zerolinecolor\":\"white\",\"gridwidth\":2}},\"shapedefaults\":{\"line\":{\"color\":\"#2a3f5f\"}},\"annotationdefaults\":{\"arrowcolor\":\"#2a3f5f\",\"arrowhead\":0,\"arrowwidth\":1},\"geo\":{\"bgcolor\":\"white\",\"landcolor\":\"#E5ECF6\",\"subunitcolor\":\"white\",\"showland\":true,\"showlakes\":true,\"lakecolor\":\"white\"},\"title\":{\"x\":0.05},\"mapbox\":{\"style\":\"light\"}}},\"xaxis\":{\"anchor\":\"y\",\"domain\":[0.0,1.0],\"title\":{\"text\":\"x\"}},\"yaxis\":{\"anchor\":\"x\",\"domain\":[0.0,1.0],\"title\":{\"text\":\"y\"}},\"legend\":{\"tracegroupgap\":0},\"title\":{\"text\":\"Compare percent change and its approximation with natural logarithm\"}},                        {\"responsive\": true}                    ).then(function(){\n",
       "                            \n",
       "var gd = document.getElementById('3e658331-a149-4ada-8685-42b054ffc102');\n",
       "var x = new MutationObserver(function (mutations, observer) {{\n",
       "        var display = window.getComputedStyle(gd).display;\n",
       "        if (!display || display === 'none') {{\n",
       "            console.log([gd, 'removed!']);\n",
       "            Plotly.purge(gd);\n",
       "            observer.disconnect();\n",
       "        }}\n",
       "}});\n",
       "\n",
       "// Listen for the removal of the full notebook cells\n",
       "var notebookContainer = gd.closest('#notebook-container');\n",
       "if (notebookContainer) {{\n",
       "    x.observe(notebookContainer, {childList: true});\n",
       "}}\n",
       "\n",
       "// Listen for the clearing of the current output cell\n",
       "var outputEl = gd.closest('.output');\n",
       "if (outputEl) {{\n",
       "    x.observe(outputEl, {childList: true});\n",
       "}}\n",
       "\n",
       "                        })                };                });            </script>        </div>"
      ]
     },
     "metadata": {},
     "output_type": "display_data"
    }
   ],
   "source": [
    "import plotly.express as px\n",
    "import numpy as np\n",
    "\n",
    "# define the x values\n",
    "df2 = pd.DataFrame()\n",
    "df2['ratio'] = np.linspace(0.10, 2-0.10, 100)\n",
    "df2['gr_rate']= df2['ratio'] - 1\n",
    "df2['percent_gr_rate'] = df2['gr_rate']*100\n",
    "df2['ln_approx'] = np.log(df2['ratio'])\n",
    "df2['percent_ln_approx'] = df2['ln_approx']*100\n",
    "df2['difference'] = df2['gr_rate'] - df2['ln_approx']\n",
    "df2['percent_difference'] = df2['difference']*100\n",
    "df2\n",
    "\n",
    "\n",
    "# create the plot\n",
    "fig = px.line(x=df2['gr_rate']*100, y=df2['gr_rate']*100, title='Compare percent change and its approximation with natural logarithm')\n",
    "\n",
    "fig.add_trace(px.line(x=df2['gr_rate']*100, y=df2['ln_approx']*100).data[0])\n",
    "\n",
    "\n",
    "# show the plot\n",
    "fig.show()\n",
    "\n",
    "#df2.loc[df2['ratio'] < 1]"
   ]
  },
  {
   "cell_type": "code",
   "execution_count": null,
   "id": "40657026-913f-4c27-b2b7-863c9a208425",
   "metadata": {
    "id": "40657026-913f-4c27-b2b7-863c9a208425",
    "outputId": "3e4c516b-16b7-4893-9461-0b97fa4a085d"
   },
   "outputs": [
    {
     "data": {
      "application/vnd.plotly.v1+json": {
       "config": {
        "plotlyServerURL": "https://plot.ly"
       },
       "data": [
        {
         "hovertemplate": "x=%{x}<br>y=%{y}<extra></extra>",
         "legendgroup": "",
         "line": {
          "color": "#636efa",
          "dash": "solid"
         },
         "marker": {
          "symbol": "circle"
         },
         "mode": "lines",
         "name": "",
         "orientation": "v",
         "showlegend": false,
         "type": "scatter",
         "x": [
          -90,
          -88.18181818181819,
          -86.36363636363636,
          -84.54545454545455,
          -82.72727272727273,
          -80.9090909090909,
          -79.0909090909091,
          -77.27272727272727,
          -75.45454545454545,
          -73.63636363636363,
          -71.81818181818181,
          -70,
          -68.18181818181819,
          -66.36363636363636,
          -64.54545454545455,
          -62.727272727272734,
          -60.909090909090914,
          -59.09090909090909,
          -57.27272727272727,
          -55.45454545454545,
          -53.63636363636364,
          -51.81818181818182,
          -50,
          -48.18181818181818,
          -46.36363636363636,
          -44.54545454545455,
          -42.72727272727273,
          -40.90909090909091,
          -39.0909090909091,
          -37.27272727272728,
          -35.45454545454546,
          -33.63636363636364,
          -31.818181818181824,
          -30.000000000000004,
          -28.181818181818187,
          -26.363636363636367,
          -24.545454545454547,
          -22.72727272727273,
          -20.90909090909091,
          -19.090909090909093,
          -17.272727272727273,
          -15.454545454545466,
          -13.636363636363647,
          -11.818181818181827,
          -10.000000000000009,
          -8.18181818181819,
          -6.363636363636371,
          -4.545454545454552,
          -2.7272727272727337,
          -0.909090909090915,
          0.9090909090909038,
          2.7272727272727337,
          4.545454545454541,
          6.363636363636371,
          8.18181818181818,
          10.000000000000009,
          11.818181818181817,
          13.636363636363647,
          15.454545454545453,
          17.272727272727284,
          19.090909090909093,
          20.90909090909092,
          22.72727272727273,
          24.54545454545456,
          26.363636363636367,
          28.181818181818173,
          30.000000000000004,
          31.818181818181813,
          33.63636363636364,
          35.45454545454545,
          37.27272727272728,
          39.090909090909086,
          40.90909090909092,
          42.72727272727273,
          44.545454545454554,
          46.36363636363636,
          48.181818181818194,
          50,
          51.81818181818183,
          53.63636363636364,
          55.45454545454547,
          57.27272727272727,
          59.09090909090908,
          60.909090909090914,
          62.72727272727272,
          64.54545454545455,
          66.36363636363636,
          68.18181818181819,
          70,
          71.81818181818183,
          73.63636363636363,
          75.45454545454547,
          77.27272727272727,
          79.0909090909091,
          80.9090909090909,
          82.72727272727273,
          84.54545454545455,
          86.36363636363636,
          88.18181818181819,
          89.99999999999999
         ],
         "xaxis": "x",
         "y": [
          140.25850929940455,
          125.37128265126975,
          112.87938010538427,
          102.18124762816547,
          92.87686593532486,
          84.6867018978084,
          77.40770589541755,
          70.88772681969428,
          65.00980452426327,
          59.68208994423057,
          54.831134312545174,
          50.39728043259362,
          46.331412248482074,
          42.59260895118282,
          39.14641742082243,
          35.96355718153812,
          33.018934100794475,
          30.290878511300555,
          27.760549135508494,
          25.41146131363351,
          23.229109670445414,
          21.20066340584762,
          19.31471805599453,
          17.561091613968426,
          15.930655825033313,
          14.415195616455955,
          13.00729121281563,
          11.700218680587005,
          10.48786554923593,
          9.364658846788416,
          8.325503420564628,
          7.3657288280388755,
          6.481043407428761,
          5.66749439387324,
          4.921433150721294,
          4.239484748361383,
          3.6185212541272884,
          3.0556382029372497,
          2.548133804692343,
          2.0934905151185483,
          1.6893586548293453,
          1.3335418093705753,
          1.0239837828239033,
          0.7587569107215225,
          0.5360515657826317,
          0.35416671329749627,
          0.2115013926416831,
          0.10654701803474026,
          0.037880405778278545,
          0.004157447236343738,
          0.0041073570991182265,
          0.036527435280293494,
          0.10027828837116184,
          0.19427946310237518,
          0.3175054499068658,
          0.4689820195675154,
          0.6477828601816906,
          0.8530264853751468,
          1.0838733879279498,
          1.3395234158016855,
          1.6192133500355588,
          1.922214666157157,
          2.2478314626714067,
          2.5953985418836782,
          2.9642796298088108,
          3.3538657232429743,
          3.7635735532508985,
          4.192844155365999,
          4.64114153773163,
          5.10795143924116,
          5.5927801704764635,
          6.095153530907166,
          6.6146157964078744,
          7.1507287716835455,
          7.70307090267302,
          8.271236444431684,
          8.854834680383572,
          9.45348918918356,
          10.066837155747931,
          10.694528723297914,
          11.336226383521097,
          11.991604402191003,
          12.660348277799304,
          13.342154230949621,
          14.036728722438847,
          14.743787998113595,
          15.46305765873589,
          16.194272253227325,
          16.93717489378296,
          17.6915168914592,
          18.45705741094227,
          19.233563143298525,
          20.020807995594215,
          20.818572796351866,
          21.626645015883295,
          22.44481850060678,
          23.27289322051743,
          24.110675029037164,
          24.957975434522893,
          25.81461138276052
         ],
         "yaxis": "y"
        }
       ],
       "layout": {
        "autosize": true,
        "legend": {
         "tracegroupgap": 0
        },
        "template": {
         "data": {
          "bar": [
           {
            "error_x": {
             "color": "#2a3f5f"
            },
            "error_y": {
             "color": "#2a3f5f"
            },
            "marker": {
             "line": {
              "color": "#E5ECF6",
              "width": 0.5
             },
             "pattern": {
              "fillmode": "overlay",
              "size": 10,
              "solidity": 0.2
             }
            },
            "type": "bar"
           }
          ],
          "barpolar": [
           {
            "marker": {
             "line": {
              "color": "#E5ECF6",
              "width": 0.5
             },
             "pattern": {
              "fillmode": "overlay",
              "size": 10,
              "solidity": 0.2
             }
            },
            "type": "barpolar"
           }
          ],
          "carpet": [
           {
            "aaxis": {
             "endlinecolor": "#2a3f5f",
             "gridcolor": "white",
             "linecolor": "white",
             "minorgridcolor": "white",
             "startlinecolor": "#2a3f5f"
            },
            "baxis": {
             "endlinecolor": "#2a3f5f",
             "gridcolor": "white",
             "linecolor": "white",
             "minorgridcolor": "white",
             "startlinecolor": "#2a3f5f"
            },
            "type": "carpet"
           }
          ],
          "choropleth": [
           {
            "colorbar": {
             "outlinewidth": 0,
             "ticks": ""
            },
            "type": "choropleth"
           }
          ],
          "contour": [
           {
            "colorbar": {
             "outlinewidth": 0,
             "ticks": ""
            },
            "colorscale": [
             [
              0,
              "#0d0887"
             ],
             [
              0.1111111111111111,
              "#46039f"
             ],
             [
              0.2222222222222222,
              "#7201a8"
             ],
             [
              0.3333333333333333,
              "#9c179e"
             ],
             [
              0.4444444444444444,
              "#bd3786"
             ],
             [
              0.5555555555555556,
              "#d8576b"
             ],
             [
              0.6666666666666666,
              "#ed7953"
             ],
             [
              0.7777777777777778,
              "#fb9f3a"
             ],
             [
              0.8888888888888888,
              "#fdca26"
             ],
             [
              1,
              "#f0f921"
             ]
            ],
            "type": "contour"
           }
          ],
          "contourcarpet": [
           {
            "colorbar": {
             "outlinewidth": 0,
             "ticks": ""
            },
            "type": "contourcarpet"
           }
          ],
          "heatmap": [
           {
            "colorbar": {
             "outlinewidth": 0,
             "ticks": ""
            },
            "colorscale": [
             [
              0,
              "#0d0887"
             ],
             [
              0.1111111111111111,
              "#46039f"
             ],
             [
              0.2222222222222222,
              "#7201a8"
             ],
             [
              0.3333333333333333,
              "#9c179e"
             ],
             [
              0.4444444444444444,
              "#bd3786"
             ],
             [
              0.5555555555555556,
              "#d8576b"
             ],
             [
              0.6666666666666666,
              "#ed7953"
             ],
             [
              0.7777777777777778,
              "#fb9f3a"
             ],
             [
              0.8888888888888888,
              "#fdca26"
             ],
             [
              1,
              "#f0f921"
             ]
            ],
            "type": "heatmap"
           }
          ],
          "heatmapgl": [
           {
            "colorbar": {
             "outlinewidth": 0,
             "ticks": ""
            },
            "colorscale": [
             [
              0,
              "#0d0887"
             ],
             [
              0.1111111111111111,
              "#46039f"
             ],
             [
              0.2222222222222222,
              "#7201a8"
             ],
             [
              0.3333333333333333,
              "#9c179e"
             ],
             [
              0.4444444444444444,
              "#bd3786"
             ],
             [
              0.5555555555555556,
              "#d8576b"
             ],
             [
              0.6666666666666666,
              "#ed7953"
             ],
             [
              0.7777777777777778,
              "#fb9f3a"
             ],
             [
              0.8888888888888888,
              "#fdca26"
             ],
             [
              1,
              "#f0f921"
             ]
            ],
            "type": "heatmapgl"
           }
          ],
          "histogram": [
           {
            "marker": {
             "pattern": {
              "fillmode": "overlay",
              "size": 10,
              "solidity": 0.2
             }
            },
            "type": "histogram"
           }
          ],
          "histogram2d": [
           {
            "colorbar": {
             "outlinewidth": 0,
             "ticks": ""
            },
            "colorscale": [
             [
              0,
              "#0d0887"
             ],
             [
              0.1111111111111111,
              "#46039f"
             ],
             [
              0.2222222222222222,
              "#7201a8"
             ],
             [
              0.3333333333333333,
              "#9c179e"
             ],
             [
              0.4444444444444444,
              "#bd3786"
             ],
             [
              0.5555555555555556,
              "#d8576b"
             ],
             [
              0.6666666666666666,
              "#ed7953"
             ],
             [
              0.7777777777777778,
              "#fb9f3a"
             ],
             [
              0.8888888888888888,
              "#fdca26"
             ],
             [
              1,
              "#f0f921"
             ]
            ],
            "type": "histogram2d"
           }
          ],
          "histogram2dcontour": [
           {
            "colorbar": {
             "outlinewidth": 0,
             "ticks": ""
            },
            "colorscale": [
             [
              0,
              "#0d0887"
             ],
             [
              0.1111111111111111,
              "#46039f"
             ],
             [
              0.2222222222222222,
              "#7201a8"
             ],
             [
              0.3333333333333333,
              "#9c179e"
             ],
             [
              0.4444444444444444,
              "#bd3786"
             ],
             [
              0.5555555555555556,
              "#d8576b"
             ],
             [
              0.6666666666666666,
              "#ed7953"
             ],
             [
              0.7777777777777778,
              "#fb9f3a"
             ],
             [
              0.8888888888888888,
              "#fdca26"
             ],
             [
              1,
              "#f0f921"
             ]
            ],
            "type": "histogram2dcontour"
           }
          ],
          "mesh3d": [
           {
            "colorbar": {
             "outlinewidth": 0,
             "ticks": ""
            },
            "type": "mesh3d"
           }
          ],
          "parcoords": [
           {
            "line": {
             "colorbar": {
              "outlinewidth": 0,
              "ticks": ""
             }
            },
            "type": "parcoords"
           }
          ],
          "pie": [
           {
            "automargin": true,
            "type": "pie"
           }
          ],
          "scatter": [
           {
            "fillpattern": {
             "fillmode": "overlay",
             "size": 10,
             "solidity": 0.2
            },
            "type": "scatter"
           }
          ],
          "scatter3d": [
           {
            "line": {
             "colorbar": {
              "outlinewidth": 0,
              "ticks": ""
             }
            },
            "marker": {
             "colorbar": {
              "outlinewidth": 0,
              "ticks": ""
             }
            },
            "type": "scatter3d"
           }
          ],
          "scattercarpet": [
           {
            "marker": {
             "colorbar": {
              "outlinewidth": 0,
              "ticks": ""
             }
            },
            "type": "scattercarpet"
           }
          ],
          "scattergeo": [
           {
            "marker": {
             "colorbar": {
              "outlinewidth": 0,
              "ticks": ""
             }
            },
            "type": "scattergeo"
           }
          ],
          "scattergl": [
           {
            "marker": {
             "colorbar": {
              "outlinewidth": 0,
              "ticks": ""
             }
            },
            "type": "scattergl"
           }
          ],
          "scattermapbox": [
           {
            "marker": {
             "colorbar": {
              "outlinewidth": 0,
              "ticks": ""
             }
            },
            "type": "scattermapbox"
           }
          ],
          "scatterpolar": [
           {
            "marker": {
             "colorbar": {
              "outlinewidth": 0,
              "ticks": ""
             }
            },
            "type": "scatterpolar"
           }
          ],
          "scatterpolargl": [
           {
            "marker": {
             "colorbar": {
              "outlinewidth": 0,
              "ticks": ""
             }
            },
            "type": "scatterpolargl"
           }
          ],
          "scatterternary": [
           {
            "marker": {
             "colorbar": {
              "outlinewidth": 0,
              "ticks": ""
             }
            },
            "type": "scatterternary"
           }
          ],
          "surface": [
           {
            "colorbar": {
             "outlinewidth": 0,
             "ticks": ""
            },
            "colorscale": [
             [
              0,
              "#0d0887"
             ],
             [
              0.1111111111111111,
              "#46039f"
             ],
             [
              0.2222222222222222,
              "#7201a8"
             ],
             [
              0.3333333333333333,
              "#9c179e"
             ],
             [
              0.4444444444444444,
              "#bd3786"
             ],
             [
              0.5555555555555556,
              "#d8576b"
             ],
             [
              0.6666666666666666,
              "#ed7953"
             ],
             [
              0.7777777777777778,
              "#fb9f3a"
             ],
             [
              0.8888888888888888,
              "#fdca26"
             ],
             [
              1,
              "#f0f921"
             ]
            ],
            "type": "surface"
           }
          ],
          "table": [
           {
            "cells": {
             "fill": {
              "color": "#EBF0F8"
             },
             "line": {
              "color": "white"
             }
            },
            "header": {
             "fill": {
              "color": "#C8D4E3"
             },
             "line": {
              "color": "white"
             }
            },
            "type": "table"
           }
          ]
         },
         "layout": {
          "annotationdefaults": {
           "arrowcolor": "#2a3f5f",
           "arrowhead": 0,
           "arrowwidth": 1
          },
          "autotypenumbers": "strict",
          "coloraxis": {
           "colorbar": {
            "outlinewidth": 0,
            "ticks": ""
           }
          },
          "colorscale": {
           "diverging": [
            [
             0,
             "#8e0152"
            ],
            [
             0.1,
             "#c51b7d"
            ],
            [
             0.2,
             "#de77ae"
            ],
            [
             0.3,
             "#f1b6da"
            ],
            [
             0.4,
             "#fde0ef"
            ],
            [
             0.5,
             "#f7f7f7"
            ],
            [
             0.6,
             "#e6f5d0"
            ],
            [
             0.7,
             "#b8e186"
            ],
            [
             0.8,
             "#7fbc41"
            ],
            [
             0.9,
             "#4d9221"
            ],
            [
             1,
             "#276419"
            ]
           ],
           "sequential": [
            [
             0,
             "#0d0887"
            ],
            [
             0.1111111111111111,
             "#46039f"
            ],
            [
             0.2222222222222222,
             "#7201a8"
            ],
            [
             0.3333333333333333,
             "#9c179e"
            ],
            [
             0.4444444444444444,
             "#bd3786"
            ],
            [
             0.5555555555555556,
             "#d8576b"
            ],
            [
             0.6666666666666666,
             "#ed7953"
            ],
            [
             0.7777777777777778,
             "#fb9f3a"
            ],
            [
             0.8888888888888888,
             "#fdca26"
            ],
            [
             1,
             "#f0f921"
            ]
           ],
           "sequentialminus": [
            [
             0,
             "#0d0887"
            ],
            [
             0.1111111111111111,
             "#46039f"
            ],
            [
             0.2222222222222222,
             "#7201a8"
            ],
            [
             0.3333333333333333,
             "#9c179e"
            ],
            [
             0.4444444444444444,
             "#bd3786"
            ],
            [
             0.5555555555555556,
             "#d8576b"
            ],
            [
             0.6666666666666666,
             "#ed7953"
            ],
            [
             0.7777777777777778,
             "#fb9f3a"
            ],
            [
             0.8888888888888888,
             "#fdca26"
            ],
            [
             1,
             "#f0f921"
            ]
           ]
          },
          "colorway": [
           "#636efa",
           "#EF553B",
           "#00cc96",
           "#ab63fa",
           "#FFA15A",
           "#19d3f3",
           "#FF6692",
           "#B6E880",
           "#FF97FF",
           "#FECB52"
          ],
          "font": {
           "color": "#2a3f5f"
          },
          "geo": {
           "bgcolor": "white",
           "lakecolor": "white",
           "landcolor": "#E5ECF6",
           "showlakes": true,
           "showland": true,
           "subunitcolor": "white"
          },
          "hoverlabel": {
           "align": "left"
          },
          "hovermode": "closest",
          "mapbox": {
           "style": "light"
          },
          "paper_bgcolor": "white",
          "plot_bgcolor": "#E5ECF6",
          "polar": {
           "angularaxis": {
            "gridcolor": "white",
            "linecolor": "white",
            "ticks": ""
           },
           "bgcolor": "#E5ECF6",
           "radialaxis": {
            "gridcolor": "white",
            "linecolor": "white",
            "ticks": ""
           }
          },
          "scene": {
           "xaxis": {
            "backgroundcolor": "#E5ECF6",
            "gridcolor": "white",
            "gridwidth": 2,
            "linecolor": "white",
            "showbackground": true,
            "ticks": "",
            "zerolinecolor": "white"
           },
           "yaxis": {
            "backgroundcolor": "#E5ECF6",
            "gridcolor": "white",
            "gridwidth": 2,
            "linecolor": "white",
            "showbackground": true,
            "ticks": "",
            "zerolinecolor": "white"
           },
           "zaxis": {
            "backgroundcolor": "#E5ECF6",
            "gridcolor": "white",
            "gridwidth": 2,
            "linecolor": "white",
            "showbackground": true,
            "ticks": "",
            "zerolinecolor": "white"
           }
          },
          "shapedefaults": {
           "line": {
            "color": "#2a3f5f"
           }
          },
          "ternary": {
           "aaxis": {
            "gridcolor": "white",
            "linecolor": "white",
            "ticks": ""
           },
           "baxis": {
            "gridcolor": "white",
            "linecolor": "white",
            "ticks": ""
           },
           "bgcolor": "#E5ECF6",
           "caxis": {
            "gridcolor": "white",
            "linecolor": "white",
            "ticks": ""
           }
          },
          "title": {
           "x": 0.05
          },
          "xaxis": {
           "automargin": true,
           "gridcolor": "white",
           "linecolor": "white",
           "ticks": "",
           "title": {
            "standoff": 15
           },
           "zerolinecolor": "white",
           "zerolinewidth": 2
          },
          "yaxis": {
           "automargin": true,
           "gridcolor": "white",
           "linecolor": "white",
           "ticks": "",
           "title": {
            "standoff": 15
           },
           "zerolinecolor": "white",
           "zerolinewidth": 2
          }
         }
        },
        "title": {
         "text": "Different percentage points between percent points and its approximation with natural log"
        },
        "xaxis": {
         "anchor": "y",
         "autorange": true,
         "domain": [
          0,
          1
         ],
         "range": [
          -90,
          89.99999999999999
         ],
         "title": {
          "text": "x"
         },
         "type": "linear"
        },
        "yaxis": {
         "anchor": "x",
         "autorange": true,
         "domain": [
          0,
          1
         ],
         "range": [
          -7.78780386191785,
          148.05042051842153
         ],
         "title": {
          "text": "y"
         },
         "type": "linear"
        }
       }
      },
      "image/png": "[encoded data removed]",
      "text/html": [
       "<div>                            <div id=\"d8a72d11-e3fd-4874-910a-1c1c4a28c2b1\" class=\"plotly-graph-div\" style=\"height:525px; width:100%;\"></div>            <script type=\"text/javascript\">                require([\"plotly\"], function(Plotly) {                    window.PLOTLYENV=window.PLOTLYENV || {};                                    if (document.getElementById(\"d8a72d11-e3fd-4874-910a-1c1c4a28c2b1\")) {                    Plotly.newPlot(                        \"d8a72d11-e3fd-4874-910a-1c1c4a28c2b1\",                        [{\"hovertemplate\":\"x=%{x}<br>y=%{y}<extra></extra>\",\"legendgroup\":\"\",\"line\":{\"color\":\"#636efa\",\"dash\":\"solid\"},\"marker\":{\"symbol\":\"circle\"},\"mode\":\"lines\",\"name\":\"\",\"orientation\":\"v\",\"showlegend\":false,\"x\":[-90.0,-88.18181818181819,-86.36363636363636,-84.54545454545455,-82.72727272727273,-80.9090909090909,-79.0909090909091,-77.27272727272727,-75.45454545454545,-73.63636363636363,-71.81818181818181,-70.0,-68.18181818181819,-66.36363636363636,-64.54545454545455,-62.727272727272734,-60.909090909090914,-59.09090909090909,-57.27272727272727,-55.45454545454545,-53.63636363636364,-51.81818181818182,-50.0,-48.18181818181818,-46.36363636363636,-44.54545454545455,-42.72727272727273,-40.90909090909091,-39.0909090909091,-37.27272727272728,-35.45454545454546,-33.63636363636364,-31.818181818181824,-30.000000000000004,-28.181818181818187,-26.363636363636367,-24.545454545454547,-22.72727272727273,-20.90909090909091,-19.090909090909093,-17.272727272727273,-15.454545454545466,-13.636363636363647,-11.818181818181827,-10.000000000000009,-8.18181818181819,-6.363636363636371,-4.545454545454552,-2.7272727272727337,-0.909090909090915,0.9090909090909038,2.7272727272727337,4.545454545454541,6.363636363636371,8.18181818181818,10.000000000000009,11.818181818181817,13.636363636363647,15.454545454545453,17.272727272727284,19.090909090909093,20.90909090909092,22.72727272727273,24.54545454545456,26.363636363636367,28.181818181818173,30.000000000000004,31.818181818181813,33.63636363636364,35.45454545454545,37.27272727272728,39.090909090909086,40.90909090909092,42.72727272727273,44.545454545454554,46.36363636363636,48.181818181818194,50.0,51.81818181818183,53.63636363636364,55.45454545454547,57.27272727272727,59.09090909090908,60.909090909090914,62.72727272727272,64.54545454545455,66.36363636363636,68.18181818181819,70.0,71.81818181818183,73.63636363636363,75.45454545454547,77.27272727272727,79.0909090909091,80.9090909090909,82.72727272727273,84.54545454545455,86.36363636363636,88.18181818181819,89.99999999999999],\"xaxis\":\"x\",\"y\":[140.25850929940455,125.37128265126975,112.87938010538427,102.18124762816547,92.87686593532486,84.6867018978084,77.40770589541755,70.88772681969428,65.00980452426327,59.68208994423057,54.831134312545174,50.39728043259362,46.331412248482074,42.59260895118282,39.14641742082243,35.96355718153812,33.018934100794475,30.290878511300555,27.760549135508494,25.41146131363351,23.229109670445414,21.20066340584762,19.31471805599453,17.561091613968426,15.930655825033313,14.415195616455955,13.00729121281563,11.700218680587005,10.48786554923593,9.364658846788416,8.325503420564628,7.3657288280388755,6.481043407428761,5.66749439387324,4.921433150721294,4.239484748361383,3.6185212541272884,3.0556382029372497,2.548133804692343,2.0934905151185483,1.6893586548293453,1.3335418093705753,1.0239837828239033,0.7587569107215225,0.5360515657826317,0.35416671329749627,0.2115013926416831,0.10654701803474026,0.037880405778278545,0.004157447236343738,0.0041073570991182265,0.036527435280293494,0.10027828837116184,0.19427946310237518,0.3175054499068658,0.4689820195675154,0.6477828601816906,0.8530264853751468,1.0838733879279498,1.3395234158016855,1.6192133500355588,1.922214666157157,2.2478314626714067,2.5953985418836782,2.9642796298088108,3.3538657232429743,3.7635735532508985,4.192844155365999,4.64114153773163,5.10795143924116,5.5927801704764635,6.095153530907166,6.6146157964078744,7.1507287716835455,7.70307090267302,8.271236444431684,8.854834680383572,9.45348918918356,10.066837155747931,10.694528723297914,11.336226383521097,11.991604402191003,12.660348277799304,13.342154230949621,14.036728722438847,14.743787998113595,15.46305765873589,16.194272253227325,16.93717489378296,17.6915168914592,18.45705741094227,19.233563143298525,20.020807995594215,20.818572796351866,21.626645015883295,22.44481850060678,23.27289322051743,24.110675029037164,24.957975434522893,25.81461138276052],\"yaxis\":\"y\",\"type\":\"scatter\"}],                        {\"template\":{\"data\":{\"histogram2dcontour\":[{\"type\":\"histogram2dcontour\",\"colorbar\":{\"outlinewidth\":0,\"ticks\":\"\"},\"colorscale\":[[0.0,\"#0d0887\"],[0.1111111111111111,\"#46039f\"],[0.2222222222222222,\"#7201a8\"],[0.3333333333333333,\"#9c179e\"],[0.4444444444444444,\"#bd3786\"],[0.5555555555555556,\"#d8576b\"],[0.6666666666666666,\"#ed7953\"],[0.7777777777777778,\"#fb9f3a\"],[0.8888888888888888,\"#fdca26\"],[1.0,\"#f0f921\"]]}],\"choropleth\":[{\"type\":\"choropleth\",\"colorbar\":{\"outlinewidth\":0,\"ticks\":\"\"}}],\"histogram2d\":[{\"type\":\"histogram2d\",\"colorbar\":{\"outlinewidth\":0,\"ticks\":\"\"},\"colorscale\":[[0.0,\"#0d0887\"],[0.1111111111111111,\"#46039f\"],[0.2222222222222222,\"#7201a8\"],[0.3333333333333333,\"#9c179e\"],[0.4444444444444444,\"#bd3786\"],[0.5555555555555556,\"#d8576b\"],[0.6666666666666666,\"#ed7953\"],[0.7777777777777778,\"#fb9f3a\"],[0.8888888888888888,\"#fdca26\"],[1.0,\"#f0f921\"]]}],\"heatmap\":[{\"type\":\"heatmap\",\"colorbar\":{\"outlinewidth\":0,\"ticks\":\"\"},\"colorscale\":[[0.0,\"#0d0887\"],[0.1111111111111111,\"#46039f\"],[0.2222222222222222,\"#7201a8\"],[0.3333333333333333,\"#9c179e\"],[0.4444444444444444,\"#bd3786\"],[0.5555555555555556,\"#d8576b\"],[0.6666666666666666,\"#ed7953\"],[0.7777777777777778,\"#fb9f3a\"],[0.8888888888888888,\"#fdca26\"],[1.0,\"#f0f921\"]]}],\"heatmapgl\":[{\"type\":\"heatmapgl\",\"colorbar\":{\"outlinewidth\":0,\"ticks\":\"\"},\"colorscale\":[[0.0,\"#0d0887\"],[0.1111111111111111,\"#46039f\"],[0.2222222222222222,\"#7201a8\"],[0.3333333333333333,\"#9c179e\"],[0.4444444444444444,\"#bd3786\"],[0.5555555555555556,\"#d8576b\"],[0.6666666666666666,\"#ed7953\"],[0.7777777777777778,\"#fb9f3a\"],[0.8888888888888888,\"#fdca26\"],[1.0,\"#f0f921\"]]}],\"contourcarpet\":[{\"type\":\"contourcarpet\",\"colorbar\":{\"outlinewidth\":0,\"ticks\":\"\"}}],\"contour\":[{\"type\":\"contour\",\"colorbar\":{\"outlinewidth\":0,\"ticks\":\"\"},\"colorscale\":[[0.0,\"#0d0887\"],[0.1111111111111111,\"#46039f\"],[0.2222222222222222,\"#7201a8\"],[0.3333333333333333,\"#9c179e\"],[0.4444444444444444,\"#bd3786\"],[0.5555555555555556,\"#d8576b\"],[0.6666666666666666,\"#ed7953\"],[0.7777777777777778,\"#fb9f3a\"],[0.8888888888888888,\"#fdca26\"],[1.0,\"#f0f921\"]]}],\"surface\":[{\"type\":\"surface\",\"colorbar\":{\"outlinewidth\":0,\"ticks\":\"\"},\"colorscale\":[[0.0,\"#0d0887\"],[0.1111111111111111,\"#46039f\"],[0.2222222222222222,\"#7201a8\"],[0.3333333333333333,\"#9c179e\"],[0.4444444444444444,\"#bd3786\"],[0.5555555555555556,\"#d8576b\"],[0.6666666666666666,\"#ed7953\"],[0.7777777777777778,\"#fb9f3a\"],[0.8888888888888888,\"#fdca26\"],[1.0,\"#f0f921\"]]}],\"mesh3d\":[{\"type\":\"mesh3d\",\"colorbar\":{\"outlinewidth\":0,\"ticks\":\"\"}}],\"scatter\":[{\"fillpattern\":{\"fillmode\":\"overlay\",\"size\":10,\"solidity\":0.2},\"type\":\"scatter\"}],\"parcoords\":[{\"type\":\"parcoords\",\"line\":{\"colorbar\":{\"outlinewidth\":0,\"ticks\":\"\"}}}],\"scatterpolargl\":[{\"type\":\"scatterpolargl\",\"marker\":{\"colorbar\":{\"outlinewidth\":0,\"ticks\":\"\"}}}],\"bar\":[{\"error_x\":{\"color\":\"#2a3f5f\"},\"error_y\":{\"color\":\"#2a3f5f\"},\"marker\":{\"line\":{\"color\":\"#E5ECF6\",\"width\":0.5},\"pattern\":{\"fillmode\":\"overlay\",\"size\":10,\"solidity\":0.2}},\"type\":\"bar\"}],\"scattergeo\":[{\"type\":\"scattergeo\",\"marker\":{\"colorbar\":{\"outlinewidth\":0,\"ticks\":\"\"}}}],\"scatterpolar\":[{\"type\":\"scatterpolar\",\"marker\":{\"colorbar\":{\"outlinewidth\":0,\"ticks\":\"\"}}}],\"histogram\":[{\"marker\":{\"pattern\":{\"fillmode\":\"overlay\",\"size\":10,\"solidity\":0.2}},\"type\":\"histogram\"}],\"scattergl\":[{\"type\":\"scattergl\",\"marker\":{\"colorbar\":{\"outlinewidth\":0,\"ticks\":\"\"}}}],\"scatter3d\":[{\"type\":\"scatter3d\",\"line\":{\"colorbar\":{\"outlinewidth\":0,\"ticks\":\"\"}},\"marker\":{\"colorbar\":{\"outlinewidth\":0,\"ticks\":\"\"}}}],\"scattermapbox\":[{\"type\":\"scattermapbox\",\"marker\":{\"colorbar\":{\"outlinewidth\":0,\"ticks\":\"\"}}}],\"scatterternary\":[{\"type\":\"scatterternary\",\"marker\":{\"colorbar\":{\"outlinewidth\":0,\"ticks\":\"\"}}}],\"scattercarpet\":[{\"type\":\"scattercarpet\",\"marker\":{\"colorbar\":{\"outlinewidth\":0,\"ticks\":\"\"}}}],\"carpet\":[{\"aaxis\":{\"endlinecolor\":\"#2a3f5f\",\"gridcolor\":\"white\",\"linecolor\":\"white\",\"minorgridcolor\":\"white\",\"startlinecolor\":\"#2a3f5f\"},\"baxis\":{\"endlinecolor\":\"#2a3f5f\",\"gridcolor\":\"white\",\"linecolor\":\"white\",\"minorgridcolor\":\"white\",\"startlinecolor\":\"#2a3f5f\"},\"type\":\"carpet\"}],\"table\":[{\"cells\":{\"fill\":{\"color\":\"#EBF0F8\"},\"line\":{\"color\":\"white\"}},\"header\":{\"fill\":{\"color\":\"#C8D4E3\"},\"line\":{\"color\":\"white\"}},\"type\":\"table\"}],\"barpolar\":[{\"marker\":{\"line\":{\"color\":\"#E5ECF6\",\"width\":0.5},\"pattern\":{\"fillmode\":\"overlay\",\"size\":10,\"solidity\":0.2}},\"type\":\"barpolar\"}],\"pie\":[{\"automargin\":true,\"type\":\"pie\"}]},\"layout\":{\"autotypenumbers\":\"strict\",\"colorway\":[\"#636efa\",\"#EF553B\",\"#00cc96\",\"#ab63fa\",\"#FFA15A\",\"#19d3f3\",\"#FF6692\",\"#B6E880\",\"#FF97FF\",\"#FECB52\"],\"font\":{\"color\":\"#2a3f5f\"},\"hovermode\":\"closest\",\"hoverlabel\":{\"align\":\"left\"},\"paper_bgcolor\":\"white\",\"plot_bgcolor\":\"#E5ECF6\",\"polar\":{\"bgcolor\":\"#E5ECF6\",\"angularaxis\":{\"gridcolor\":\"white\",\"linecolor\":\"white\",\"ticks\":\"\"},\"radialaxis\":{\"gridcolor\":\"white\",\"linecolor\":\"white\",\"ticks\":\"\"}},\"ternary\":{\"bgcolor\":\"#E5ECF6\",\"aaxis\":{\"gridcolor\":\"white\",\"linecolor\":\"white\",\"ticks\":\"\"},\"baxis\":{\"gridcolor\":\"white\",\"linecolor\":\"white\",\"ticks\":\"\"},\"caxis\":{\"gridcolor\":\"white\",\"linecolor\":\"white\",\"ticks\":\"\"}},\"coloraxis\":{\"colorbar\":{\"outlinewidth\":0,\"ticks\":\"\"}},\"colorscale\":{\"sequential\":[[0.0,\"#0d0887\"],[0.1111111111111111,\"#46039f\"],[0.2222222222222222,\"#7201a8\"],[0.3333333333333333,\"#9c179e\"],[0.4444444444444444,\"#bd3786\"],[0.5555555555555556,\"#d8576b\"],[0.6666666666666666,\"#ed7953\"],[0.7777777777777778,\"#fb9f3a\"],[0.8888888888888888,\"#fdca26\"],[1.0,\"#f0f921\"]],\"sequentialminus\":[[0.0,\"#0d0887\"],[0.1111111111111111,\"#46039f\"],[0.2222222222222222,\"#7201a8\"],[0.3333333333333333,\"#9c179e\"],[0.4444444444444444,\"#bd3786\"],[0.5555555555555556,\"#d8576b\"],[0.6666666666666666,\"#ed7953\"],[0.7777777777777778,\"#fb9f3a\"],[0.8888888888888888,\"#fdca26\"],[1.0,\"#f0f921\"]],\"diverging\":[[0,\"#8e0152\"],[0.1,\"#c51b7d\"],[0.2,\"#de77ae\"],[0.3,\"#f1b6da\"],[0.4,\"#fde0ef\"],[0.5,\"#f7f7f7\"],[0.6,\"#e6f5d0\"],[0.7,\"#b8e186\"],[0.8,\"#7fbc41\"],[0.9,\"#4d9221\"],[1,\"#276419\"]]},\"xaxis\":{\"gridcolor\":\"white\",\"linecolor\":\"white\",\"ticks\":\"\",\"title\":{\"standoff\":15},\"zerolinecolor\":\"white\",\"automargin\":true,\"zerolinewidth\":2},\"yaxis\":{\"gridcolor\":\"white\",\"linecolor\":\"white\",\"ticks\":\"\",\"title\":{\"standoff\":15},\"zerolinecolor\":\"white\",\"automargin\":true,\"zerolinewidth\":2},\"scene\":{\"xaxis\":{\"backgroundcolor\":\"#E5ECF6\",\"gridcolor\":\"white\",\"linecolor\":\"white\",\"showbackground\":true,\"ticks\":\"\",\"zerolinecolor\":\"white\",\"gridwidth\":2},\"yaxis\":{\"backgroundcolor\":\"#E5ECF6\",\"gridcolor\":\"white\",\"linecolor\":\"white\",\"showbackground\":true,\"ticks\":\"\",\"zerolinecolor\":\"white\",\"gridwidth\":2},\"zaxis\":{\"backgroundcolor\":\"#E5ECF6\",\"gridcolor\":\"white\",\"linecolor\":\"white\",\"showbackground\":true,\"ticks\":\"\",\"zerolinecolor\":\"white\",\"gridwidth\":2}},\"shapedefaults\":{\"line\":{\"color\":\"#2a3f5f\"}},\"annotationdefaults\":{\"arrowcolor\":\"#2a3f5f\",\"arrowhead\":0,\"arrowwidth\":1},\"geo\":{\"bgcolor\":\"white\",\"landcolor\":\"#E5ECF6\",\"subunitcolor\":\"white\",\"showland\":true,\"showlakes\":true,\"lakecolor\":\"white\"},\"title\":{\"x\":0.05},\"mapbox\":{\"style\":\"light\"}}},\"xaxis\":{\"anchor\":\"y\",\"domain\":[0.0,1.0],\"title\":{\"text\":\"x\"}},\"yaxis\":{\"anchor\":\"x\",\"domain\":[0.0,1.0],\"title\":{\"text\":\"y\"}},\"legend\":{\"tracegroupgap\":0},\"title\":{\"text\":\"Different percentage points between percent points and its approximation with natural log\"}},                        {\"responsive\": true}                    ).then(function(){\n",
       "                            \n",
       "var gd = document.getElementById('d8a72d11-e3fd-4874-910a-1c1c4a28c2b1');\n",
       "var x = new MutationObserver(function (mutations, observer) {{\n",
       "        var display = window.getComputedStyle(gd).display;\n",
       "        if (!display || display === 'none') {{\n",
       "            console.log([gd, 'removed!']);\n",
       "            Plotly.purge(gd);\n",
       "            observer.disconnect();\n",
       "        }}\n",
       "}});\n",
       "\n",
       "// Listen for the removal of the full notebook cells\n",
       "var notebookContainer = gd.closest('#notebook-container');\n",
       "if (notebookContainer) {{\n",
       "    x.observe(notebookContainer, {childList: true});\n",
       "}}\n",
       "\n",
       "// Listen for the clearing of the current output cell\n",
       "var outputEl = gd.closest('.output');\n",
       "if (outputEl) {{\n",
       "    x.observe(outputEl, {childList: true});\n",
       "}}\n",
       "\n",
       "                        })                };                });            </script>        </div>"
      ]
     },
     "metadata": {},
     "output_type": "display_data"
    }
   ],
   "source": [
    "fig = px.line(x=df2['gr_rate']*100, y=df2['difference']*100, title='Different percentage points between percent points and its approximation with natural log')\n",
    "\n",
    "fig.show()"
   ]
  },
  {
   "cell_type": "code",
   "execution_count": null,
   "id": "c0a426ce-cc76-4aa9-a9d9-64dba46a739d",
   "metadata": {
    "id": "c0a426ce-cc76-4aa9-a9d9-64dba46a739d"
   },
   "outputs": [],
   "source": []
  },
  {
   "cell_type": "code",
   "execution_count": null,
   "id": "4fb9ea03-94d0-46c5-a851-827dbdf1bcff",
   "metadata": {
    "id": "4fb9ea03-94d0-46c5-a851-827dbdf1bcff"
   },
   "outputs": [],
   "source": [
    "#df2.loc[(df2['percent_gr_rate'] > -50) & (df2['percent_gr_rate'] < 50) ].round(2)"
   ]
  },
  {
   "cell_type": "code",
   "execution_count": null,
   "id": "6483b9d8-09e3-46a0-8708-eed54365de17",
   "metadata": {
    "id": "6483b9d8-09e3-46a0-8708-eed54365de17",
    "outputId": "fd7a5386-503f-47ce-abf0-9aaff32ed0ba"
   },
   "outputs": [
    {
     "data": {
      "application/vnd.plotly.v1+json": {
       "config": {
        "plotlyServerURL": "https://plot.ly"
       },
       "data": [
        {
         "hovertemplate": "x=%{x}<br>y=%{y}<extra></extra>",
         "legendgroup": "",
         "line": {
          "color": "#636efa",
          "dash": "solid"
         },
         "marker": {
          "symbol": "circle"
         },
         "mode": "lines",
         "name": "",
         "orientation": "v",
         "showlegend": false,
         "type": "scatter",
         "x": [
          -99.99,
          -94.93969696969697,
          -89.88939393939394,
          -84.83909090909091,
          -79.78878787878789,
          -74.73848484848484,
          -69.68818181818182,
          -64.63787878787879,
          -59.58757575757576,
          -54.53727272727272,
          -49.486969696969695,
          -44.43666666666667,
          -39.38636363636363,
          -34.336060606060606,
          -29.285757575757575,
          -24.235454545454537,
          -19.18515151515151,
          -14.134848484848483,
          -9.084545454545445,
          -4.034242424242418,
          1.0160606060606092,
          6.066363636363636,
          11.116666666666664,
          16.166969696969712,
          21.21727272727274,
          26.267575757575766,
          31.317878787878794,
          36.368181818181824,
          41.41848484848485,
          46.4687878787879,
          51.51909090909093,
          56.569393939393954,
          61.61969696969698,
          66.67,
          71.72030303030303,
          76.77060606060606,
          81.82090909090911,
          86.87121212121214,
          91.92151515151517,
          96.9718181818182,
          102.02212121212125,
          107.07242424242426,
          112.1227272727273,
          117.17303030303032,
          122.22333333333336,
          127.27363636363643,
          132.32393939393944,
          137.37424242424248,
          142.4245454545455,
          147.47484848484854,
          152.52515151515155,
          157.5754545454546,
          162.6257575757576,
          167.67606060606064,
          172.72636363636366,
          177.7766666666667,
          182.8269696969697,
          187.87727272727275,
          192.92757575757582,
          197.97787878787884,
          203.02818181818188,
          208.0784848484849,
          213.12878787878793,
          218.17909090909095,
          223.229393939394,
          228.279696969697,
          233.33000000000004,
          238.38030303030305,
          243.4306060606061,
          248.4809090909091,
          253.53121212121215,
          258.5815151515152,
          263.63181818181823,
          268.6821212121213,
          273.7324242424243,
          278.7827272727273,
          283.83303030303034,
          288.8833333333334,
          293.9336363636364,
          298.9839393939394,
          304.0342424242424,
          309.08454545454543,
          314.1348484848485,
          319.1851515151515,
          324.2354545454545,
          329.28575757575754,
          334.3360606060606,
          339.3863636363636,
          344.4366666666666,
          349.48696969696965,
          354.5372727272728,
          359.5875757575758,
          364.63787878787883,
          369.6881818181819,
          374.73848484848486,
          379.7887878787879,
          384.83909090909094,
          389.889393939394,
          394.939696969697,
          399.99
         ],
         "xaxis": "x",
         "y": [
          -99.99,
          -94.93969696969697,
          -89.88939393939394,
          -84.83909090909091,
          -79.78878787878789,
          -74.73848484848484,
          -69.68818181818182,
          -64.63787878787879,
          -59.58757575757576,
          -54.53727272727272,
          -49.486969696969695,
          -44.43666666666667,
          -39.38636363636363,
          -34.336060606060606,
          -29.285757575757575,
          -24.235454545454537,
          -19.18515151515151,
          -14.134848484848483,
          -9.084545454545445,
          -4.034242424242418,
          1.0160606060606092,
          6.066363636363636,
          11.116666666666664,
          16.166969696969712,
          21.21727272727274,
          26.267575757575766,
          31.317878787878794,
          36.368181818181824,
          41.41848484848485,
          46.4687878787879,
          51.51909090909093,
          56.569393939393954,
          61.61969696969698,
          66.67,
          71.72030303030303,
          76.77060606060606,
          81.82090909090911,
          86.87121212121214,
          91.92151515151517,
          96.9718181818182,
          102.02212121212125,
          107.07242424242426,
          112.1227272727273,
          117.17303030303032,
          122.22333333333336,
          127.27363636363643,
          132.32393939393944,
          137.37424242424248,
          142.4245454545455,
          147.47484848484854,
          152.52515151515155,
          157.5754545454546,
          162.6257575757576,
          167.67606060606064,
          172.72636363636366,
          177.7766666666667,
          182.8269696969697,
          187.87727272727275,
          192.92757575757582,
          197.97787878787884,
          203.02818181818188,
          208.0784848484849,
          213.12878787878793,
          218.17909090909095,
          223.229393939394,
          228.279696969697,
          233.33000000000004,
          238.38030303030305,
          243.4306060606061,
          248.4809090909091,
          253.53121212121215,
          258.5815151515152,
          263.63181818181823,
          268.6821212121213,
          273.7324242424243,
          278.7827272727273,
          283.83303030303034,
          288.8833333333334,
          293.9336363636364,
          298.9839393939394,
          304.0342424242424,
          309.08454545454543,
          314.1348484848485,
          319.1851515151515,
          324.2354545454545,
          329.28575757575754,
          334.3360606060606,
          339.3863636363636,
          344.4366666666666,
          349.48696969696965,
          354.5372727272728,
          359.5875757575758,
          364.63787878787883,
          369.6881818181819,
          374.73848484848486,
          379.7887878787879,
          384.83909090909094,
          389.889393939394,
          394.939696969697,
          399.99
         ],
         "yaxis": "y"
        },
        {
         "hovertemplate": "x=%{x}<br>y=%{y}<extra></extra>",
         "legendgroup": "",
         "line": {
          "color": "#636efa",
          "dash": "solid"
         },
         "marker": {
          "symbol": "circle"
         },
         "mode": "lines",
         "name": "",
         "orientation": "v",
         "showlegend": false,
         "type": "scatter",
         "x": [
          -99.99,
          -94.93969696969697,
          -89.88939393939394,
          -84.83909090909091,
          -79.78878787878789,
          -74.73848484848484,
          -69.68818181818182,
          -64.63787878787879,
          -59.58757575757576,
          -54.53727272727272,
          -49.486969696969695,
          -44.43666666666667,
          -39.38636363636363,
          -34.336060606060606,
          -29.285757575757575,
          -24.235454545454537,
          -19.18515151515151,
          -14.134848484848483,
          -9.084545454545445,
          -4.034242424242418,
          1.0160606060606092,
          6.066363636363636,
          11.116666666666664,
          16.166969696969712,
          21.21727272727274,
          26.267575757575766,
          31.317878787878794,
          36.368181818181824,
          41.41848484848485,
          46.4687878787879,
          51.51909090909093,
          56.569393939393954,
          61.61969696969698,
          66.67,
          71.72030303030303,
          76.77060606060606,
          81.82090909090911,
          86.87121212121214,
          91.92151515151517,
          96.9718181818182,
          102.02212121212125,
          107.07242424242426,
          112.1227272727273,
          117.17303030303032,
          122.22333333333336,
          127.27363636363643,
          132.32393939393944,
          137.37424242424248,
          142.4245454545455,
          147.47484848484854,
          152.52515151515155,
          157.5754545454546,
          162.6257575757576,
          167.67606060606064,
          172.72636363636366,
          177.7766666666667,
          182.8269696969697,
          187.87727272727275,
          192.92757575757582,
          197.97787878787884,
          203.02818181818188,
          208.0784848484849,
          213.12878787878793,
          218.17909090909095,
          223.229393939394,
          228.279696969697,
          233.33000000000004,
          238.38030303030305,
          243.4306060606061,
          248.4809090909091,
          253.53121212121215,
          258.5815151515152,
          263.63181818181823,
          268.6821212121213,
          273.7324242424243,
          278.7827272727273,
          283.83303030303034,
          288.8833333333334,
          293.9336363636364,
          298.9839393939394,
          304.0342424242424,
          309.08454545454543,
          314.1348484848485,
          319.1851515151515,
          324.2354545454545,
          329.28575757575754,
          334.3360606060606,
          339.3863636363636,
          344.4366666666666,
          349.48696969696965,
          354.5372727272728,
          359.5875757575758,
          364.63787878787883,
          369.6881818181819,
          374.73848484848486,
          379.7887878787879,
          384.83909090909094,
          389.889393939394,
          394.939696969697,
          399.99
         ],
         "xaxis": "x",
         "y": [
          -921.0340371976182,
          -298.3743817070231,
          -229.1585208104956,
          -188.6449841152974,
          -159.89326800617107,
          -137.58880886193538,
          -119.36325105143067,
          -103.95289609873413,
          -90.6032917545801,
          -78.82773765623263,
          -68.29388571871291,
          -58.76466747012044,
          -50.065029572433815,
          -42.06202788526818,
          -34.65231846573321,
          -27.753974083001985,
          -21.300946896754372,
          -15.239212597976454,
          -9.524018225421042,
          -4.117875006914084,
          1.010933411306993,
          5.889478426380309,
          10.541051440786795,
          14.985836412321085,
          19.241439174435676,
          23.323308639941136,
          27.245075351361187,
          31.018826108162965,
          34.655328628875466,
          38.16421677482989,
          41.55414436236718,
          44.83291374674917,
          48.007583985998274,
          51.08456235659934,
          54.06968220435285,
          56.9682695080191,
          59.78520006431217,
          62.52494883659418,
          65.19163272157861,
          67.78904776019384,
          70.32070163683221,
          72.78984216523611,
          75.19948234145116,
          77.55242244864208,
          79.85126962052718,
          82.09845520618305,
          84.29625022622352,
          86.44677916668803,
          88.55203232066204,
          90.61387685733192,
          92.63406677275768,
          94.6142518552556,
          96.55598578021657,
          98.46073343387096,
          100.3298775524896,
          102.16472475239814,
          103.96651101667389,
          105.73640669623154,
          107.47552107597824,
          109.18490655065227,
          110.86556244971113,
          112.51843854607819,
          114.14443827959548,
          115.74442172257369,
          117.31920831181178,
          118.86957936881177,
          120.39628042759358,
          121.90002338747044,
          123.38148850634629,
          124.84132624850493,
          126.28015899945424,
          127.69858265914107,
          129.09716812374404,
          130.47646266526672,
          131.83699121727446,
          133.17925757433403,
          134.5037455120155,
          135.81091983368668,
          137.1012273497681,
          138.37509779461175,
          139.63294468571098,
          140.87516612954047,
          142.10214557795564,
          143.31425253874698,
          144.5118432436445,
          145.6952612767929,
          146.86483816647257,
          148.02089394261495,
          149.163737662459,
          150.29366790650784,
          151.41097324677736,
          152.51593268917358,
          153.60881609169562,
          154.68988456003189,
          155.75939082200102,
          156.81757958217997,
          157.8646878579649,
          158.90094529821872,
          159.92657448557733,
          160.94179122340978
         ],
         "yaxis": "y"
        }
       ],
       "layout": {
        "autosize": true,
        "legend": {
         "tracegroupgap": 0
        },
        "template": {
         "data": {
          "bar": [
           {
            "error_x": {
             "color": "#2a3f5f"
            },
            "error_y": {
             "color": "#2a3f5f"
            },
            "marker": {
             "line": {
              "color": "#E5ECF6",
              "width": 0.5
             },
             "pattern": {
              "fillmode": "overlay",
              "size": 10,
              "solidity": 0.2
             }
            },
            "type": "bar"
           }
          ],
          "barpolar": [
           {
            "marker": {
             "line": {
              "color": "#E5ECF6",
              "width": 0.5
             },
             "pattern": {
              "fillmode": "overlay",
              "size": 10,
              "solidity": 0.2
             }
            },
            "type": "barpolar"
           }
          ],
          "carpet": [
           {
            "aaxis": {
             "endlinecolor": "#2a3f5f",
             "gridcolor": "white",
             "linecolor": "white",
             "minorgridcolor": "white",
             "startlinecolor": "#2a3f5f"
            },
            "baxis": {
             "endlinecolor": "#2a3f5f",
             "gridcolor": "white",
             "linecolor": "white",
             "minorgridcolor": "white",
             "startlinecolor": "#2a3f5f"
            },
            "type": "carpet"
           }
          ],
          "choropleth": [
           {
            "colorbar": {
             "outlinewidth": 0,
             "ticks": ""
            },
            "type": "choropleth"
           }
          ],
          "contour": [
           {
            "colorbar": {
             "outlinewidth": 0,
             "ticks": ""
            },
            "colorscale": [
             [
              0,
              "#0d0887"
             ],
             [
              0.1111111111111111,
              "#46039f"
             ],
             [
              0.2222222222222222,
              "#7201a8"
             ],
             [
              0.3333333333333333,
              "#9c179e"
             ],
             [
              0.4444444444444444,
              "#bd3786"
             ],
             [
              0.5555555555555556,
              "#d8576b"
             ],
             [
              0.6666666666666666,
              "#ed7953"
             ],
             [
              0.7777777777777778,
              "#fb9f3a"
             ],
             [
              0.8888888888888888,
              "#fdca26"
             ],
             [
              1,
              "#f0f921"
             ]
            ],
            "type": "contour"
           }
          ],
          "contourcarpet": [
           {
            "colorbar": {
             "outlinewidth": 0,
             "ticks": ""
            },
            "type": "contourcarpet"
           }
          ],
          "heatmap": [
           {
            "colorbar": {
             "outlinewidth": 0,
             "ticks": ""
            },
            "colorscale": [
             [
              0,
              "#0d0887"
             ],
             [
              0.1111111111111111,
              "#46039f"
             ],
             [
              0.2222222222222222,
              "#7201a8"
             ],
             [
              0.3333333333333333,
              "#9c179e"
             ],
             [
              0.4444444444444444,
              "#bd3786"
             ],
             [
              0.5555555555555556,
              "#d8576b"
             ],
             [
              0.6666666666666666,
              "#ed7953"
             ],
             [
              0.7777777777777778,
              "#fb9f3a"
             ],
             [
              0.8888888888888888,
              "#fdca26"
             ],
             [
              1,
              "#f0f921"
             ]
            ],
            "type": "heatmap"
           }
          ],
          "heatmapgl": [
           {
            "colorbar": {
             "outlinewidth": 0,
             "ticks": ""
            },
            "colorscale": [
             [
              0,
              "#0d0887"
             ],
             [
              0.1111111111111111,
              "#46039f"
             ],
             [
              0.2222222222222222,
              "#7201a8"
             ],
             [
              0.3333333333333333,
              "#9c179e"
             ],
             [
              0.4444444444444444,
              "#bd3786"
             ],
             [
              0.5555555555555556,
              "#d8576b"
             ],
             [
              0.6666666666666666,
              "#ed7953"
             ],
             [
              0.7777777777777778,
              "#fb9f3a"
             ],
             [
              0.8888888888888888,
              "#fdca26"
             ],
             [
              1,
              "#f0f921"
             ]
            ],
            "type": "heatmapgl"
           }
          ],
          "histogram": [
           {
            "marker": {
             "pattern": {
              "fillmode": "overlay",
              "size": 10,
              "solidity": 0.2
             }
            },
            "type": "histogram"
           }
          ],
          "histogram2d": [
           {
            "colorbar": {
             "outlinewidth": 0,
             "ticks": ""
            },
            "colorscale": [
             [
              0,
              "#0d0887"
             ],
             [
              0.1111111111111111,
              "#46039f"
             ],
             [
              0.2222222222222222,
              "#7201a8"
             ],
             [
              0.3333333333333333,
              "#9c179e"
             ],
             [
              0.4444444444444444,
              "#bd3786"
             ],
             [
              0.5555555555555556,
              "#d8576b"
             ],
             [
              0.6666666666666666,
              "#ed7953"
             ],
             [
              0.7777777777777778,
              "#fb9f3a"
             ],
             [
              0.8888888888888888,
              "#fdca26"
             ],
             [
              1,
              "#f0f921"
             ]
            ],
            "type": "histogram2d"
           }
          ],
          "histogram2dcontour": [
           {
            "colorbar": {
             "outlinewidth": 0,
             "ticks": ""
            },
            "colorscale": [
             [
              0,
              "#0d0887"
             ],
             [
              0.1111111111111111,
              "#46039f"
             ],
             [
              0.2222222222222222,
              "#7201a8"
             ],
             [
              0.3333333333333333,
              "#9c179e"
             ],
             [
              0.4444444444444444,
              "#bd3786"
             ],
             [
              0.5555555555555556,
              "#d8576b"
             ],
             [
              0.6666666666666666,
              "#ed7953"
             ],
             [
              0.7777777777777778,
              "#fb9f3a"
             ],
             [
              0.8888888888888888,
              "#fdca26"
             ],
             [
              1,
              "#f0f921"
             ]
            ],
            "type": "histogram2dcontour"
           }
          ],
          "mesh3d": [
           {
            "colorbar": {
             "outlinewidth": 0,
             "ticks": ""
            },
            "type": "mesh3d"
           }
          ],
          "parcoords": [
           {
            "line": {
             "colorbar": {
              "outlinewidth": 0,
              "ticks": ""
             }
            },
            "type": "parcoords"
           }
          ],
          "pie": [
           {
            "automargin": true,
            "type": "pie"
           }
          ],
          "scatter": [
           {
            "fillpattern": {
             "fillmode": "overlay",
             "size": 10,
             "solidity": 0.2
            },
            "type": "scatter"
           }
          ],
          "scatter3d": [
           {
            "line": {
             "colorbar": {
              "outlinewidth": 0,
              "ticks": ""
             }
            },
            "marker": {
             "colorbar": {
              "outlinewidth": 0,
              "ticks": ""
             }
            },
            "type": "scatter3d"
           }
          ],
          "scattercarpet": [
           {
            "marker": {
             "colorbar": {
              "outlinewidth": 0,
              "ticks": ""
             }
            },
            "type": "scattercarpet"
           }
          ],
          "scattergeo": [
           {
            "marker": {
             "colorbar": {
              "outlinewidth": 0,
              "ticks": ""
             }
            },
            "type": "scattergeo"
           }
          ],
          "scattergl": [
           {
            "marker": {
             "colorbar": {
              "outlinewidth": 0,
              "ticks": ""
             }
            },
            "type": "scattergl"
           }
          ],
          "scattermapbox": [
           {
            "marker": {
             "colorbar": {
              "outlinewidth": 0,
              "ticks": ""
             }
            },
            "type": "scattermapbox"
           }
          ],
          "scatterpolar": [
           {
            "marker": {
             "colorbar": {
              "outlinewidth": 0,
              "ticks": ""
             }
            },
            "type": "scatterpolar"
           }
          ],
          "scatterpolargl": [
           {
            "marker": {
             "colorbar": {
              "outlinewidth": 0,
              "ticks": ""
             }
            },
            "type": "scatterpolargl"
           }
          ],
          "scatterternary": [
           {
            "marker": {
             "colorbar": {
              "outlinewidth": 0,
              "ticks": ""
             }
            },
            "type": "scatterternary"
           }
          ],
          "surface": [
           {
            "colorbar": {
             "outlinewidth": 0,
             "ticks": ""
            },
            "colorscale": [
             [
              0,
              "#0d0887"
             ],
             [
              0.1111111111111111,
              "#46039f"
             ],
             [
              0.2222222222222222,
              "#7201a8"
             ],
             [
              0.3333333333333333,
              "#9c179e"
             ],
             [
              0.4444444444444444,
              "#bd3786"
             ],
             [
              0.5555555555555556,
              "#d8576b"
             ],
             [
              0.6666666666666666,
              "#ed7953"
             ],
             [
              0.7777777777777778,
              "#fb9f3a"
             ],
             [
              0.8888888888888888,
              "#fdca26"
             ],
             [
              1,
              "#f0f921"
             ]
            ],
            "type": "surface"
           }
          ],
          "table": [
           {
            "cells": {
             "fill": {
              "color": "#EBF0F8"
             },
             "line": {
              "color": "white"
             }
            },
            "header": {
             "fill": {
              "color": "#C8D4E3"
             },
             "line": {
              "color": "white"
             }
            },
            "type": "table"
           }
          ]
         },
         "layout": {
          "annotationdefaults": {
           "arrowcolor": "#2a3f5f",
           "arrowhead": 0,
           "arrowwidth": 1
          },
          "autotypenumbers": "strict",
          "coloraxis": {
           "colorbar": {
            "outlinewidth": 0,
            "ticks": ""
           }
          },
          "colorscale": {
           "diverging": [
            [
             0,
             "#8e0152"
            ],
            [
             0.1,
             "#c51b7d"
            ],
            [
             0.2,
             "#de77ae"
            ],
            [
             0.3,
             "#f1b6da"
            ],
            [
             0.4,
             "#fde0ef"
            ],
            [
             0.5,
             "#f7f7f7"
            ],
            [
             0.6,
             "#e6f5d0"
            ],
            [
             0.7,
             "#b8e186"
            ],
            [
             0.8,
             "#7fbc41"
            ],
            [
             0.9,
             "#4d9221"
            ],
            [
             1,
             "#276419"
            ]
           ],
           "sequential": [
            [
             0,
             "#0d0887"
            ],
            [
             0.1111111111111111,
             "#46039f"
            ],
            [
             0.2222222222222222,
             "#7201a8"
            ],
            [
             0.3333333333333333,
             "#9c179e"
            ],
            [
             0.4444444444444444,
             "#bd3786"
            ],
            [
             0.5555555555555556,
             "#d8576b"
            ],
            [
             0.6666666666666666,
             "#ed7953"
            ],
            [
             0.7777777777777778,
             "#fb9f3a"
            ],
            [
             0.8888888888888888,
             "#fdca26"
            ],
            [
             1,
             "#f0f921"
            ]
           ],
           "sequentialminus": [
            [
             0,
             "#0d0887"
            ],
            [
             0.1111111111111111,
             "#46039f"
            ],
            [
             0.2222222222222222,
             "#7201a8"
            ],
            [
             0.3333333333333333,
             "#9c179e"
            ],
            [
             0.4444444444444444,
             "#bd3786"
            ],
            [
             0.5555555555555556,
             "#d8576b"
            ],
            [
             0.6666666666666666,
             "#ed7953"
            ],
            [
             0.7777777777777778,
             "#fb9f3a"
            ],
            [
             0.8888888888888888,
             "#fdca26"
            ],
            [
             1,
             "#f0f921"
            ]
           ]
          },
          "colorway": [
           "#636efa",
           "#EF553B",
           "#00cc96",
           "#ab63fa",
           "#FFA15A",
           "#19d3f3",
           "#FF6692",
           "#B6E880",
           "#FF97FF",
           "#FECB52"
          ],
          "font": {
           "color": "#2a3f5f"
          },
          "geo": {
           "bgcolor": "white",
           "lakecolor": "white",
           "landcolor": "#E5ECF6",
           "showlakes": true,
           "showland": true,
           "subunitcolor": "white"
          },
          "hoverlabel": {
           "align": "left"
          },
          "hovermode": "closest",
          "mapbox": {
           "style": "light"
          },
          "paper_bgcolor": "white",
          "plot_bgcolor": "#E5ECF6",
          "polar": {
           "angularaxis": {
            "gridcolor": "white",
            "linecolor": "white",
            "ticks": ""
           },
           "bgcolor": "#E5ECF6",
           "radialaxis": {
            "gridcolor": "white",
            "linecolor": "white",
            "ticks": ""
           }
          },
          "scene": {
           "xaxis": {
            "backgroundcolor": "#E5ECF6",
            "gridcolor": "white",
            "gridwidth": 2,
            "linecolor": "white",
            "showbackground": true,
            "ticks": "",
            "zerolinecolor": "white"
           },
           "yaxis": {
            "backgroundcolor": "#E5ECF6",
            "gridcolor": "white",
            "gridwidth": 2,
            "linecolor": "white",
            "showbackground": true,
            "ticks": "",
            "zerolinecolor": "white"
           },
           "zaxis": {
            "backgroundcolor": "#E5ECF6",
            "gridcolor": "white",
            "gridwidth": 2,
            "linecolor": "white",
            "showbackground": true,
            "ticks": "",
            "zerolinecolor": "white"
           }
          },
          "shapedefaults": {
           "line": {
            "color": "#2a3f5f"
           }
          },
          "ternary": {
           "aaxis": {
            "gridcolor": "white",
            "linecolor": "white",
            "ticks": ""
           },
           "baxis": {
            "gridcolor": "white",
            "linecolor": "white",
            "ticks": ""
           },
           "bgcolor": "#E5ECF6",
           "caxis": {
            "gridcolor": "white",
            "linecolor": "white",
            "ticks": ""
           }
          },
          "title": {
           "x": 0.05
          },
          "xaxis": {
           "automargin": true,
           "gridcolor": "white",
           "linecolor": "white",
           "ticks": "",
           "title": {
            "standoff": 15
           },
           "zerolinecolor": "white",
           "zerolinewidth": 2
          },
          "yaxis": {
           "automargin": true,
           "gridcolor": "white",
           "linecolor": "white",
           "ticks": "",
           "title": {
            "standoff": 15
           },
           "zerolinecolor": "white",
           "zerolinewidth": 2
          }
         }
        },
        "title": {
         "text": "Compare percent change and its approximation with natural logarithm"
        },
        "xaxis": {
         "anchor": "y",
         "autorange": true,
         "domain": [
          0,
          1
         ],
         "range": [
          -99.99,
          399.99
         ],
         "title": {
          "text": "x"
         },
         "type": "linear"
        },
        "yaxis": {
         "anchor": "x",
         "autorange": true,
         "domain": [
          0,
          1
         ],
         "range": [
          -994.4242614863748,
          473.3802242887566
         ],
         "title": {
          "text": "y"
         },
         "type": "linear"
        }
       }
      },
      "image/png": "[encoded data removed]",
      "text/html": [
       "<div>                            <div id=\"a14a934a-23c4-4214-8abd-be69b16f46aa\" class=\"plotly-graph-div\" style=\"height:525px; width:100%;\"></div>            <script type=\"text/javascript\">                require([\"plotly\"], function(Plotly) {                    window.PLOTLYENV=window.PLOTLYENV || {};                                    if (document.getElementById(\"a14a934a-23c4-4214-8abd-be69b16f46aa\")) {                    Plotly.newPlot(                        \"a14a934a-23c4-4214-8abd-be69b16f46aa\",                        [{\"hovertemplate\":\"x=%{x}<br>y=%{y}<extra></extra>\",\"legendgroup\":\"\",\"line\":{\"color\":\"#636efa\",\"dash\":\"solid\"},\"marker\":{\"symbol\":\"circle\"},\"mode\":\"lines\",\"name\":\"\",\"orientation\":\"v\",\"showlegend\":false,\"x\":[-99.99,-94.93969696969697,-89.88939393939394,-84.83909090909091,-79.78878787878789,-74.73848484848484,-69.68818181818182,-64.63787878787879,-59.58757575757576,-54.53727272727272,-49.486969696969695,-44.43666666666667,-39.38636363636363,-34.336060606060606,-29.285757575757575,-24.235454545454537,-19.18515151515151,-14.134848484848483,-9.084545454545445,-4.034242424242418,1.0160606060606092,6.066363636363636,11.116666666666664,16.166969696969712,21.21727272727274,26.267575757575766,31.317878787878794,36.368181818181824,41.41848484848485,46.4687878787879,51.51909090909093,56.569393939393954,61.61969696969698,66.67,71.72030303030303,76.77060606060606,81.82090909090911,86.87121212121214,91.92151515151517,96.9718181818182,102.02212121212125,107.07242424242426,112.1227272727273,117.17303030303032,122.22333333333336,127.27363636363643,132.32393939393944,137.37424242424248,142.4245454545455,147.47484848484854,152.52515151515155,157.5754545454546,162.6257575757576,167.67606060606064,172.72636363636366,177.7766666666667,182.8269696969697,187.87727272727275,192.92757575757582,197.97787878787884,203.02818181818188,208.0784848484849,213.12878787878793,218.17909090909095,223.229393939394,228.279696969697,233.33000000000004,238.38030303030305,243.4306060606061,248.4809090909091,253.53121212121215,258.5815151515152,263.63181818181823,268.6821212121213,273.7324242424243,278.7827272727273,283.83303030303034,288.8833333333334,293.9336363636364,298.9839393939394,304.0342424242424,309.08454545454543,314.1348484848485,319.1851515151515,324.2354545454545,329.28575757575754,334.3360606060606,339.3863636363636,344.4366666666666,349.48696969696965,354.5372727272728,359.5875757575758,364.63787878787883,369.6881818181819,374.73848484848486,379.7887878787879,384.83909090909094,389.889393939394,394.939696969697,399.99],\"xaxis\":\"x\",\"y\":[-99.99,-94.93969696969697,-89.88939393939394,-84.83909090909091,-79.78878787878789,-74.73848484848484,-69.68818181818182,-64.63787878787879,-59.58757575757576,-54.53727272727272,-49.486969696969695,-44.43666666666667,-39.38636363636363,-34.336060606060606,-29.285757575757575,-24.235454545454537,-19.18515151515151,-14.134848484848483,-9.084545454545445,-4.034242424242418,1.0160606060606092,6.066363636363636,11.116666666666664,16.166969696969712,21.21727272727274,26.267575757575766,31.317878787878794,36.368181818181824,41.41848484848485,46.4687878787879,51.51909090909093,56.569393939393954,61.61969696969698,66.67,71.72030303030303,76.77060606060606,81.82090909090911,86.87121212121214,91.92151515151517,96.9718181818182,102.02212121212125,107.07242424242426,112.1227272727273,117.17303030303032,122.22333333333336,127.27363636363643,132.32393939393944,137.37424242424248,142.4245454545455,147.47484848484854,152.52515151515155,157.5754545454546,162.6257575757576,167.67606060606064,172.72636363636366,177.7766666666667,182.8269696969697,187.87727272727275,192.92757575757582,197.97787878787884,203.02818181818188,208.0784848484849,213.12878787878793,218.17909090909095,223.229393939394,228.279696969697,233.33000000000004,238.38030303030305,243.4306060606061,248.4809090909091,253.53121212121215,258.5815151515152,263.63181818181823,268.6821212121213,273.7324242424243,278.7827272727273,283.83303030303034,288.8833333333334,293.9336363636364,298.9839393939394,304.0342424242424,309.08454545454543,314.1348484848485,319.1851515151515,324.2354545454545,329.28575757575754,334.3360606060606,339.3863636363636,344.4366666666666,349.48696969696965,354.5372727272728,359.5875757575758,364.63787878787883,369.6881818181819,374.73848484848486,379.7887878787879,384.83909090909094,389.889393939394,394.939696969697,399.99],\"yaxis\":\"y\",\"type\":\"scatter\"},{\"hovertemplate\":\"x=%{x}<br>y=%{y}<extra></extra>\",\"legendgroup\":\"\",\"line\":{\"color\":\"#636efa\",\"dash\":\"solid\"},\"marker\":{\"symbol\":\"circle\"},\"mode\":\"lines\",\"name\":\"\",\"orientation\":\"v\",\"showlegend\":false,\"x\":[-99.99,-94.93969696969697,-89.88939393939394,-84.83909090909091,-79.78878787878789,-74.73848484848484,-69.68818181818182,-64.63787878787879,-59.58757575757576,-54.53727272727272,-49.486969696969695,-44.43666666666667,-39.38636363636363,-34.336060606060606,-29.285757575757575,-24.235454545454537,-19.18515151515151,-14.134848484848483,-9.084545454545445,-4.034242424242418,1.0160606060606092,6.066363636363636,11.116666666666664,16.166969696969712,21.21727272727274,26.267575757575766,31.317878787878794,36.368181818181824,41.41848484848485,46.4687878787879,51.51909090909093,56.569393939393954,61.61969696969698,66.67,71.72030303030303,76.77060606060606,81.82090909090911,86.87121212121214,91.92151515151517,96.9718181818182,102.02212121212125,107.07242424242426,112.1227272727273,117.17303030303032,122.22333333333336,127.27363636363643,132.32393939393944,137.37424242424248,142.4245454545455,147.47484848484854,152.52515151515155,157.5754545454546,162.6257575757576,167.67606060606064,172.72636363636366,177.7766666666667,182.8269696969697,187.87727272727275,192.92757575757582,197.97787878787884,203.02818181818188,208.0784848484849,213.12878787878793,218.17909090909095,223.229393939394,228.279696969697,233.33000000000004,238.38030303030305,243.4306060606061,248.4809090909091,253.53121212121215,258.5815151515152,263.63181818181823,268.6821212121213,273.7324242424243,278.7827272727273,283.83303030303034,288.8833333333334,293.9336363636364,298.9839393939394,304.0342424242424,309.08454545454543,314.1348484848485,319.1851515151515,324.2354545454545,329.28575757575754,334.3360606060606,339.3863636363636,344.4366666666666,349.48696969696965,354.5372727272728,359.5875757575758,364.63787878787883,369.6881818181819,374.73848484848486,379.7887878787879,384.83909090909094,389.889393939394,394.939696969697,399.99],\"xaxis\":\"x\",\"y\":[-921.0340371976182,-298.3743817070231,-229.1585208104956,-188.6449841152974,-159.89326800617107,-137.58880886193538,-119.36325105143067,-103.95289609873413,-90.6032917545801,-78.82773765623263,-68.29388571871291,-58.76466747012044,-50.065029572433815,-42.06202788526818,-34.65231846573321,-27.753974083001985,-21.300946896754372,-15.239212597976454,-9.524018225421042,-4.117875006914084,1.010933411306993,5.889478426380309,10.541051440786795,14.985836412321085,19.241439174435676,23.323308639941136,27.245075351361187,31.018826108162965,34.655328628875466,38.16421677482989,41.55414436236718,44.83291374674917,48.007583985998274,51.08456235659934,54.06968220435285,56.9682695080191,59.78520006431217,62.52494883659418,65.19163272157861,67.78904776019384,70.32070163683221,72.78984216523611,75.19948234145116,77.55242244864208,79.85126962052718,82.09845520618305,84.29625022622352,86.44677916668803,88.55203232066204,90.61387685733192,92.63406677275768,94.6142518552556,96.55598578021657,98.46073343387096,100.3298775524896,102.16472475239814,103.96651101667389,105.73640669623154,107.47552107597824,109.18490655065227,110.86556244971113,112.51843854607819,114.14443827959548,115.74442172257369,117.31920831181178,118.86957936881177,120.39628042759358,121.90002338747044,123.38148850634629,124.84132624850493,126.28015899945424,127.69858265914107,129.09716812374404,130.47646266526672,131.83699121727446,133.17925757433403,134.5037455120155,135.81091983368668,137.1012273497681,138.37509779461175,139.63294468571098,140.87516612954047,142.10214557795564,143.31425253874698,144.5118432436445,145.6952612767929,146.86483816647257,148.02089394261495,149.163737662459,150.29366790650784,151.41097324677736,152.51593268917358,153.60881609169562,154.68988456003189,155.75939082200102,156.81757958217997,157.8646878579649,158.90094529821872,159.92657448557733,160.94179122340978],\"yaxis\":\"y\",\"type\":\"scatter\"}],                        {\"template\":{\"data\":{\"histogram2dcontour\":[{\"type\":\"histogram2dcontour\",\"colorbar\":{\"outlinewidth\":0,\"ticks\":\"\"},\"colorscale\":[[0.0,\"#0d0887\"],[0.1111111111111111,\"#46039f\"],[0.2222222222222222,\"#7201a8\"],[0.3333333333333333,\"#9c179e\"],[0.4444444444444444,\"#bd3786\"],[0.5555555555555556,\"#d8576b\"],[0.6666666666666666,\"#ed7953\"],[0.7777777777777778,\"#fb9f3a\"],[0.8888888888888888,\"#fdca26\"],[1.0,\"#f0f921\"]]}],\"choropleth\":[{\"type\":\"choropleth\",\"colorbar\":{\"outlinewidth\":0,\"ticks\":\"\"}}],\"histogram2d\":[{\"type\":\"histogram2d\",\"colorbar\":{\"outlinewidth\":0,\"ticks\":\"\"},\"colorscale\":[[0.0,\"#0d0887\"],[0.1111111111111111,\"#46039f\"],[0.2222222222222222,\"#7201a8\"],[0.3333333333333333,\"#9c179e\"],[0.4444444444444444,\"#bd3786\"],[0.5555555555555556,\"#d8576b\"],[0.6666666666666666,\"#ed7953\"],[0.7777777777777778,\"#fb9f3a\"],[0.8888888888888888,\"#fdca26\"],[1.0,\"#f0f921\"]]}],\"heatmap\":[{\"type\":\"heatmap\",\"colorbar\":{\"outlinewidth\":0,\"ticks\":\"\"},\"colorscale\":[[0.0,\"#0d0887\"],[0.1111111111111111,\"#46039f\"],[0.2222222222222222,\"#7201a8\"],[0.3333333333333333,\"#9c179e\"],[0.4444444444444444,\"#bd3786\"],[0.5555555555555556,\"#d8576b\"],[0.6666666666666666,\"#ed7953\"],[0.7777777777777778,\"#fb9f3a\"],[0.8888888888888888,\"#fdca26\"],[1.0,\"#f0f921\"]]}],\"heatmapgl\":[{\"type\":\"heatmapgl\",\"colorbar\":{\"outlinewidth\":0,\"ticks\":\"\"},\"colorscale\":[[0.0,\"#0d0887\"],[0.1111111111111111,\"#46039f\"],[0.2222222222222222,\"#7201a8\"],[0.3333333333333333,\"#9c179e\"],[0.4444444444444444,\"#bd3786\"],[0.5555555555555556,\"#d8576b\"],[0.6666666666666666,\"#ed7953\"],[0.7777777777777778,\"#fb9f3a\"],[0.8888888888888888,\"#fdca26\"],[1.0,\"#f0f921\"]]}],\"contourcarpet\":[{\"type\":\"contourcarpet\",\"colorbar\":{\"outlinewidth\":0,\"ticks\":\"\"}}],\"contour\":[{\"type\":\"contour\",\"colorbar\":{\"outlinewidth\":0,\"ticks\":\"\"},\"colorscale\":[[0.0,\"#0d0887\"],[0.1111111111111111,\"#46039f\"],[0.2222222222222222,\"#7201a8\"],[0.3333333333333333,\"#9c179e\"],[0.4444444444444444,\"#bd3786\"],[0.5555555555555556,\"#d8576b\"],[0.6666666666666666,\"#ed7953\"],[0.7777777777777778,\"#fb9f3a\"],[0.8888888888888888,\"#fdca26\"],[1.0,\"#f0f921\"]]}],\"surface\":[{\"type\":\"surface\",\"colorbar\":{\"outlinewidth\":0,\"ticks\":\"\"},\"colorscale\":[[0.0,\"#0d0887\"],[0.1111111111111111,\"#46039f\"],[0.2222222222222222,\"#7201a8\"],[0.3333333333333333,\"#9c179e\"],[0.4444444444444444,\"#bd3786\"],[0.5555555555555556,\"#d8576b\"],[0.6666666666666666,\"#ed7953\"],[0.7777777777777778,\"#fb9f3a\"],[0.8888888888888888,\"#fdca26\"],[1.0,\"#f0f921\"]]}],\"mesh3d\":[{\"type\":\"mesh3d\",\"colorbar\":{\"outlinewidth\":0,\"ticks\":\"\"}}],\"scatter\":[{\"fillpattern\":{\"fillmode\":\"overlay\",\"size\":10,\"solidity\":0.2},\"type\":\"scatter\"}],\"parcoords\":[{\"type\":\"parcoords\",\"line\":{\"colorbar\":{\"outlinewidth\":0,\"ticks\":\"\"}}}],\"scatterpolargl\":[{\"type\":\"scatterpolargl\",\"marker\":{\"colorbar\":{\"outlinewidth\":0,\"ticks\":\"\"}}}],\"bar\":[{\"error_x\":{\"color\":\"#2a3f5f\"},\"error_y\":{\"color\":\"#2a3f5f\"},\"marker\":{\"line\":{\"color\":\"#E5ECF6\",\"width\":0.5},\"pattern\":{\"fillmode\":\"overlay\",\"size\":10,\"solidity\":0.2}},\"type\":\"bar\"}],\"scattergeo\":[{\"type\":\"scattergeo\",\"marker\":{\"colorbar\":{\"outlinewidth\":0,\"ticks\":\"\"}}}],\"scatterpolar\":[{\"type\":\"scatterpolar\",\"marker\":{\"colorbar\":{\"outlinewidth\":0,\"ticks\":\"\"}}}],\"histogram\":[{\"marker\":{\"pattern\":{\"fillmode\":\"overlay\",\"size\":10,\"solidity\":0.2}},\"type\":\"histogram\"}],\"scattergl\":[{\"type\":\"scattergl\",\"marker\":{\"colorbar\":{\"outlinewidth\":0,\"ticks\":\"\"}}}],\"scatter3d\":[{\"type\":\"scatter3d\",\"line\":{\"colorbar\":{\"outlinewidth\":0,\"ticks\":\"\"}},\"marker\":{\"colorbar\":{\"outlinewidth\":0,\"ticks\":\"\"}}}],\"scattermapbox\":[{\"type\":\"scattermapbox\",\"marker\":{\"colorbar\":{\"outlinewidth\":0,\"ticks\":\"\"}}}],\"scatterternary\":[{\"type\":\"scatterternary\",\"marker\":{\"colorbar\":{\"outlinewidth\":0,\"ticks\":\"\"}}}],\"scattercarpet\":[{\"type\":\"scattercarpet\",\"marker\":{\"colorbar\":{\"outlinewidth\":0,\"ticks\":\"\"}}}],\"carpet\":[{\"aaxis\":{\"endlinecolor\":\"#2a3f5f\",\"gridcolor\":\"white\",\"linecolor\":\"white\",\"minorgridcolor\":\"white\",\"startlinecolor\":\"#2a3f5f\"},\"baxis\":{\"endlinecolor\":\"#2a3f5f\",\"gridcolor\":\"white\",\"linecolor\":\"white\",\"minorgridcolor\":\"white\",\"startlinecolor\":\"#2a3f5f\"},\"type\":\"carpet\"}],\"table\":[{\"cells\":{\"fill\":{\"color\":\"#EBF0F8\"},\"line\":{\"color\":\"white\"}},\"header\":{\"fill\":{\"color\":\"#C8D4E3\"},\"line\":{\"color\":\"white\"}},\"type\":\"table\"}],\"barpolar\":[{\"marker\":{\"line\":{\"color\":\"#E5ECF6\",\"width\":0.5},\"pattern\":{\"fillmode\":\"overlay\",\"size\":10,\"solidity\":0.2}},\"type\":\"barpolar\"}],\"pie\":[{\"automargin\":true,\"type\":\"pie\"}]},\"layout\":{\"autotypenumbers\":\"strict\",\"colorway\":[\"#636efa\",\"#EF553B\",\"#00cc96\",\"#ab63fa\",\"#FFA15A\",\"#19d3f3\",\"#FF6692\",\"#B6E880\",\"#FF97FF\",\"#FECB52\"],\"font\":{\"color\":\"#2a3f5f\"},\"hovermode\":\"closest\",\"hoverlabel\":{\"align\":\"left\"},\"paper_bgcolor\":\"white\",\"plot_bgcolor\":\"#E5ECF6\",\"polar\":{\"bgcolor\":\"#E5ECF6\",\"angularaxis\":{\"gridcolor\":\"white\",\"linecolor\":\"white\",\"ticks\":\"\"},\"radialaxis\":{\"gridcolor\":\"white\",\"linecolor\":\"white\",\"ticks\":\"\"}},\"ternary\":{\"bgcolor\":\"#E5ECF6\",\"aaxis\":{\"gridcolor\":\"white\",\"linecolor\":\"white\",\"ticks\":\"\"},\"baxis\":{\"gridcolor\":\"white\",\"linecolor\":\"white\",\"ticks\":\"\"},\"caxis\":{\"gridcolor\":\"white\",\"linecolor\":\"white\",\"ticks\":\"\"}},\"coloraxis\":{\"colorbar\":{\"outlinewidth\":0,\"ticks\":\"\"}},\"colorscale\":{\"sequential\":[[0.0,\"#0d0887\"],[0.1111111111111111,\"#46039f\"],[0.2222222222222222,\"#7201a8\"],[0.3333333333333333,\"#9c179e\"],[0.4444444444444444,\"#bd3786\"],[0.5555555555555556,\"#d8576b\"],[0.6666666666666666,\"#ed7953\"],[0.7777777777777778,\"#fb9f3a\"],[0.8888888888888888,\"#fdca26\"],[1.0,\"#f0f921\"]],\"sequentialminus\":[[0.0,\"#0d0887\"],[0.1111111111111111,\"#46039f\"],[0.2222222222222222,\"#7201a8\"],[0.3333333333333333,\"#9c179e\"],[0.4444444444444444,\"#bd3786\"],[0.5555555555555556,\"#d8576b\"],[0.6666666666666666,\"#ed7953\"],[0.7777777777777778,\"#fb9f3a\"],[0.8888888888888888,\"#fdca26\"],[1.0,\"#f0f921\"]],\"diverging\":[[0,\"#8e0152\"],[0.1,\"#c51b7d\"],[0.2,\"#de77ae\"],[0.3,\"#f1b6da\"],[0.4,\"#fde0ef\"],[0.5,\"#f7f7f7\"],[0.6,\"#e6f5d0\"],[0.7,\"#b8e186\"],[0.8,\"#7fbc41\"],[0.9,\"#4d9221\"],[1,\"#276419\"]]},\"xaxis\":{\"gridcolor\":\"white\",\"linecolor\":\"white\",\"ticks\":\"\",\"title\":{\"standoff\":15},\"zerolinecolor\":\"white\",\"automargin\":true,\"zerolinewidth\":2},\"yaxis\":{\"gridcolor\":\"white\",\"linecolor\":\"white\",\"ticks\":\"\",\"title\":{\"standoff\":15},\"zerolinecolor\":\"white\",\"automargin\":true,\"zerolinewidth\":2},\"scene\":{\"xaxis\":{\"backgroundcolor\":\"#E5ECF6\",\"gridcolor\":\"white\",\"linecolor\":\"white\",\"showbackground\":true,\"ticks\":\"\",\"zerolinecolor\":\"white\",\"gridwidth\":2},\"yaxis\":{\"backgroundcolor\":\"#E5ECF6\",\"gridcolor\":\"white\",\"linecolor\":\"white\",\"showbackground\":true,\"ticks\":\"\",\"zerolinecolor\":\"white\",\"gridwidth\":2},\"zaxis\":{\"backgroundcolor\":\"#E5ECF6\",\"gridcolor\":\"white\",\"linecolor\":\"white\",\"showbackground\":true,\"ticks\":\"\",\"zerolinecolor\":\"white\",\"gridwidth\":2}},\"shapedefaults\":{\"line\":{\"color\":\"#2a3f5f\"}},\"annotationdefaults\":{\"arrowcolor\":\"#2a3f5f\",\"arrowhead\":0,\"arrowwidth\":1},\"geo\":{\"bgcolor\":\"white\",\"landcolor\":\"#E5ECF6\",\"subunitcolor\":\"white\",\"showland\":true,\"showlakes\":true,\"lakecolor\":\"white\"},\"title\":{\"x\":0.05},\"mapbox\":{\"style\":\"light\"}}},\"xaxis\":{\"anchor\":\"y\",\"domain\":[0.0,1.0],\"title\":{\"text\":\"x\"}},\"yaxis\":{\"anchor\":\"x\",\"domain\":[0.0,1.0],\"title\":{\"text\":\"y\"}},\"legend\":{\"tracegroupgap\":0},\"title\":{\"text\":\"Compare percent change and its approximation with natural logarithm\"}},                        {\"responsive\": true}                    ).then(function(){\n",
       "                            \n",
       "var gd = document.getElementById('a14a934a-23c4-4214-8abd-be69b16f46aa');\n",
       "var x = new MutationObserver(function (mutations, observer) {{\n",
       "        var display = window.getComputedStyle(gd).display;\n",
       "        if (!display || display === 'none') {{\n",
       "            console.log([gd, 'removed!']);\n",
       "            Plotly.purge(gd);\n",
       "            observer.disconnect();\n",
       "        }}\n",
       "}});\n",
       "\n",
       "// Listen for the removal of the full notebook cells\n",
       "var notebookContainer = gd.closest('#notebook-container');\n",
       "if (notebookContainer) {{\n",
       "    x.observe(notebookContainer, {childList: true});\n",
       "}}\n",
       "\n",
       "// Listen for the clearing of the current output cell\n",
       "var outputEl = gd.closest('.output');\n",
       "if (outputEl) {{\n",
       "    x.observe(outputEl, {childList: true});\n",
       "}}\n",
       "\n",
       "                        })                };                });            </script>        </div>"
      ]
     },
     "metadata": {},
     "output_type": "display_data"
    }
   ],
   "source": [
    "import plotly.express as px\n",
    "import numpy as np\n",
    "\n",
    "# define the x values\n",
    "df2 = pd.DataFrame()\n",
    "df2['ratio'] = np.linspace(0.00010, 5-0.00010, 100)\n",
    "\n",
    "df2['gr_rate']= df2['ratio'] - 1\n",
    "df2['percent_gr_rate'] = df2['gr_rate']*100\n",
    "df2['ln_approx'] = np.log(df2['ratio'])\n",
    "df2['percent_ln_approx'] = df2['ln_approx']*100\n",
    "df2['difference'] = df2['gr_rate'] - df2['ln_approx']\n",
    "df2['percent_difference'] = df2['difference']*100\n",
    "df2\n",
    "\n",
    "\n",
    "# create the plot\n",
    "fig = px.line(x=df2['gr_rate']*100, y=df2['gr_rate']*100, title='Compare percent change and its approximation with natural logarithm')\n",
    "\n",
    "fig.add_trace(px.line(x=df2['gr_rate']*100, y=df2['ln_approx']*100).data[0])\n",
    "\n",
    "\n",
    "# show the plot\n",
    "fig.show()\n",
    "\n",
    "#df2.loc[df2['ratio'] < 1]"
   ]
  },
  {
   "cell_type": "code",
   "execution_count": null,
   "id": "32b1517f-9448-4be0-b899-dca26b37f85b",
   "metadata": {
    "id": "32b1517f-9448-4be0-b899-dca26b37f85b",
    "outputId": "1687e4de-69df-464a-b9b5-d3a5111e22c2"
   },
   "outputs": [
    {
     "data": {
      "application/vnd.plotly.v1+json": {
       "config": {
        "plotlyServerURL": "https://plot.ly"
       },
       "data": [
        {
         "hovertemplate": "x=%{x}<br>y=%{y}<extra></extra>",
         "legendgroup": "",
         "line": {
          "color": "#636efa",
          "dash": "solid"
         },
         "marker": {
          "symbol": "circle"
         },
         "mode": "lines",
         "name": "",
         "orientation": "v",
         "showlegend": false,
         "type": "scatter",
         "x": [
          -99.99,
          -94.93969696969697,
          -89.88939393939394,
          -84.83909090909091,
          -79.78878787878789,
          -74.73848484848484,
          -69.68818181818182,
          -64.63787878787879,
          -59.58757575757576,
          -54.53727272727272,
          -49.486969696969695,
          -44.43666666666667,
          -39.38636363636363,
          -34.336060606060606,
          -29.285757575757575,
          -24.235454545454537,
          -19.18515151515151,
          -14.134848484848483,
          -9.084545454545445,
          -4.034242424242418,
          1.0160606060606092,
          6.066363636363636,
          11.116666666666664,
          16.166969696969712,
          21.21727272727274,
          26.267575757575766,
          31.317878787878794,
          36.368181818181824,
          41.41848484848485,
          46.4687878787879,
          51.51909090909093,
          56.569393939393954,
          61.61969696969698,
          66.67,
          71.72030303030303,
          76.77060606060606,
          81.82090909090911,
          86.87121212121214,
          91.92151515151517,
          96.9718181818182,
          102.02212121212125,
          107.07242424242426,
          112.1227272727273,
          117.17303030303032,
          122.22333333333336,
          127.27363636363643,
          132.32393939393944,
          137.37424242424248,
          142.4245454545455,
          147.47484848484854,
          152.52515151515155,
          157.5754545454546,
          162.6257575757576,
          167.67606060606064,
          172.72636363636366,
          177.7766666666667,
          182.8269696969697,
          187.87727272727275,
          192.92757575757582,
          197.97787878787884,
          203.02818181818188,
          208.0784848484849,
          213.12878787878793,
          218.17909090909095,
          223.229393939394,
          228.279696969697,
          233.33000000000004,
          238.38030303030305,
          243.4306060606061,
          248.4809090909091,
          253.53121212121215,
          258.5815151515152,
          263.63181818181823,
          268.6821212121213,
          273.7324242424243,
          278.7827272727273,
          283.83303030303034,
          288.8833333333334,
          293.9336363636364,
          298.9839393939394,
          304.0342424242424,
          309.08454545454543,
          314.1348484848485,
          319.1851515151515,
          324.2354545454545,
          329.28575757575754,
          334.3360606060606,
          339.3863636363636,
          344.4366666666666,
          349.48696969696965,
          354.5372727272728,
          359.5875757575758,
          364.63787878787883,
          369.6881818181819,
          374.73848484848486,
          379.7887878787879,
          384.83909090909094,
          389.889393939394,
          394.939696969697,
          399.99
         ],
         "xaxis": "x",
         "y": [
          821.0440371976182,
          203.43468473732605,
          139.26912687110166,
          103.80589320620648,
          80.1044801273832,
          62.850324013450546,
          49.67506923324885,
          39.31501731085534,
          31.015715997004335,
          24.29046492895991,
          18.806916021743227,
          14.328000803453778,
          10.678665936070185,
          7.7259672792075795,
          5.366560889975636,
          3.5185195375474487,
          2.115795381602861,
          1.1043641131279702,
          0.43947277087559716,
          0.08363258267166593,
          0.005127194753616268,
          0.1768852099833268,
          0.5756152258798691,
          1.1811332846486278,
          1.975833552837064,
          2.944267117634633,
          4.072803436517608,
          5.349355710018855,
          6.763156219609384,
          8.304571103958008,
          9.964946546723747,
          11.736480192644782,
          13.612112983698704,
          15.585437643400669,
          17.65062082595018,
          19.802336552586965,
          22.03570902659694,
          24.346263284617965,
          26.72988242993656,
          29.182770421624348,
          31.701419575289023,
          34.28258207718816,
          36.92324493127613,
          39.62060785438825,
          42.372063712806174,
          45.17518115745337,
          48.02768916771593,
          50.92746325755445,
          53.87251313388347,
          56.86097162751661,
          59.891084742393886,
          62.96120269019898,
          66.06977179554103,
          69.21532717218967,
          72.39648608387405,
          75.61194191426854,
          78.86045868029584,
          82.1408660310412,
          85.45205468159757,
          88.79297223722658,
          92.16261936847074,
          95.5600463024067,
          98.98434959919244,
          102.43466918651727,
          105.91018562758221,
          109.41011760088524,
          112.93371957240646,
          116.48027964283263,
          120.0491175542598,
          123.6395828424042,
          127.2510531217579,
          130.88293249237415,
          134.53465005807422,
          138.20565854685455,
          141.89543302514983,
          145.6034696983933,
          149.32928479101483,
          153.0724134996467,
          156.8324090138683,
          160.6088415993277,
          164.40129773853144,
          168.20937932500496,
          172.03270290689284,
          175.8708989764045,
          179.72361130181002,
          183.59049629896464,
          187.47122243958802,
          191.36546969374865,
          195.27292900420764,
          199.19330179046182,
          203.1262994804954,
          207.0716430684022,
          211.02906269618322,
          214.99829725814993,
          218.9790940264839,
          222.97120829660795,
          226.97440305112605,
          230.98844864117524,
          235.01312248411966,
          239.04820877659026
         ],
         "yaxis": "y"
        }
       ],
       "layout": {
        "autosize": true,
        "legend": {
         "tracegroupgap": 0
        },
        "template": {
         "data": {
          "bar": [
           {
            "error_x": {
             "color": "#2a3f5f"
            },
            "error_y": {
             "color": "#2a3f5f"
            },
            "marker": {
             "line": {
              "color": "#E5ECF6",
              "width": 0.5
             },
             "pattern": {
              "fillmode": "overlay",
              "size": 10,
              "solidity": 0.2
             }
            },
            "type": "bar"
           }
          ],
          "barpolar": [
           {
            "marker": {
             "line": {
              "color": "#E5ECF6",
              "width": 0.5
             },
             "pattern": {
              "fillmode": "overlay",
              "size": 10,
              "solidity": 0.2
             }
            },
            "type": "barpolar"
           }
          ],
          "carpet": [
           {
            "aaxis": {
             "endlinecolor": "#2a3f5f",
             "gridcolor": "white",
             "linecolor": "white",
             "minorgridcolor": "white",
             "startlinecolor": "#2a3f5f"
            },
            "baxis": {
             "endlinecolor": "#2a3f5f",
             "gridcolor": "white",
             "linecolor": "white",
             "minorgridcolor": "white",
             "startlinecolor": "#2a3f5f"
            },
            "type": "carpet"
           }
          ],
          "choropleth": [
           {
            "colorbar": {
             "outlinewidth": 0,
             "ticks": ""
            },
            "type": "choropleth"
           }
          ],
          "contour": [
           {
            "colorbar": {
             "outlinewidth": 0,
             "ticks": ""
            },
            "colorscale": [
             [
              0,
              "#0d0887"
             ],
             [
              0.1111111111111111,
              "#46039f"
             ],
             [
              0.2222222222222222,
              "#7201a8"
             ],
             [
              0.3333333333333333,
              "#9c179e"
             ],
             [
              0.4444444444444444,
              "#bd3786"
             ],
             [
              0.5555555555555556,
              "#d8576b"
             ],
             [
              0.6666666666666666,
              "#ed7953"
             ],
             [
              0.7777777777777778,
              "#fb9f3a"
             ],
             [
              0.8888888888888888,
              "#fdca26"
             ],
             [
              1,
              "#f0f921"
             ]
            ],
            "type": "contour"
           }
          ],
          "contourcarpet": [
           {
            "colorbar": {
             "outlinewidth": 0,
             "ticks": ""
            },
            "type": "contourcarpet"
           }
          ],
          "heatmap": [
           {
            "colorbar": {
             "outlinewidth": 0,
             "ticks": ""
            },
            "colorscale": [
             [
              0,
              "#0d0887"
             ],
             [
              0.1111111111111111,
              "#46039f"
             ],
             [
              0.2222222222222222,
              "#7201a8"
             ],
             [
              0.3333333333333333,
              "#9c179e"
             ],
             [
              0.4444444444444444,
              "#bd3786"
             ],
             [
              0.5555555555555556,
              "#d8576b"
             ],
             [
              0.6666666666666666,
              "#ed7953"
             ],
             [
              0.7777777777777778,
              "#fb9f3a"
             ],
             [
              0.8888888888888888,
              "#fdca26"
             ],
             [
              1,
              "#f0f921"
             ]
            ],
            "type": "heatmap"
           }
          ],
          "heatmapgl": [
           {
            "colorbar": {
             "outlinewidth": 0,
             "ticks": ""
            },
            "colorscale": [
             [
              0,
              "#0d0887"
             ],
             [
              0.1111111111111111,
              "#46039f"
             ],
             [
              0.2222222222222222,
              "#7201a8"
             ],
             [
              0.3333333333333333,
              "#9c179e"
             ],
             [
              0.4444444444444444,
              "#bd3786"
             ],
             [
              0.5555555555555556,
              "#d8576b"
             ],
             [
              0.6666666666666666,
              "#ed7953"
             ],
             [
              0.7777777777777778,
              "#fb9f3a"
             ],
             [
              0.8888888888888888,
              "#fdca26"
             ],
             [
              1,
              "#f0f921"
             ]
            ],
            "type": "heatmapgl"
           }
          ],
          "histogram": [
           {
            "marker": {
             "pattern": {
              "fillmode": "overlay",
              "size": 10,
              "solidity": 0.2
             }
            },
            "type": "histogram"
           }
          ],
          "histogram2d": [
           {
            "colorbar": {
             "outlinewidth": 0,
             "ticks": ""
            },
            "colorscale": [
             [
              0,
              "#0d0887"
             ],
             [
              0.1111111111111111,
              "#46039f"
             ],
             [
              0.2222222222222222,
              "#7201a8"
             ],
             [
              0.3333333333333333,
              "#9c179e"
             ],
             [
              0.4444444444444444,
              "#bd3786"
             ],
             [
              0.5555555555555556,
              "#d8576b"
             ],
             [
              0.6666666666666666,
              "#ed7953"
             ],
             [
              0.7777777777777778,
              "#fb9f3a"
             ],
             [
              0.8888888888888888,
              "#fdca26"
             ],
             [
              1,
              "#f0f921"
             ]
            ],
            "type": "histogram2d"
           }
          ],
          "histogram2dcontour": [
           {
            "colorbar": {
             "outlinewidth": 0,
             "ticks": ""
            },
            "colorscale": [
             [
              0,
              "#0d0887"
             ],
             [
              0.1111111111111111,
              "#46039f"
             ],
             [
              0.2222222222222222,
              "#7201a8"
             ],
             [
              0.3333333333333333,
              "#9c179e"
             ],
             [
              0.4444444444444444,
              "#bd3786"
             ],
             [
              0.5555555555555556,
              "#d8576b"
             ],
             [
              0.6666666666666666,
              "#ed7953"
             ],
             [
              0.7777777777777778,
              "#fb9f3a"
             ],
             [
              0.8888888888888888,
              "#fdca26"
             ],
             [
              1,
              "#f0f921"
             ]
            ],
            "type": "histogram2dcontour"
           }
          ],
          "mesh3d": [
           {
            "colorbar": {
             "outlinewidth": 0,
             "ticks": ""
            },
            "type": "mesh3d"
           }
          ],
          "parcoords": [
           {
            "line": {
             "colorbar": {
              "outlinewidth": 0,
              "ticks": ""
             }
            },
            "type": "parcoords"
           }
          ],
          "pie": [
           {
            "automargin": true,
            "type": "pie"
           }
          ],
          "scatter": [
           {
            "fillpattern": {
             "fillmode": "overlay",
             "size": 10,
             "solidity": 0.2
            },
            "type": "scatter"
           }
          ],
          "scatter3d": [
           {
            "line": {
             "colorbar": {
              "outlinewidth": 0,
              "ticks": ""
             }
            },
            "marker": {
             "colorbar": {
              "outlinewidth": 0,
              "ticks": ""
             }
            },
            "type": "scatter3d"
           }
          ],
          "scattercarpet": [
           {
            "marker": {
             "colorbar": {
              "outlinewidth": 0,
              "ticks": ""
             }
            },
            "type": "scattercarpet"
           }
          ],
          "scattergeo": [
           {
            "marker": {
             "colorbar": {
              "outlinewidth": 0,
              "ticks": ""
             }
            },
            "type": "scattergeo"
           }
          ],
          "scattergl": [
           {
            "marker": {
             "colorbar": {
              "outlinewidth": 0,
              "ticks": ""
             }
            },
            "type": "scattergl"
           }
          ],
          "scattermapbox": [
           {
            "marker": {
             "colorbar": {
              "outlinewidth": 0,
              "ticks": ""
             }
            },
            "type": "scattermapbox"
           }
          ],
          "scatterpolar": [
           {
            "marker": {
             "colorbar": {
              "outlinewidth": 0,
              "ticks": ""
             }
            },
            "type": "scatterpolar"
           }
          ],
          "scatterpolargl": [
           {
            "marker": {
             "colorbar": {
              "outlinewidth": 0,
              "ticks": ""
             }
            },
            "type": "scatterpolargl"
           }
          ],
          "scatterternary": [
           {
            "marker": {
             "colorbar": {
              "outlinewidth": 0,
              "ticks": ""
             }
            },
            "type": "scatterternary"
           }
          ],
          "surface": [
           {
            "colorbar": {
             "outlinewidth": 0,
             "ticks": ""
            },
            "colorscale": [
             [
              0,
              "#0d0887"
             ],
             [
              0.1111111111111111,
              "#46039f"
             ],
             [
              0.2222222222222222,
              "#7201a8"
             ],
             [
              0.3333333333333333,
              "#9c179e"
             ],
             [
              0.4444444444444444,
              "#bd3786"
             ],
             [
              0.5555555555555556,
              "#d8576b"
             ],
             [
              0.6666666666666666,
              "#ed7953"
             ],
             [
              0.7777777777777778,
              "#fb9f3a"
             ],
             [
              0.8888888888888888,
              "#fdca26"
             ],
             [
              1,
              "#f0f921"
             ]
            ],
            "type": "surface"
           }
          ],
          "table": [
           {
            "cells": {
             "fill": {
              "color": "#EBF0F8"
             },
             "line": {
              "color": "white"
             }
            },
            "header": {
             "fill": {
              "color": "#C8D4E3"
             },
             "line": {
              "color": "white"
             }
            },
            "type": "table"
           }
          ]
         },
         "layout": {
          "annotationdefaults": {
           "arrowcolor": "#2a3f5f",
           "arrowhead": 0,
           "arrowwidth": 1
          },
          "autotypenumbers": "strict",
          "coloraxis": {
           "colorbar": {
            "outlinewidth": 0,
            "ticks": ""
           }
          },
          "colorscale": {
           "diverging": [
            [
             0,
             "#8e0152"
            ],
            [
             0.1,
             "#c51b7d"
            ],
            [
             0.2,
             "#de77ae"
            ],
            [
             0.3,
             "#f1b6da"
            ],
            [
             0.4,
             "#fde0ef"
            ],
            [
             0.5,
             "#f7f7f7"
            ],
            [
             0.6,
             "#e6f5d0"
            ],
            [
             0.7,
             "#b8e186"
            ],
            [
             0.8,
             "#7fbc41"
            ],
            [
             0.9,
             "#4d9221"
            ],
            [
             1,
             "#276419"
            ]
           ],
           "sequential": [
            [
             0,
             "#0d0887"
            ],
            [
             0.1111111111111111,
             "#46039f"
            ],
            [
             0.2222222222222222,
             "#7201a8"
            ],
            [
             0.3333333333333333,
             "#9c179e"
            ],
            [
             0.4444444444444444,
             "#bd3786"
            ],
            [
             0.5555555555555556,
             "#d8576b"
            ],
            [
             0.6666666666666666,
             "#ed7953"
            ],
            [
             0.7777777777777778,
             "#fb9f3a"
            ],
            [
             0.8888888888888888,
             "#fdca26"
            ],
            [
             1,
             "#f0f921"
            ]
           ],
           "sequentialminus": [
            [
             0,
             "#0d0887"
            ],
            [
             0.1111111111111111,
             "#46039f"
            ],
            [
             0.2222222222222222,
             "#7201a8"
            ],
            [
             0.3333333333333333,
             "#9c179e"
            ],
            [
             0.4444444444444444,
             "#bd3786"
            ],
            [
             0.5555555555555556,
             "#d8576b"
            ],
            [
             0.6666666666666666,
             "#ed7953"
            ],
            [
             0.7777777777777778,
             "#fb9f3a"
            ],
            [
             0.8888888888888888,
             "#fdca26"
            ],
            [
             1,
             "#f0f921"
            ]
           ]
          },
          "colorway": [
           "#636efa",
           "#EF553B",
           "#00cc96",
           "#ab63fa",
           "#FFA15A",
           "#19d3f3",
           "#FF6692",
           "#B6E880",
           "#FF97FF",
           "#FECB52"
          ],
          "font": {
           "color": "#2a3f5f"
          },
          "geo": {
           "bgcolor": "white",
           "lakecolor": "white",
           "landcolor": "#E5ECF6",
           "showlakes": true,
           "showland": true,
           "subunitcolor": "white"
          },
          "hoverlabel": {
           "align": "left"
          },
          "hovermode": "closest",
          "mapbox": {
           "style": "light"
          },
          "paper_bgcolor": "white",
          "plot_bgcolor": "#E5ECF6",
          "polar": {
           "angularaxis": {
            "gridcolor": "white",
            "linecolor": "white",
            "ticks": ""
           },
           "bgcolor": "#E5ECF6",
           "radialaxis": {
            "gridcolor": "white",
            "linecolor": "white",
            "ticks": ""
           }
          },
          "scene": {
           "xaxis": {
            "backgroundcolor": "#E5ECF6",
            "gridcolor": "white",
            "gridwidth": 2,
            "linecolor": "white",
            "showbackground": true,
            "ticks": "",
            "zerolinecolor": "white"
           },
           "yaxis": {
            "backgroundcolor": "#E5ECF6",
            "gridcolor": "white",
            "gridwidth": 2,
            "linecolor": "white",
            "showbackground": true,
            "ticks": "",
            "zerolinecolor": "white"
           },
           "zaxis": {
            "backgroundcolor": "#E5ECF6",
            "gridcolor": "white",
            "gridwidth": 2,
            "linecolor": "white",
            "showbackground": true,
            "ticks": "",
            "zerolinecolor": "white"
           }
          },
          "shapedefaults": {
           "line": {
            "color": "#2a3f5f"
           }
          },
          "ternary": {
           "aaxis": {
            "gridcolor": "white",
            "linecolor": "white",
            "ticks": ""
           },
           "baxis": {
            "gridcolor": "white",
            "linecolor": "white",
            "ticks": ""
           },
           "bgcolor": "#E5ECF6",
           "caxis": {
            "gridcolor": "white",
            "linecolor": "white",
            "ticks": ""
           }
          },
          "title": {
           "x": 0.05
          },
          "xaxis": {
           "automargin": true,
           "gridcolor": "white",
           "linecolor": "white",
           "ticks": "",
           "title": {
            "standoff": 15
           },
           "zerolinecolor": "white",
           "zerolinewidth": 2
          },
          "yaxis": {
           "automargin": true,
           "gridcolor": "white",
           "linecolor": "white",
           "ticks": "",
           "title": {
            "standoff": 15
           },
           "zerolinecolor": "white",
           "zerolinewidth": 2
          }
         }
        },
        "title": {
         "text": "Different percentage points between percent points and its approximation with natural log"
        },
        "xaxis": {
         "anchor": "y",
         "autorange": true,
         "domain": [
          0,
          1
         ],
         "range": [
          -99.99,
          399.99
         ],
         "title": {
          "text": "x"
         },
         "type": "linear"
        },
        "yaxis": {
         "anchor": "x",
         "autorange": true,
         "domain": [
          0,
          1
         ],
         "range": [
          -45.6081455831833,
          866.6573099755551
         ],
         "title": {
          "text": "y"
         },
         "type": "linear"
        }
       }
      },
      "image/png": "[encoded data removed]",
      "text/html": [
       "<div>                            <div id=\"3e9eceeb-3d97-493f-9c88-dacf4bc862e0\" class=\"plotly-graph-div\" style=\"height:525px; width:100%;\"></div>            <script type=\"text/javascript\">                require([\"plotly\"], function(Plotly) {                    window.PLOTLYENV=window.PLOTLYENV || {};                                    if (document.getElementById(\"3e9eceeb-3d97-493f-9c88-dacf4bc862e0\")) {                    Plotly.newPlot(                        \"3e9eceeb-3d97-493f-9c88-dacf4bc862e0\",                        [{\"hovertemplate\":\"x=%{x}<br>y=%{y}<extra></extra>\",\"legendgroup\":\"\",\"line\":{\"color\":\"#636efa\",\"dash\":\"solid\"},\"marker\":{\"symbol\":\"circle\"},\"mode\":\"lines\",\"name\":\"\",\"orientation\":\"v\",\"showlegend\":false,\"x\":[-99.99,-94.93969696969697,-89.88939393939394,-84.83909090909091,-79.78878787878789,-74.73848484848484,-69.68818181818182,-64.63787878787879,-59.58757575757576,-54.53727272727272,-49.486969696969695,-44.43666666666667,-39.38636363636363,-34.336060606060606,-29.285757575757575,-24.235454545454537,-19.18515151515151,-14.134848484848483,-9.084545454545445,-4.034242424242418,1.0160606060606092,6.066363636363636,11.116666666666664,16.166969696969712,21.21727272727274,26.267575757575766,31.317878787878794,36.368181818181824,41.41848484848485,46.4687878787879,51.51909090909093,56.569393939393954,61.61969696969698,66.67,71.72030303030303,76.77060606060606,81.82090909090911,86.87121212121214,91.92151515151517,96.9718181818182,102.02212121212125,107.07242424242426,112.1227272727273,117.17303030303032,122.22333333333336,127.27363636363643,132.32393939393944,137.37424242424248,142.4245454545455,147.47484848484854,152.52515151515155,157.5754545454546,162.6257575757576,167.67606060606064,172.72636363636366,177.7766666666667,182.8269696969697,187.87727272727275,192.92757575757582,197.97787878787884,203.02818181818188,208.0784848484849,213.12878787878793,218.17909090909095,223.229393939394,228.279696969697,233.33000000000004,238.38030303030305,243.4306060606061,248.4809090909091,253.53121212121215,258.5815151515152,263.63181818181823,268.6821212121213,273.7324242424243,278.7827272727273,283.83303030303034,288.8833333333334,293.9336363636364,298.9839393939394,304.0342424242424,309.08454545454543,314.1348484848485,319.1851515151515,324.2354545454545,329.28575757575754,334.3360606060606,339.3863636363636,344.4366666666666,349.48696969696965,354.5372727272728,359.5875757575758,364.63787878787883,369.6881818181819,374.73848484848486,379.7887878787879,384.83909090909094,389.889393939394,394.939696969697,399.99],\"xaxis\":\"x\",\"y\":[821.0440371976182,203.43468473732605,139.26912687110166,103.80589320620648,80.1044801273832,62.850324013450546,49.67506923324885,39.31501731085534,31.015715997004335,24.29046492895991,18.806916021743227,14.328000803453778,10.678665936070185,7.7259672792075795,5.366560889975636,3.5185195375474487,2.115795381602861,1.1043641131279702,0.43947277087559716,0.08363258267166593,0.005127194753616268,0.1768852099833268,0.5756152258798691,1.1811332846486278,1.975833552837064,2.944267117634633,4.072803436517608,5.349355710018855,6.763156219609384,8.304571103958008,9.964946546723747,11.736480192644782,13.612112983698704,15.585437643400669,17.65062082595018,19.802336552586965,22.03570902659694,24.346263284617965,26.72988242993656,29.182770421624348,31.701419575289023,34.28258207718816,36.92324493127613,39.62060785438825,42.372063712806174,45.17518115745337,48.02768916771593,50.92746325755445,53.87251313388347,56.86097162751661,59.891084742393886,62.96120269019898,66.06977179554103,69.21532717218967,72.39648608387405,75.61194191426854,78.86045868029584,82.1408660310412,85.45205468159757,88.79297223722658,92.16261936847074,95.5600463024067,98.98434959919244,102.43466918651727,105.91018562758221,109.41011760088524,112.93371957240646,116.48027964283263,120.0491175542598,123.6395828424042,127.2510531217579,130.88293249237415,134.53465005807422,138.20565854685455,141.89543302514983,145.6034696983933,149.32928479101483,153.0724134996467,156.8324090138683,160.6088415993277,164.40129773853144,168.20937932500496,172.03270290689284,175.8708989764045,179.72361130181002,183.59049629896464,187.47122243958802,191.36546969374865,195.27292900420764,199.19330179046182,203.1262994804954,207.0716430684022,211.02906269618322,214.99829725814993,218.9790940264839,222.97120829660795,226.97440305112605,230.98844864117524,235.01312248411966,239.04820877659026],\"yaxis\":\"y\",\"type\":\"scatter\"}],                        {\"template\":{\"data\":{\"histogram2dcontour\":[{\"type\":\"histogram2dcontour\",\"colorbar\":{\"outlinewidth\":0,\"ticks\":\"\"},\"colorscale\":[[0.0,\"#0d0887\"],[0.1111111111111111,\"#46039f\"],[0.2222222222222222,\"#7201a8\"],[0.3333333333333333,\"#9c179e\"],[0.4444444444444444,\"#bd3786\"],[0.5555555555555556,\"#d8576b\"],[0.6666666666666666,\"#ed7953\"],[0.7777777777777778,\"#fb9f3a\"],[0.8888888888888888,\"#fdca26\"],[1.0,\"#f0f921\"]]}],\"choropleth\":[{\"type\":\"choropleth\",\"colorbar\":{\"outlinewidth\":0,\"ticks\":\"\"}}],\"histogram2d\":[{\"type\":\"histogram2d\",\"colorbar\":{\"outlinewidth\":0,\"ticks\":\"\"},\"colorscale\":[[0.0,\"#0d0887\"],[0.1111111111111111,\"#46039f\"],[0.2222222222222222,\"#7201a8\"],[0.3333333333333333,\"#9c179e\"],[0.4444444444444444,\"#bd3786\"],[0.5555555555555556,\"#d8576b\"],[0.6666666666666666,\"#ed7953\"],[0.7777777777777778,\"#fb9f3a\"],[0.8888888888888888,\"#fdca26\"],[1.0,\"#f0f921\"]]}],\"heatmap\":[{\"type\":\"heatmap\",\"colorbar\":{\"outlinewidth\":0,\"ticks\":\"\"},\"colorscale\":[[0.0,\"#0d0887\"],[0.1111111111111111,\"#46039f\"],[0.2222222222222222,\"#7201a8\"],[0.3333333333333333,\"#9c179e\"],[0.4444444444444444,\"#bd3786\"],[0.5555555555555556,\"#d8576b\"],[0.6666666666666666,\"#ed7953\"],[0.7777777777777778,\"#fb9f3a\"],[0.8888888888888888,\"#fdca26\"],[1.0,\"#f0f921\"]]}],\"heatmapgl\":[{\"type\":\"heatmapgl\",\"colorbar\":{\"outlinewidth\":0,\"ticks\":\"\"},\"colorscale\":[[0.0,\"#0d0887\"],[0.1111111111111111,\"#46039f\"],[0.2222222222222222,\"#7201a8\"],[0.3333333333333333,\"#9c179e\"],[0.4444444444444444,\"#bd3786\"],[0.5555555555555556,\"#d8576b\"],[0.6666666666666666,\"#ed7953\"],[0.7777777777777778,\"#fb9f3a\"],[0.8888888888888888,\"#fdca26\"],[1.0,\"#f0f921\"]]}],\"contourcarpet\":[{\"type\":\"contourcarpet\",\"colorbar\":{\"outlinewidth\":0,\"ticks\":\"\"}}],\"contour\":[{\"type\":\"contour\",\"colorbar\":{\"outlinewidth\":0,\"ticks\":\"\"},\"colorscale\":[[0.0,\"#0d0887\"],[0.1111111111111111,\"#46039f\"],[0.2222222222222222,\"#7201a8\"],[0.3333333333333333,\"#9c179e\"],[0.4444444444444444,\"#bd3786\"],[0.5555555555555556,\"#d8576b\"],[0.6666666666666666,\"#ed7953\"],[0.7777777777777778,\"#fb9f3a\"],[0.8888888888888888,\"#fdca26\"],[1.0,\"#f0f921\"]]}],\"surface\":[{\"type\":\"surface\",\"colorbar\":{\"outlinewidth\":0,\"ticks\":\"\"},\"colorscale\":[[0.0,\"#0d0887\"],[0.1111111111111111,\"#46039f\"],[0.2222222222222222,\"#7201a8\"],[0.3333333333333333,\"#9c179e\"],[0.4444444444444444,\"#bd3786\"],[0.5555555555555556,\"#d8576b\"],[0.6666666666666666,\"#ed7953\"],[0.7777777777777778,\"#fb9f3a\"],[0.8888888888888888,\"#fdca26\"],[1.0,\"#f0f921\"]]}],\"mesh3d\":[{\"type\":\"mesh3d\",\"colorbar\":{\"outlinewidth\":0,\"ticks\":\"\"}}],\"scatter\":[{\"fillpattern\":{\"fillmode\":\"overlay\",\"size\":10,\"solidity\":0.2},\"type\":\"scatter\"}],\"parcoords\":[{\"type\":\"parcoords\",\"line\":{\"colorbar\":{\"outlinewidth\":0,\"ticks\":\"\"}}}],\"scatterpolargl\":[{\"type\":\"scatterpolargl\",\"marker\":{\"colorbar\":{\"outlinewidth\":0,\"ticks\":\"\"}}}],\"bar\":[{\"error_x\":{\"color\":\"#2a3f5f\"},\"error_y\":{\"color\":\"#2a3f5f\"},\"marker\":{\"line\":{\"color\":\"#E5ECF6\",\"width\":0.5},\"pattern\":{\"fillmode\":\"overlay\",\"size\":10,\"solidity\":0.2}},\"type\":\"bar\"}],\"scattergeo\":[{\"type\":\"scattergeo\",\"marker\":{\"colorbar\":{\"outlinewidth\":0,\"ticks\":\"\"}}}],\"scatterpolar\":[{\"type\":\"scatterpolar\",\"marker\":{\"colorbar\":{\"outlinewidth\":0,\"ticks\":\"\"}}}],\"histogram\":[{\"marker\":{\"pattern\":{\"fillmode\":\"overlay\",\"size\":10,\"solidity\":0.2}},\"type\":\"histogram\"}],\"scattergl\":[{\"type\":\"scattergl\",\"marker\":{\"colorbar\":{\"outlinewidth\":0,\"ticks\":\"\"}}}],\"scatter3d\":[{\"type\":\"scatter3d\",\"line\":{\"colorbar\":{\"outlinewidth\":0,\"ticks\":\"\"}},\"marker\":{\"colorbar\":{\"outlinewidth\":0,\"ticks\":\"\"}}}],\"scattermapbox\":[{\"type\":\"scattermapbox\",\"marker\":{\"colorbar\":{\"outlinewidth\":0,\"ticks\":\"\"}}}],\"scatterternary\":[{\"type\":\"scatterternary\",\"marker\":{\"colorbar\":{\"outlinewidth\":0,\"ticks\":\"\"}}}],\"scattercarpet\":[{\"type\":\"scattercarpet\",\"marker\":{\"colorbar\":{\"outlinewidth\":0,\"ticks\":\"\"}}}],\"carpet\":[{\"aaxis\":{\"endlinecolor\":\"#2a3f5f\",\"gridcolor\":\"white\",\"linecolor\":\"white\",\"minorgridcolor\":\"white\",\"startlinecolor\":\"#2a3f5f\"},\"baxis\":{\"endlinecolor\":\"#2a3f5f\",\"gridcolor\":\"white\",\"linecolor\":\"white\",\"minorgridcolor\":\"white\",\"startlinecolor\":\"#2a3f5f\"},\"type\":\"carpet\"}],\"table\":[{\"cells\":{\"fill\":{\"color\":\"#EBF0F8\"},\"line\":{\"color\":\"white\"}},\"header\":{\"fill\":{\"color\":\"#C8D4E3\"},\"line\":{\"color\":\"white\"}},\"type\":\"table\"}],\"barpolar\":[{\"marker\":{\"line\":{\"color\":\"#E5ECF6\",\"width\":0.5},\"pattern\":{\"fillmode\":\"overlay\",\"size\":10,\"solidity\":0.2}},\"type\":\"barpolar\"}],\"pie\":[{\"automargin\":true,\"type\":\"pie\"}]},\"layout\":{\"autotypenumbers\":\"strict\",\"colorway\":[\"#636efa\",\"#EF553B\",\"#00cc96\",\"#ab63fa\",\"#FFA15A\",\"#19d3f3\",\"#FF6692\",\"#B6E880\",\"#FF97FF\",\"#FECB52\"],\"font\":{\"color\":\"#2a3f5f\"},\"hovermode\":\"closest\",\"hoverlabel\":{\"align\":\"left\"},\"paper_bgcolor\":\"white\",\"plot_bgcolor\":\"#E5ECF6\",\"polar\":{\"bgcolor\":\"#E5ECF6\",\"angularaxis\":{\"gridcolor\":\"white\",\"linecolor\":\"white\",\"ticks\":\"\"},\"radialaxis\":{\"gridcolor\":\"white\",\"linecolor\":\"white\",\"ticks\":\"\"}},\"ternary\":{\"bgcolor\":\"#E5ECF6\",\"aaxis\":{\"gridcolor\":\"white\",\"linecolor\":\"white\",\"ticks\":\"\"},\"baxis\":{\"gridcolor\":\"white\",\"linecolor\":\"white\",\"ticks\":\"\"},\"caxis\":{\"gridcolor\":\"white\",\"linecolor\":\"white\",\"ticks\":\"\"}},\"coloraxis\":{\"colorbar\":{\"outlinewidth\":0,\"ticks\":\"\"}},\"colorscale\":{\"sequential\":[[0.0,\"#0d0887\"],[0.1111111111111111,\"#46039f\"],[0.2222222222222222,\"#7201a8\"],[0.3333333333333333,\"#9c179e\"],[0.4444444444444444,\"#bd3786\"],[0.5555555555555556,\"#d8576b\"],[0.6666666666666666,\"#ed7953\"],[0.7777777777777778,\"#fb9f3a\"],[0.8888888888888888,\"#fdca26\"],[1.0,\"#f0f921\"]],\"sequentialminus\":[[0.0,\"#0d0887\"],[0.1111111111111111,\"#46039f\"],[0.2222222222222222,\"#7201a8\"],[0.3333333333333333,\"#9c179e\"],[0.4444444444444444,\"#bd3786\"],[0.5555555555555556,\"#d8576b\"],[0.6666666666666666,\"#ed7953\"],[0.7777777777777778,\"#fb9f3a\"],[0.8888888888888888,\"#fdca26\"],[1.0,\"#f0f921\"]],\"diverging\":[[0,\"#8e0152\"],[0.1,\"#c51b7d\"],[0.2,\"#de77ae\"],[0.3,\"#f1b6da\"],[0.4,\"#fde0ef\"],[0.5,\"#f7f7f7\"],[0.6,\"#e6f5d0\"],[0.7,\"#b8e186\"],[0.8,\"#7fbc41\"],[0.9,\"#4d9221\"],[1,\"#276419\"]]},\"xaxis\":{\"gridcolor\":\"white\",\"linecolor\":\"white\",\"ticks\":\"\",\"title\":{\"standoff\":15},\"zerolinecolor\":\"white\",\"automargin\":true,\"zerolinewidth\":2},\"yaxis\":{\"gridcolor\":\"white\",\"linecolor\":\"white\",\"ticks\":\"\",\"title\":{\"standoff\":15},\"zerolinecolor\":\"white\",\"automargin\":true,\"zerolinewidth\":2},\"scene\":{\"xaxis\":{\"backgroundcolor\":\"#E5ECF6\",\"gridcolor\":\"white\",\"linecolor\":\"white\",\"showbackground\":true,\"ticks\":\"\",\"zerolinecolor\":\"white\",\"gridwidth\":2},\"yaxis\":{\"backgroundcolor\":\"#E5ECF6\",\"gridcolor\":\"white\",\"linecolor\":\"white\",\"showbackground\":true,\"ticks\":\"\",\"zerolinecolor\":\"white\",\"gridwidth\":2},\"zaxis\":{\"backgroundcolor\":\"#E5ECF6\",\"gridcolor\":\"white\",\"linecolor\":\"white\",\"showbackground\":true,\"ticks\":\"\",\"zerolinecolor\":\"white\",\"gridwidth\":2}},\"shapedefaults\":{\"line\":{\"color\":\"#2a3f5f\"}},\"annotationdefaults\":{\"arrowcolor\":\"#2a3f5f\",\"arrowhead\":0,\"arrowwidth\":1},\"geo\":{\"bgcolor\":\"white\",\"landcolor\":\"#E5ECF6\",\"subunitcolor\":\"white\",\"showland\":true,\"showlakes\":true,\"lakecolor\":\"white\"},\"title\":{\"x\":0.05},\"mapbox\":{\"style\":\"light\"}}},\"xaxis\":{\"anchor\":\"y\",\"domain\":[0.0,1.0],\"title\":{\"text\":\"x\"}},\"yaxis\":{\"anchor\":\"x\",\"domain\":[0.0,1.0],\"title\":{\"text\":\"y\"}},\"legend\":{\"tracegroupgap\":0},\"title\":{\"text\":\"Different percentage points between percent points and its approximation with natural log\"}},                        {\"responsive\": true}                    ).then(function(){\n",
       "                            \n",
       "var gd = document.getElementById('3e9eceeb-3d97-493f-9c88-dacf4bc862e0');\n",
       "var x = new MutationObserver(function (mutations, observer) {{\n",
       "        var display = window.getComputedStyle(gd).display;\n",
       "        if (!display || display === 'none') {{\n",
       "            console.log([gd, 'removed!']);\n",
       "            Plotly.purge(gd);\n",
       "            observer.disconnect();\n",
       "        }}\n",
       "}});\n",
       "\n",
       "// Listen for the removal of the full notebook cells\n",
       "var notebookContainer = gd.closest('#notebook-container');\n",
       "if (notebookContainer) {{\n",
       "    x.observe(notebookContainer, {childList: true});\n",
       "}}\n",
       "\n",
       "// Listen for the clearing of the current output cell\n",
       "var outputEl = gd.closest('.output');\n",
       "if (outputEl) {{\n",
       "    x.observe(outputEl, {childList: true});\n",
       "}}\n",
       "\n",
       "                        })                };                });            </script>        </div>"
      ]
     },
     "metadata": {},
     "output_type": "display_data"
    }
   ],
   "source": [
    "fig = px.line(x=df2['gr_rate']*100, y=df2['difference']*100, title='Different percentage points between percent points and its approximation with natural log')\n",
    "\n",
    "fig.show()"
   ]
  },
  {
   "cell_type": "code",
   "execution_count": null,
   "id": "82855486-21a1-4948-bb4d-405acfd33b8c",
   "metadata": {
    "id": "82855486-21a1-4948-bb4d-405acfd33b8c",
    "outputId": "f1570cc3-11f0-435d-8896-dcf95de018ec"
   },
   "outputs": [
    {
     "data": {
      "text/html": [
       "<div>\n",
       "<style scoped>\n",
       "    .dataframe tbody tr th:only-of-type {\n",
       "        vertical-align: middle;\n",
       "    }\n",
       "\n",
       "    .dataframe tbody tr th {\n",
       "        vertical-align: top;\n",
       "    }\n",
       "\n",
       "    .dataframe thead tr th {\n",
       "        text-align: left;\n",
       "    }\n",
       "\n",
       "    .dataframe thead tr:last-of-type th {\n",
       "        text-align: right;\n",
       "    }\n",
       "</style>\n",
       "<table border=\"1\" class=\"dataframe\">\n",
       "  <thead>\n",
       "    <tr>\n",
       "      <th></th>\n",
       "      <th colspan=\"8\" halign=\"left\">percent_difference</th>\n",
       "    </tr>\n",
       "    <tr>\n",
       "      <th></th>\n",
       "      <th>count</th>\n",
       "      <th>mean</th>\n",
       "      <th>std</th>\n",
       "      <th>min</th>\n",
       "      <th>25%</th>\n",
       "      <th>50%</th>\n",
       "      <th>75%</th>\n",
       "      <th>max</th>\n",
       "    </tr>\n",
       "    <tr>\n",
       "      <th>gr_rate</th>\n",
       "      <th></th>\n",
       "      <th></th>\n",
       "      <th></th>\n",
       "      <th></th>\n",
       "      <th></th>\n",
       "      <th></th>\n",
       "      <th></th>\n",
       "      <th></th>\n",
       "    </tr>\n",
       "  </thead>\n",
       "  <tbody>\n",
       "    <tr>\n",
       "      <th>(-200, -175]</th>\n",
       "      <td>0.0</td>\n",
       "      <td>NaN</td>\n",
       "      <td>NaN</td>\n",
       "      <td>NaN</td>\n",
       "      <td>NaN</td>\n",
       "      <td>NaN</td>\n",
       "      <td>NaN</td>\n",
       "      <td>NaN</td>\n",
       "    </tr>\n",
       "    <tr>\n",
       "      <th>(-175, -150]</th>\n",
       "      <td>0.0</td>\n",
       "      <td>NaN</td>\n",
       "      <td>NaN</td>\n",
       "      <td>NaN</td>\n",
       "      <td>NaN</td>\n",
       "      <td>NaN</td>\n",
       "      <td>NaN</td>\n",
       "      <td>NaN</td>\n",
       "    </tr>\n",
       "    <tr>\n",
       "      <th>(-150, -125]</th>\n",
       "      <td>0.0</td>\n",
       "      <td>NaN</td>\n",
       "      <td>NaN</td>\n",
       "      <td>NaN</td>\n",
       "      <td>NaN</td>\n",
       "      <td>NaN</td>\n",
       "      <td>NaN</td>\n",
       "      <td>NaN</td>\n",
       "    </tr>\n",
       "    <tr>\n",
       "      <th>(-125, -100]</th>\n",
       "      <td>0.0</td>\n",
       "      <td>NaN</td>\n",
       "      <td>NaN</td>\n",
       "      <td>NaN</td>\n",
       "      <td>NaN</td>\n",
       "      <td>NaN</td>\n",
       "      <td>NaN</td>\n",
       "      <td>NaN</td>\n",
       "    </tr>\n",
       "    <tr>\n",
       "      <th>(-100, -75]</th>\n",
       "      <td>5.0</td>\n",
       "      <td>269.5316</td>\n",
       "      <td>311.7895</td>\n",
       "      <td>80.1045</td>\n",
       "      <td>103.8059</td>\n",
       "      <td>139.2691</td>\n",
       "      <td>203.4347</td>\n",
       "      <td>821.0440</td>\n",
       "    </tr>\n",
       "    <tr>\n",
       "      <th>(-75, -50]</th>\n",
       "      <td>5.0</td>\n",
       "      <td>41.4293</td>\n",
       "      <td>15.2767</td>\n",
       "      <td>24.2905</td>\n",
       "      <td>31.0157</td>\n",
       "      <td>39.3150</td>\n",
       "      <td>49.6751</td>\n",
       "      <td>62.8503</td>\n",
       "    </tr>\n",
       "    <tr>\n",
       "      <th>(-50, -25]</th>\n",
       "      <td>5.0</td>\n",
       "      <td>11.3812</td>\n",
       "      <td>5.3351</td>\n",
       "      <td>5.3666</td>\n",
       "      <td>7.7260</td>\n",
       "      <td>10.6787</td>\n",
       "      <td>14.3280</td>\n",
       "      <td>18.8069</td>\n",
       "    </tr>\n",
       "    <tr>\n",
       "      <th>(-25, 0]</th>\n",
       "      <td>5.0</td>\n",
       "      <td>1.4524</td>\n",
       "      <td>1.3901</td>\n",
       "      <td>0.0836</td>\n",
       "      <td>0.4395</td>\n",
       "      <td>1.1044</td>\n",
       "      <td>2.1158</td>\n",
       "      <td>3.5185</td>\n",
       "    </tr>\n",
       "    <tr>\n",
       "      <th>(0, 25]</th>\n",
       "      <td>5.0</td>\n",
       "      <td>0.7829</td>\n",
       "      <td>0.8057</td>\n",
       "      <td>0.0051</td>\n",
       "      <td>0.1769</td>\n",
       "      <td>0.5756</td>\n",
       "      <td>1.1811</td>\n",
       "      <td>1.9758</td>\n",
       "    </tr>\n",
       "    <tr>\n",
       "      <th>(25, 50]</th>\n",
       "      <td>5.0</td>\n",
       "      <td>5.4868</td>\n",
       "      <td>2.1244</td>\n",
       "      <td>2.9443</td>\n",
       "      <td>4.0728</td>\n",
       "      <td>5.3494</td>\n",
       "      <td>6.7632</td>\n",
       "      <td>8.3046</td>\n",
       "    </tr>\n",
       "    <tr>\n",
       "      <th>(50, 75]</th>\n",
       "      <td>5.0</td>\n",
       "      <td>13.7099</td>\n",
       "      <td>3.0404</td>\n",
       "      <td>9.9649</td>\n",
       "      <td>11.7365</td>\n",
       "      <td>13.6121</td>\n",
       "      <td>15.5854</td>\n",
       "      <td>17.6506</td>\n",
       "    </tr>\n",
       "    <tr>\n",
       "      <th>(75, 100]</th>\n",
       "      <td>5.0</td>\n",
       "      <td>24.4194</td>\n",
       "      <td>3.7092</td>\n",
       "      <td>19.8023</td>\n",
       "      <td>22.0357</td>\n",
       "      <td>24.3463</td>\n",
       "      <td>26.7299</td>\n",
       "      <td>29.1828</td>\n",
       "    </tr>\n",
       "    <tr>\n",
       "      <th>(100, 125]</th>\n",
       "      <td>5.0</td>\n",
       "      <td>36.9800</td>\n",
       "      <td>4.2187</td>\n",
       "      <td>31.7014</td>\n",
       "      <td>34.2826</td>\n",
       "      <td>36.9232</td>\n",
       "      <td>39.6206</td>\n",
       "      <td>42.3721</td>\n",
       "    </tr>\n",
       "    <tr>\n",
       "      <th>(125, 150]</th>\n",
       "      <td>5.0</td>\n",
       "      <td>50.9728</td>\n",
       "      <td>4.6197</td>\n",
       "      <td>45.1752</td>\n",
       "      <td>48.0277</td>\n",
       "      <td>50.9275</td>\n",
       "      <td>53.8725</td>\n",
       "      <td>56.8610</td>\n",
       "    </tr>\n",
       "    <tr>\n",
       "      <th>(150, 175]</th>\n",
       "      <td>5.0</td>\n",
       "      <td>66.1068</td>\n",
       "      <td>4.9435</td>\n",
       "      <td>59.8911</td>\n",
       "      <td>62.9612</td>\n",
       "      <td>66.0698</td>\n",
       "      <td>69.2153</td>\n",
       "      <td>72.3965</td>\n",
       "    </tr>\n",
       "    <tr>\n",
       "      <th>(175, 200]</th>\n",
       "      <td>5.0</td>\n",
       "      <td>82.1717</td>\n",
       "      <td>5.2105</td>\n",
       "      <td>75.6119</td>\n",
       "      <td>78.8605</td>\n",
       "      <td>82.1409</td>\n",
       "      <td>85.4521</td>\n",
       "      <td>88.7930</td>\n",
       "    </tr>\n",
       "    <tr>\n",
       "      <th>(200, 225]</th>\n",
       "      <td>5.0</td>\n",
       "      <td>99.0104</td>\n",
       "      <td>5.4344</td>\n",
       "      <td>92.1626</td>\n",
       "      <td>95.5600</td>\n",
       "      <td>98.9843</td>\n",
       "      <td>102.4347</td>\n",
       "      <td>105.9102</td>\n",
       "    </tr>\n",
       "    <tr>\n",
       "      <th>(225, 250]</th>\n",
       "      <td>5.0</td>\n",
       "      <td>116.5026</td>\n",
       "      <td>5.6248</td>\n",
       "      <td>109.4101</td>\n",
       "      <td>112.9337</td>\n",
       "      <td>116.4803</td>\n",
       "      <td>120.0491</td>\n",
       "      <td>123.6396</td>\n",
       "    </tr>\n",
       "    <tr>\n",
       "      <th>(250, 275]</th>\n",
       "      <td>5.0</td>\n",
       "      <td>134.5539</td>\n",
       "      <td>5.7888</td>\n",
       "      <td>127.2511</td>\n",
       "      <td>130.8829</td>\n",
       "      <td>134.5347</td>\n",
       "      <td>138.2057</td>\n",
       "      <td>141.8954</td>\n",
       "    </tr>\n",
       "    <tr>\n",
       "      <th>(275, 300]</th>\n",
       "      <td>5.0</td>\n",
       "      <td>153.0893</td>\n",
       "      <td>5.9315</td>\n",
       "      <td>145.6035</td>\n",
       "      <td>149.3293</td>\n",
       "      <td>153.0724</td>\n",
       "      <td>156.8324</td>\n",
       "      <td>160.6088</td>\n",
       "    </tr>\n",
       "    <tr>\n",
       "      <th>(300, 325]</th>\n",
       "      <td>5.0</td>\n",
       "      <td>172.0476</td>\n",
       "      <td>6.0567</td>\n",
       "      <td>164.4013</td>\n",
       "      <td>168.2094</td>\n",
       "      <td>172.0327</td>\n",
       "      <td>175.8709</td>\n",
       "      <td>179.7236</td>\n",
       "    </tr>\n",
       "    <tr>\n",
       "      <th>(325, 350]</th>\n",
       "      <td>5.0</td>\n",
       "      <td>191.3787</td>\n",
       "      <td>6.1676</td>\n",
       "      <td>183.5905</td>\n",
       "      <td>187.4712</td>\n",
       "      <td>191.3655</td>\n",
       "      <td>195.2729</td>\n",
       "      <td>199.1933</td>\n",
       "    </tr>\n",
       "    <tr>\n",
       "      <th>(350, 375]</th>\n",
       "      <td>5.0</td>\n",
       "      <td>211.0409</td>\n",
       "      <td>6.2664</td>\n",
       "      <td>203.1263</td>\n",
       "      <td>207.0716</td>\n",
       "      <td>211.0291</td>\n",
       "      <td>214.9983</td>\n",
       "      <td>218.9791</td>\n",
       "    </tr>\n",
       "    <tr>\n",
       "      <th>(375, 400]</th>\n",
       "      <td>5.0</td>\n",
       "      <td>230.9991</td>\n",
       "      <td>6.3550</td>\n",
       "      <td>222.9712</td>\n",
       "      <td>226.9744</td>\n",
       "      <td>230.9884</td>\n",
       "      <td>235.0131</td>\n",
       "      <td>239.0482</td>\n",
       "    </tr>\n",
       "    <tr>\n",
       "      <th>(400, 425]</th>\n",
       "      <td>0.0</td>\n",
       "      <td>NaN</td>\n",
       "      <td>NaN</td>\n",
       "      <td>NaN</td>\n",
       "      <td>NaN</td>\n",
       "      <td>NaN</td>\n",
       "      <td>NaN</td>\n",
       "      <td>NaN</td>\n",
       "    </tr>\n",
       "    <tr>\n",
       "      <th>(425, 450]</th>\n",
       "      <td>0.0</td>\n",
       "      <td>NaN</td>\n",
       "      <td>NaN</td>\n",
       "      <td>NaN</td>\n",
       "      <td>NaN</td>\n",
       "      <td>NaN</td>\n",
       "      <td>NaN</td>\n",
       "      <td>NaN</td>\n",
       "    </tr>\n",
       "    <tr>\n",
       "      <th>(450, 475]</th>\n",
       "      <td>0.0</td>\n",
       "      <td>NaN</td>\n",
       "      <td>NaN</td>\n",
       "      <td>NaN</td>\n",
       "      <td>NaN</td>\n",
       "      <td>NaN</td>\n",
       "      <td>NaN</td>\n",
       "      <td>NaN</td>\n",
       "    </tr>\n",
       "  </tbody>\n",
       "</table>\n",
       "</div>"
      ],
      "text/plain": [
       "             percent_difference                                          \\\n",
       "                          count      mean       std       min       25%   \n",
       "gr_rate                                                                   \n",
       "(-200, -175]                0.0       NaN       NaN       NaN       NaN   \n",
       "(-175, -150]                0.0       NaN       NaN       NaN       NaN   \n",
       "(-150, -125]                0.0       NaN       NaN       NaN       NaN   \n",
       "(-125, -100]                0.0       NaN       NaN       NaN       NaN   \n",
       "(-100, -75]                 5.0  269.5316  311.7895   80.1045  103.8059   \n",
       "(-75, -50]                  5.0   41.4293   15.2767   24.2905   31.0157   \n",
       "(-50, -25]                  5.0   11.3812    5.3351    5.3666    7.7260   \n",
       "(-25, 0]                    5.0    1.4524    1.3901    0.0836    0.4395   \n",
       "(0, 25]                     5.0    0.7829    0.8057    0.0051    0.1769   \n",
       "(25, 50]                    5.0    5.4868    2.1244    2.9443    4.0728   \n",
       "(50, 75]                    5.0   13.7099    3.0404    9.9649   11.7365   \n",
       "(75, 100]                   5.0   24.4194    3.7092   19.8023   22.0357   \n",
       "(100, 125]                  5.0   36.9800    4.2187   31.7014   34.2826   \n",
       "(125, 150]                  5.0   50.9728    4.6197   45.1752   48.0277   \n",
       "(150, 175]                  5.0   66.1068    4.9435   59.8911   62.9612   \n",
       "(175, 200]                  5.0   82.1717    5.2105   75.6119   78.8605   \n",
       "(200, 225]                  5.0   99.0104    5.4344   92.1626   95.5600   \n",
       "(225, 250]                  5.0  116.5026    5.6248  109.4101  112.9337   \n",
       "(250, 275]                  5.0  134.5539    5.7888  127.2511  130.8829   \n",
       "(275, 300]                  5.0  153.0893    5.9315  145.6035  149.3293   \n",
       "(300, 325]                  5.0  172.0476    6.0567  164.4013  168.2094   \n",
       "(325, 350]                  5.0  191.3787    6.1676  183.5905  187.4712   \n",
       "(350, 375]                  5.0  211.0409    6.2664  203.1263  207.0716   \n",
       "(375, 400]                  5.0  230.9991    6.3550  222.9712  226.9744   \n",
       "(400, 425]                  0.0       NaN       NaN       NaN       NaN   \n",
       "(425, 450]                  0.0       NaN       NaN       NaN       NaN   \n",
       "(450, 475]                  0.0       NaN       NaN       NaN       NaN   \n",
       "\n",
       "                                            \n",
       "                   50%       75%       max  \n",
       "gr_rate                                     \n",
       "(-200, -175]       NaN       NaN       NaN  \n",
       "(-175, -150]       NaN       NaN       NaN  \n",
       "(-150, -125]       NaN       NaN       NaN  \n",
       "(-125, -100]       NaN       NaN       NaN  \n",
       "(-100, -75]   139.2691  203.4347  821.0440  \n",
       "(-75, -50]     39.3150   49.6751   62.8503  \n",
       "(-50, -25]     10.6787   14.3280   18.8069  \n",
       "(-25, 0]        1.1044    2.1158    3.5185  \n",
       "(0, 25]         0.5756    1.1811    1.9758  \n",
       "(25, 50]        5.3494    6.7632    8.3046  \n",
       "(50, 75]       13.6121   15.5854   17.6506  \n",
       "(75, 100]      24.3463   26.7299   29.1828  \n",
       "(100, 125]     36.9232   39.6206   42.3721  \n",
       "(125, 150]     50.9275   53.8725   56.8610  \n",
       "(150, 175]     66.0698   69.2153   72.3965  \n",
       "(175, 200]     82.1409   85.4521   88.7930  \n",
       "(200, 225]     98.9843  102.4347  105.9102  \n",
       "(225, 250]    116.4803  120.0491  123.6396  \n",
       "(250, 275]    134.5347  138.2057  141.8954  \n",
       "(275, 300]    153.0724  156.8324  160.6088  \n",
       "(300, 325]    172.0327  175.8709  179.7236  \n",
       "(325, 350]    191.3655  195.2729  199.1933  \n",
       "(350, 375]    211.0291  214.9983  218.9791  \n",
       "(375, 400]    230.9884  235.0131  239.0482  \n",
       "(400, 425]         NaN       NaN       NaN  \n",
       "(425, 450]         NaN       NaN       NaN  \n",
       "(450, 475]         NaN       NaN       NaN  "
      ]
     },
     "execution_count": 174,
     "metadata": {},
     "output_type": "execute_result"
    }
   ],
   "source": [
    "df2.groupby(pd.cut(df2['gr_rate']*100, np.arange(-200, 500, 25))).describe()[['percent_difference']].round(4)"
   ]
  },
  {
   "cell_type": "code",
   "execution_count": null,
   "id": "a514775b-931f-4fe3-b6c6-eee1654c2d97",
   "metadata": {
    "id": "a514775b-931f-4fe3-b6c6-eee1654c2d97",
    "outputId": "736bfe22-cb7f-4317-8bcd-2702cae54047"
   },
   "outputs": [
    {
     "data": {
      "text/html": [
       "<div>\n",
       "<style scoped>\n",
       "    .dataframe tbody tr th:only-of-type {\n",
       "        vertical-align: middle;\n",
       "    }\n",
       "\n",
       "    .dataframe tbody tr th {\n",
       "        vertical-align: top;\n",
       "    }\n",
       "\n",
       "    .dataframe thead th {\n",
       "        text-align: right;\n",
       "    }\n",
       "</style>\n",
       "<table border=\"1\" class=\"dataframe\">\n",
       "  <thead>\n",
       "    <tr style=\"text-align: right;\">\n",
       "      <th></th>\n",
       "      <th>ratio</th>\n",
       "      <th>gr_rate</th>\n",
       "      <th>percent_gr_rate</th>\n",
       "      <th>ln_approx</th>\n",
       "      <th>percent_ln_approx</th>\n",
       "      <th>difference</th>\n",
       "      <th>percent_difference</th>\n",
       "    </tr>\n",
       "  </thead>\n",
       "  <tbody>\n",
       "    <tr>\n",
       "      <th>0</th>\n",
       "      <td>0.000100</td>\n",
       "      <td>-0.999900</td>\n",
       "      <td>-99.990000</td>\n",
       "      <td>-9.210340</td>\n",
       "      <td>-921.034037</td>\n",
       "      <td>8.210440</td>\n",
       "      <td>821.044037</td>\n",
       "    </tr>\n",
       "    <tr>\n",
       "      <th>1</th>\n",
       "      <td>0.050603</td>\n",
       "      <td>-0.949397</td>\n",
       "      <td>-94.939697</td>\n",
       "      <td>-2.983744</td>\n",
       "      <td>-298.374382</td>\n",
       "      <td>2.034347</td>\n",
       "      <td>203.434685</td>\n",
       "    </tr>\n",
       "    <tr>\n",
       "      <th>2</th>\n",
       "      <td>0.101106</td>\n",
       "      <td>-0.898894</td>\n",
       "      <td>-89.889394</td>\n",
       "      <td>-2.291585</td>\n",
       "      <td>-229.158521</td>\n",
       "      <td>1.392691</td>\n",
       "      <td>139.269127</td>\n",
       "    </tr>\n",
       "    <tr>\n",
       "      <th>3</th>\n",
       "      <td>0.151609</td>\n",
       "      <td>-0.848391</td>\n",
       "      <td>-84.839091</td>\n",
       "      <td>-1.886450</td>\n",
       "      <td>-188.644984</td>\n",
       "      <td>1.038059</td>\n",
       "      <td>103.805893</td>\n",
       "    </tr>\n",
       "    <tr>\n",
       "      <th>4</th>\n",
       "      <td>0.202112</td>\n",
       "      <td>-0.797888</td>\n",
       "      <td>-79.788788</td>\n",
       "      <td>-1.598933</td>\n",
       "      <td>-159.893268</td>\n",
       "      <td>0.801045</td>\n",
       "      <td>80.104480</td>\n",
       "    </tr>\n",
       "    <tr>\n",
       "      <th>...</th>\n",
       "      <td>...</td>\n",
       "      <td>...</td>\n",
       "      <td>...</td>\n",
       "      <td>...</td>\n",
       "      <td>...</td>\n",
       "      <td>...</td>\n",
       "      <td>...</td>\n",
       "    </tr>\n",
       "    <tr>\n",
       "      <th>95</th>\n",
       "      <td>4.797888</td>\n",
       "      <td>3.797888</td>\n",
       "      <td>379.788788</td>\n",
       "      <td>1.568176</td>\n",
       "      <td>156.817580</td>\n",
       "      <td>2.229712</td>\n",
       "      <td>222.971208</td>\n",
       "    </tr>\n",
       "    <tr>\n",
       "      <th>96</th>\n",
       "      <td>4.848391</td>\n",
       "      <td>3.848391</td>\n",
       "      <td>384.839091</td>\n",
       "      <td>1.578647</td>\n",
       "      <td>157.864688</td>\n",
       "      <td>2.269744</td>\n",
       "      <td>226.974403</td>\n",
       "    </tr>\n",
       "    <tr>\n",
       "      <th>97</th>\n",
       "      <td>4.898894</td>\n",
       "      <td>3.898894</td>\n",
       "      <td>389.889394</td>\n",
       "      <td>1.589009</td>\n",
       "      <td>158.900945</td>\n",
       "      <td>2.309884</td>\n",
       "      <td>230.988449</td>\n",
       "    </tr>\n",
       "    <tr>\n",
       "      <th>98</th>\n",
       "      <td>4.949397</td>\n",
       "      <td>3.949397</td>\n",
       "      <td>394.939697</td>\n",
       "      <td>1.599266</td>\n",
       "      <td>159.926574</td>\n",
       "      <td>2.350131</td>\n",
       "      <td>235.013122</td>\n",
       "    </tr>\n",
       "    <tr>\n",
       "      <th>99</th>\n",
       "      <td>4.999900</td>\n",
       "      <td>3.999900</td>\n",
       "      <td>399.990000</td>\n",
       "      <td>1.609418</td>\n",
       "      <td>160.941791</td>\n",
       "      <td>2.390482</td>\n",
       "      <td>239.048209</td>\n",
       "    </tr>\n",
       "  </tbody>\n",
       "</table>\n",
       "<p>100 rows × 7 columns</p>\n",
       "</div>"
      ],
      "text/plain": [
       "       ratio   gr_rate  percent_gr_rate  ln_approx  percent_ln_approx  \\\n",
       "0   0.000100 -0.999900       -99.990000  -9.210340        -921.034037   \n",
       "1   0.050603 -0.949397       -94.939697  -2.983744        -298.374382   \n",
       "2   0.101106 -0.898894       -89.889394  -2.291585        -229.158521   \n",
       "3   0.151609 -0.848391       -84.839091  -1.886450        -188.644984   \n",
       "4   0.202112 -0.797888       -79.788788  -1.598933        -159.893268   \n",
       "..       ...       ...              ...        ...                ...   \n",
       "95  4.797888  3.797888       379.788788   1.568176         156.817580   \n",
       "96  4.848391  3.848391       384.839091   1.578647         157.864688   \n",
       "97  4.898894  3.898894       389.889394   1.589009         158.900945   \n",
       "98  4.949397  3.949397       394.939697   1.599266         159.926574   \n",
       "99  4.999900  3.999900       399.990000   1.609418         160.941791   \n",
       "\n",
       "    difference  percent_difference  \n",
       "0     8.210440          821.044037  \n",
       "1     2.034347          203.434685  \n",
       "2     1.392691          139.269127  \n",
       "3     1.038059          103.805893  \n",
       "4     0.801045           80.104480  \n",
       "..         ...                 ...  \n",
       "95    2.229712          222.971208  \n",
       "96    2.269744          226.974403  \n",
       "97    2.309884          230.988449  \n",
       "98    2.350131          235.013122  \n",
       "99    2.390482          239.048209  \n",
       "\n",
       "[100 rows x 7 columns]"
      ]
     },
     "execution_count": 170,
     "metadata": {},
     "output_type": "execute_result"
    }
   ],
   "source": [
    "df2"
   ]
  }
 ],
 "metadata": {
  "colab": {
   "provenance": []
  },
  "kernelspec": {
   "display_name": "Python 3 (ipykernel)",
   "language": "python",
   "name": "python3"
  },
  "language_info": {
   "codemirror_mode": {
    "name": "ipython",
    "version": 3
   },
   "file_extension": ".py",
   "mimetype": "text/x-python",
   "name": "python",
   "nbconvert_exporter": "python",
   "pygments_lexer": "ipython3",
   "version": "3.10.9"
  }
 },
 "nbformat": 4,
 "nbformat_minor": 5
}
