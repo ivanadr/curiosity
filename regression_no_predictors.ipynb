{
 "cells": [
  {
   "cell_type": "markdown",
   "id": "c84a8943-2b2d-4411-b399-f95648534f64",
   "metadata": {
    "id": "c84a8943-2b2d-4411-b399-f95648534f64"
   },
   "source": [
    "# Regression with no predictors"
   ]
  },
  {
   "cell_type": "code",
   "execution_count": null,
   "id": "193b35d3-fca8-433c-ad77-8be16d4e337b",
   "metadata": {
    "id": "193b35d3-fca8-433c-ad77-8be16d4e337b"
   },
   "outputs": [],
   "source": [
    "import stata_setup\n",
    "stata_setup.config('/Applications/Stata/', 'mp', splash = False)\n",
    "from pystata import stata\n",
    "from sfi import Scalar\n",
    "import sfi\n",
    "import numpy as np"
   ]
  },
  {
   "cell_type": "code",
   "execution_count": null,
   "id": "94e37078-6e1d-4f48-8aa9-d35ebcd9c279",
   "metadata": {
    "id": "94e37078-6e1d-4f48-8aa9-d35ebcd9c279",
    "outputId": "ddba6395-b6f2-4637-dcdb-500cb83286a4"
   },
   "outputs": [
    {
     "name": "stdout",
     "output_type": "stream",
     "text": [
      "(highschool and beyond (200 cases))\n"
     ]
    }
   ],
   "source": [
    "%%stata\n",
    "use https://stats.idre.ucla.edu/stat/stata/notes/hsb2"
   ]
  },
  {
   "cell_type": "code",
   "execution_count": null,
   "id": "77097289-9240-46b9-a71e-3e6882fe0e9a",
   "metadata": {
    "id": "77097289-9240-46b9-a71e-3e6882fe0e9a",
    "outputId": "366404d0-aced-4f9c-fcd8-cc3f9d429315"
   },
   "outputs": [
    {
     "name": "stdout",
     "output_type": "stream",
     "text": [
      "\n",
      "    Variable |        Obs        Mean    Std. dev.       Min        Max\n",
      "-------------+---------------------------------------------------------\n",
      "        race |        200        3.43    1.039472          1          4\n"
     ]
    }
   ],
   "source": [
    "%stata summarize race"
   ]
  },
  {
   "cell_type": "code",
   "execution_count": null,
   "id": "06cc02e8-7abc-4ec3-a353-0911b0f6adde",
   "metadata": {
    "id": "06cc02e8-7abc-4ec3-a353-0911b0f6adde"
   },
   "outputs": [],
   "source": [
    "df = stata.pdataframe_from_data()"
   ]
  },
  {
   "cell_type": "code",
   "execution_count": null,
   "id": "13f04f7a-4bad-4045-84c0-2e39175f9e4b",
   "metadata": {
    "id": "13f04f7a-4bad-4045-84c0-2e39175f9e4b",
    "outputId": "12aea84f-b7ef-4dde-8f1b-1b027c3479c5"
   },
   "outputs": [
    {
     "data": {
      "text/plain": [
       "['fl', 'sel', 'scl', 'sl', 'rl']"
      ]
     },
     "execution_count": 37,
     "metadata": {},
     "output_type": "execute_result"
    }
   ],
   "source": [
    "sfi.ValueLabel.getNames()"
   ]
  },
  {
   "cell_type": "code",
   "execution_count": null,
   "id": "0f9ee8de-4de5-4622-9be4-6995a7220382",
   "metadata": {
    "id": "0f9ee8de-4de5-4622-9be4-6995a7220382",
    "outputId": "57c5fd71-26e4-4921-8734-1ccfd51a081c"
   },
   "outputs": [
    {
     "name": "stdout",
     "output_type": "stream",
     "text": [
      "\n",
      "Contains data from https://stats.idre.ucla.edu/stat/stata/notes/hsb2.dta\n",
      " Observations:           200                  highschool and beyond (200\n",
      "                                                cases)\n",
      "    Variables:            11                  17 Jun 2002 08:48\n",
      "-------------------------------------------------------------------------------\n",
      "Variable      Storage   Display    Value\n",
      "    name         type    format    label      Variable label\n",
      "-------------------------------------------------------------------------------\n",
      "id              float   %9.0g                 \n",
      "female          float   %9.0g      fl         \n",
      "race            float   %12.0g     rl         \n",
      "ses             float   %9.0g      sl         \n",
      "schtyp          float   %9.0g      scl        type of school\n",
      "prog            float   %9.0g      sel        type of program\n",
      "read            float   %9.0g                 reading score\n",
      "write           float   %9.0g                 writing score\n",
      "math            float   %9.0g                 math score\n",
      "science         float   %9.0g                 science score\n",
      "socst           float   %9.0g                 social studies score\n",
      "-------------------------------------------------------------------------------\n",
      "Sorted by: \n"
     ]
    }
   ],
   "source": [
    "%stata describe"
   ]
  },
  {
   "cell_type": "code",
   "execution_count": null,
   "id": "8e55be2d-d9c2-4c63-90ae-d5802f7c4f69",
   "metadata": {
    "id": "8e55be2d-d9c2-4c63-90ae-d5802f7c4f69",
    "outputId": "bcc72c73-f8a4-460c-a75b-a3f5f9b1dac1"
   },
   "outputs": [
    {
     "data": {
      "text/plain": [
       "{1: 'hispanic', 2: 'asian', 3: 'african-amer', 4: 'white'}"
      ]
     },
     "execution_count": 32,
     "metadata": {},
     "output_type": "execute_result"
    }
   ],
   "source": [
    "sfi.ValueLabel.getValueLabels('rl')"
   ]
  },
  {
   "cell_type": "code",
   "execution_count": null,
   "id": "8096810f-dff6-405f-b34a-48132d106088",
   "metadata": {
    "id": "8096810f-dff6-405f-b34a-48132d106088",
    "outputId": "92b927d9-6070-4599-997b-aef0521fbc41"
   },
   "outputs": [
    {
     "name": "stdout",
     "output_type": "stream",
     "text": [
      "\n",
      ". use https://stats.idre.ucla.edu/stat/stata/notes/hsb2\n",
      "(highschool and beyond (200 cases))\n",
      "\n",
      ". summarize write\n",
      "\n",
      "    Variable |        Obs        Mean    Std. dev.       Min        Max\n",
      "-------------+---------------------------------------------------------\n",
      "       write |        200      52.775    9.478586         31         67\n",
      "\n",
      ". \n"
     ]
    }
   ],
   "source": [
    "%%stata\n",
    "use https://stats.idre.ucla.edu/stat/stata/notes/hsb2\n",
    "summarize write"
   ]
  },
  {
   "cell_type": "code",
   "execution_count": null,
   "id": "69f63ce8-ae03-49e0-82cc-e3b1bebcbb12",
   "metadata": {
    "id": "69f63ce8-ae03-49e0-82cc-e3b1bebcbb12",
    "outputId": "5818d088-f826-4532-eb6a-0be58f01c609"
   },
   "outputs": [
    {
     "name": "stdout",
     "output_type": "stream",
     "text": [
      "0.6702372436659872\n"
     ]
    }
   ],
   "source": [
    "#standard errors as std/sqrt(samle size)\n",
    "print(9.478586/np.sqrt(200))"
   ]
  },
  {
   "cell_type": "code",
   "execution_count": null,
   "id": "be91e836-7e9d-479c-ac36-e7551175943d",
   "metadata": {
    "id": "be91e836-7e9d-479c-ac36-e7551175943d",
    "outputId": "8d3888e3-f6a9-49ad-c4b1-8fa859b1f494"
   },
   "outputs": [
    {
     "name": "stdout",
     "output_type": "stream",
     "text": [
      "\n",
      "      Source |       SS           df       MS      Number of obs   =       200\n",
      "-------------+----------------------------------   F(0, 199)       =      0.00\n",
      "       Model |           0         0           .   Prob > F        =         .\n",
      "    Residual |   17878.875       199   89.843593   R-squared       =    0.0000\n",
      "-------------+----------------------------------   Adj R-squared   =    0.0000\n",
      "       Total |   17878.875       199   89.843593   Root MSE        =    9.4786\n",
      "\n",
      "------------------------------------------------------------------------------\n",
      "       write | Coefficient  Std. err.      t    P>|t|     [95% conf. interval]\n",
      "-------------+----------------------------------------------------------------\n",
      "       _cons |     52.775   .6702372    78.74   0.000     51.45332    54.09668\n",
      "------------------------------------------------------------------------------\n"
     ]
    }
   ],
   "source": [
    "%stata regress write"
   ]
  },
  {
   "cell_type": "code",
   "execution_count": null,
   "id": "4a424369-b0f2-4e4d-9f61-f3d27518ec45",
   "metadata": {
    "id": "4a424369-b0f2-4e4d-9f61-f3d27518ec45",
    "outputId": "ba950ae5-3864-4b89-ddb6-e2b7ea635a9d"
   },
   "outputs": [
    {
     "name": "stdout",
     "output_type": "stream",
     "text": [
      "\n",
      "Contains data from https://stats.idre.ucla.edu/stat/stata/notes/hsb2.dta\n",
      " Observations:           200                  highschool and beyond (200\n",
      "                                                cases)\n",
      "    Variables:            11                  17 Jun 2002 08:48\n",
      "-------------------------------------------------------------------------------\n",
      "Variable      Storage   Display    Value\n",
      "    name         type    format    label      Variable label\n",
      "-------------------------------------------------------------------------------\n",
      "id              float   %9.0g                 \n",
      "female          float   %9.0g      fl         \n",
      "race            float   %12.0g     rl         \n",
      "ses             float   %9.0g      sl         \n",
      "schtyp          float   %9.0g      scl        type of school\n",
      "prog            float   %9.0g      sel        type of program\n",
      "read            float   %9.0g                 reading score\n",
      "write           float   %9.0g                 writing score\n",
      "math            float   %9.0g                 math score\n",
      "science         float   %9.0g                 science score\n",
      "socst           float   %9.0g                 social studies score\n",
      "-------------------------------------------------------------------------------\n",
      "Sorted by: \n"
     ]
    }
   ],
   "source": [
    "%%stata\n",
    "describe"
   ]
  },
  {
   "cell_type": "code",
   "execution_count": null,
   "id": "39ba70d5-67ea-4a6e-abbe-aba3647509ed",
   "metadata": {
    "id": "39ba70d5-67ea-4a6e-abbe-aba3647509ed",
    "outputId": "911fa2c0-901b-4f20-ee6f-708e2e77ec3c"
   },
   "outputs": [
    {
     "name": "stdout",
     "output_type": "stream",
     "text": [
      "\n",
      ". summarize write if female == 0\n",
      "\n",
      "    Variable |        Obs        Mean    Std. dev.       Min        Max\n",
      "-------------+---------------------------------------------------------\n",
      "       write |         91    50.12088    10.30516         31         67\n",
      "\n",
      ". summarize write if female == 1\n",
      "\n",
      "    Variable |        Obs        Mean    Std. dev.       Min        Max\n",
      "-------------+---------------------------------------------------------\n",
      "       write |        109    54.99083    8.133715         35         67\n",
      "\n",
      ". \n"
     ]
    }
   ],
   "source": [
    "%%stata\n",
    "summarize write if female == 0\n",
    "summarize write if female == 1"
   ]
  },
  {
   "cell_type": "code",
   "execution_count": null,
   "id": "92f33be8-9c32-4b11-bde6-0a5b185efe25",
   "metadata": {
    "id": "92f33be8-9c32-4b11-bde6-0a5b185efe25",
    "outputId": "40f937ac-54ee-4068-e402-8b893e5381f8"
   },
   "outputs": [
    {
     "name": "stdout",
     "output_type": "stream",
     "text": [
      "1.0802742967993244\n",
      "0.7790686023497557\n"
     ]
    }
   ],
   "source": [
    "#standard errors as std/sqrt(samle size)\n",
    "print(10.30516/np.sqrt(91)) #MALE == FEMALE == 0\n",
    "print(8.133715/np.sqrt(109)) #FEMALE == 1"
   ]
  },
  {
   "cell_type": "code",
   "execution_count": null,
   "id": "bfa65a83-2e0b-4656-a87d-6766676e693c",
   "metadata": {
    "id": "bfa65a83-2e0b-4656-a87d-6766676e693c",
    "outputId": "a6a1afb9-a87b-4caa-9a0a-0556b86f660b"
   },
   "outputs": [
    {
     "name": "stdout",
     "output_type": "stream",
     "text": [
      "note: 0b.race identifies no observations in the sample.\n",
      "\n",
      "      Source |       SS           df       MS      Number of obs   =       200\n",
      "-------------+----------------------------------   F(4, 196)       =   1715.58\n",
      "       Model |  558954.283         4  139738.571   Prob > F        =    0.0000\n",
      "    Residual |   15964.717       196  81.4526375   R-squared       =    0.9722\n",
      "-------------+----------------------------------   Adj R-squared   =    0.9717\n",
      "       Total |      574919       200    2874.595   Root MSE        =    9.0251\n",
      "\n",
      "------------------------------------------------------------------------------\n",
      "       write | Coefficient  Std. err.      t    P>|t|     [95% conf. interval]\n",
      "-------------+----------------------------------------------------------------\n",
      "        race |\n",
      "          0  |          0  (empty)\n",
      "   hispanic  |   46.45833   1.842243    25.22   0.000     42.82517     50.0915\n",
      "      asian  |         58   2.721174    21.31   0.000     52.63346    63.36654\n",
      "african-a~r  |       48.2   2.018076    23.88   0.000     44.22007    52.17993\n",
      "      white  |   54.05517   .7494947    72.12   0.000     52.57706    55.53328\n",
      "------------------------------------------------------------------------------\n"
     ]
    }
   ],
   "source": [
    "%stata regress write b0.race, noconst"
   ]
  },
  {
   "cell_type": "code",
   "execution_count": null,
   "id": "d184b0ea-c524-4167-b0eb-a5653a8038bb",
   "metadata": {
    "id": "d184b0ea-c524-4167-b0eb-a5653a8038bb",
    "outputId": "b0f046b4-b77b-4b39-8abc-a90488af1d9e"
   },
   "outputs": [
    {
     "data": {
      "text/plain": [
       "{1: 'hispanic', 2: 'asian', 3: 'african-amer', 4: 'white'}"
      ]
     },
     "execution_count": 60,
     "metadata": {},
     "output_type": "execute_result"
    }
   ],
   "source": [
    "sfi.ValueLabel.getValueLabels('rl')"
   ]
  },
  {
   "cell_type": "code",
   "execution_count": null,
   "id": "e24a4eb8-b97c-446f-9830-0db448436149",
   "metadata": {
    "id": "e24a4eb8-b97c-446f-9830-0db448436149",
    "outputId": "c4242a40-d19a-43d1-a524-81e7ee66232b"
   },
   "outputs": [
    {
     "data": {
      "text/plain": [
       "{'e(N)': 200.0,\n",
       " 'e(df_m)': 4.0,\n",
       " 'e(df_r)': 196.0,\n",
       " 'e(F)': 1715.5806738152733,\n",
       " 'e(r2)': 0.9722313631067628,\n",
       " 'e(rmse)': 9.025111496293297,\n",
       " 'e(mss)': 558954.283045977,\n",
       " 'e(rss)': 15964.716954022988,\n",
       " 'e(r2_a)': 0.9716646562313906,\n",
       " 'e(ll)': -721.7696075696936,\n",
       " 'e(rank)': 4.0,\n",
       " 'e(cmdline)': 'regress write b0.race, noconst',\n",
       " 'e(title)': 'Linear regression',\n",
       " 'e(marginsprop)': 'minus',\n",
       " 'e(marginsok)': 'XB default',\n",
       " 'e(vce)': 'ols',\n",
       " 'e(depvar)': 'write',\n",
       " 'e(cmd)': 'regress',\n",
       " 'e(properties)': 'b V',\n",
       " 'e(predict)': 'regres_p',\n",
       " 'e(model)': 'ols',\n",
       " 'e(estat_cmd)': 'regress_estat',\n",
       " 'e(b)': array([[ 0.        , 46.45833333, 58.        , 48.2       , 54.05517241]]),\n",
       " 'e(V)': array([[ 0.        ,  0.        ,  0.        ,  0.        ,  0.        ],\n",
       "        [ 0.        ,  3.3938599 ,  0.        ,  0.        , -0.        ],\n",
       "        [ 0.        ,  0.        ,  7.40478523,  0.        , -0.        ],\n",
       "        [ 0.        ,  0.        ,  0.        ,  4.07263188, -0.        ],\n",
       "        [ 0.        , -0.        , -0.        , -0.        ,  0.56174233]]),\n",
       " 'e(beta)': array([[8.98846567e+307, 1.59676310e+000, 1.39852472e+000,\n",
       "         1.52937222e+000, 2.55280423e+000]])}"
      ]
     },
     "execution_count": 63,
     "metadata": {},
     "output_type": "execute_result"
    }
   ],
   "source": [
    "stata.get_ereturn()"
   ]
  },
  {
   "cell_type": "code",
   "execution_count": null,
   "id": "7174bef1-11e6-44c3-9fc7-f6e619e9fb06",
   "metadata": {
    "id": "7174bef1-11e6-44c3-9fc7-f6e619e9fb06",
    "outputId": "fd4e7f29-443b-482e-966b-0dd01b31b836"
   },
   "outputs": [
    {
     "name": "stderr",
     "output_type": "stream",
     "text": [
      "Exception in thread Stata:\n",
      "Traceback (most recent call last):\n",
      "  File \"/opt/homebrew/Cellar/python@3.9/3.9.14/Frameworks/Python.framework/Versions/3.9/lib/python3.9/threading.py\", line 980, in _bootstrap_inner\n",
      "    self.run()\n",
      "  File \"/Applications/Stata/utilities/pystata/core/stout.py\", line 169, in run\n",
      "    raise SystemError(output)\n",
      "SystemError: [asian] not found\n",
      "r(111);\n",
      "\n"
     ]
    },
    {
     "data": {
      "text/plain": [
       "[0.6702372451782433]"
      ]
     },
     "execution_count": 62,
     "metadata": {},
     "output_type": "execute_result"
    }
   ],
   "source": [
    "betas = []\n",
    "\n",
    "var = 'asian'\n",
    "stata.run('scalar beta = _b[{}]'.format(var))\n",
    "b = Scalar.getValue('beta')\n",
    "b"
   ]
  },
  {
   "cell_type": "code",
   "execution_count": null,
   "id": "4898cba6-afd2-4e6c-9fbc-5e671ed1c139",
   "metadata": {
    "id": "4898cba6-afd2-4e6c-9fbc-5e671ed1c139"
   },
   "outputs": [],
   "source": [
    "def get_means_ci(df, products, pressure_type, sig_lev = 0.1):\n",
    "  '''pressure_type = 'pressure_per_million_kcal', 'pressure_per_tonnes_of_protein', 'pressure_per_tonnes' '''\n",
    "  #adapted from def get_betas_ci\n",
    "  #lists\n",
    "  betas, crops, e_t, e_n, p_t, p_n = [], [], [], [], [], []\n",
    "  #leep setup\n",
    "  gb = df.groupby('product')\n",
    "  for crop in products:\n",
    "    #load in stata\n",
    "    stata.pdataframe_to_data(gb.get_group(crop), force=True)\n",
    "    #run regression\n",
    "    stata.run('quietly regress {}'.format(pressure_type)) #quietly regress\n",
    "    # var of interest (the name in the column in the output could be _const or xoil etc. )\n",
    "    var = '_cons'\n",
    "    #append params\n",
    "    append_regression_params(crop, var, betas, crops, e_t, e_n, p_t, p_n)\n",
    "\n",
    "  #make df\n",
    "  df_grouped = pd.DataFrame(list(zip(betas, crops, e_t, e_n, p_t, p_n)),\n",
    "               columns =['beta', 'crop', 'e_t', 'e_n', 'p_t', 'p_n'])\n",
    "\n",
    "  #add significance\n",
    "  add_significance(df_grouped, sig_lev)\n",
    "\n",
    "  return df_grouped\n",
    "\n",
    "def append_regression_params(crop, var, betas, crops, e_t, e_n, p_t, p_n):\n",
    "    #betas\n",
    "    stata.run('scalar beta = _b[{}]'.format(var))\n",
    "    betas.append(Scalar.getValue('beta'))\n",
    "    #crops\n",
    "    crops.append(crop)\n",
    "    # get std errors\n",
    "    stata.run('scalar e_t = invttail(e(df_r),0.025)*_se[{}]'.format(var))\n",
    "    stata.run('scalar e_n = invnormal(0.975)*_se[{}]'.format(var))\n",
    "    e_t.append(Scalar.getValue('e_t'))\n",
    "    e_n.append(Scalar.getValue('e_n'))\n",
    "    #significance\n",
    "    stata.run('scalar p_t = 2*ttail(e(df_r),abs(_b[{}]/_se[{}]))'.format(var,var))\n",
    "    stata.run('scalar p_n = 2*normal(-abs(_b[{}]/_se[{}]))'.format(var,var))\n",
    "    p_t.append(Scalar.getValue('p_t'))\n",
    "    p_n.append(Scalar.getValue('p_n'))"
   ]
  },
  {
   "cell_type": "code",
   "execution_count": null,
   "id": "f2ebde67-9559-419a-bfa9-d182c6fafd47",
   "metadata": {
    "id": "f2ebde67-9559-419a-bfa9-d182c6fafd47",
    "outputId": "8c9f43a1-8a8c-4d8e-c22f-b960fe39e962"
   },
   "outputs": [
    {
     "data": {
      "text/plain": [
       "0.6702372436659872"
      ]
     },
     "execution_count": 54,
     "metadata": {},
     "output_type": "execute_result"
    }
   ],
   "source": [
    "9.478586/np.sqrt(200)"
   ]
  },
  {
   "cell_type": "code",
   "execution_count": null,
   "id": "9653a576-46f1-438a-af70-981700f80d1a",
   "metadata": {
    "id": "9653a576-46f1-438a-af70-981700f80d1a",
    "outputId": "f87649dd-59f1-40b9-c21e-07af90e12e32"
   },
   "outputs": [
    {
     "name": "stdout",
     "output_type": "stream",
     "text": [
      "\n",
      ". \n",
      ". regress write i.female\n",
      "\n",
      "      Source |       SS           df       MS      Number of obs   =       200\n",
      "-------------+----------------------------------   F(1, 198)       =     13.94\n",
      "       Model |  1176.21384         1  1176.21384   Prob > F        =    0.0002\n",
      "    Residual |  16702.6612       198  84.3568745   R-squared       =    0.0658\n",
      "-------------+----------------------------------   Adj R-squared   =    0.0611\n",
      "       Total |   17878.875       199   89.843593   Root MSE        =    9.1846\n",
      "\n",
      "------------------------------------------------------------------------------\n",
      "       write | Coefficient  Std. err.      t    P>|t|     [95% conf. interval]\n",
      "-------------+----------------------------------------------------------------\n",
      "      female |\n",
      "     female  |   4.869947   1.304191     3.73   0.000     2.298059    7.441835\n",
      "       _cons |   50.12088   .9628077    52.06   0.000     48.22221    52.01955\n",
      "------------------------------------------------------------------------------\n",
      "\n",
      ". \n"
     ]
    }
   ],
   "source": [
    "%%stata\n",
    "\n",
    "regress write i.female\n"
   ]
  },
  {
   "cell_type": "code",
   "execution_count": null,
   "id": "9fe99bed-fb14-4445-9bb3-cb4b9b63b3f2",
   "metadata": {
    "id": "9fe99bed-fb14-4445-9bb3-cb4b9b63b3f2",
    "outputId": "e2cc38f5-da46-4693-da76-b4aae8d47d7d"
   },
   "outputs": [
    {
     "name": "stdout",
     "output_type": "stream",
     "text": [
      "\n",
      "    Variable |        Obs        Mean    Std. dev.       Min        Max\n",
      "-------------+---------------------------------------------------------\n",
      "        race |        200        3.43    1.039472          1          4\n"
     ]
    }
   ],
   "source": [
    "%stata summarize race"
   ]
  },
  {
   "cell_type": "code",
   "execution_count": null,
   "id": "c6bdb71d-17c7-4d8e-acd4-76e21a82e443",
   "metadata": {
    "id": "c6bdb71d-17c7-4d8e-acd4-76e21a82e443",
    "outputId": "7290146a-a485-4d42-9065-e8672ec50fc4"
   },
   "outputs": [
    {
     "name": "stdout",
     "output_type": "stream",
     "text": [
      "\n",
      ". \n",
      ". regress write b0.race, noconst\n",
      "note: 0b.race identifies no observations in the sample.\n",
      "\n",
      "      Source |       SS           df       MS      Number of obs   =       200\n",
      "-------------+----------------------------------   F(4, 196)       =   1715.58\n",
      "       Model |  558954.283         4  139738.571   Prob > F        =    0.0000\n",
      "    Residual |   15964.717       196  81.4526375   R-squared       =    0.9722\n",
      "-------------+----------------------------------   Adj R-squared   =    0.9717\n",
      "       Total |      574919       200    2874.595   Root MSE        =    9.0251\n",
      "\n",
      "------------------------------------------------------------------------------\n",
      "       write | Coefficient  Std. err.      t    P>|t|     [95% conf. interval]\n",
      "-------------+----------------------------------------------------------------\n",
      "        race |\n",
      "          0  |          0  (empty)\n",
      "   hispanic  |   46.45833   1.842243    25.22   0.000     42.82517     50.0915\n",
      "      asian  |         58   2.721174    21.31   0.000     52.63346    63.36654\n",
      "african-a~r  |       48.2   2.018076    23.88   0.000     44.22007    52.17993\n",
      "      white  |   54.05517   .7494947    72.12   0.000     52.57706    55.53328\n",
      "------------------------------------------------------------------------------\n",
      "\n",
      ". \n"
     ]
    }
   ],
   "source": [
    "%%stata\n",
    "\n",
    "regress write b0.race, noconst"
   ]
  },
  {
   "cell_type": "code",
   "execution_count": null,
   "id": "e6f4b50e-5eb5-4256-8f65-4c9b67f02869",
   "metadata": {
    "id": "e6f4b50e-5eb5-4256-8f65-4c9b67f02869",
    "outputId": "f4e3f595-1a6e-482f-a75e-eb583e81b2ad"
   },
   "outputs": [
    {
     "name": "stdout",
     "output_type": "stream",
     "text": [
      "note: 0b.race identifies no observations in the sample.\n",
      "note: 4.race omitted because of collinearity.\n",
      "\n",
      "      Source |       SS           df       MS      Number of obs   =       200\n",
      "-------------+----------------------------------   F(3, 196)       =      7.83\n",
      "       Model |  1914.15805         3  638.052682   Prob > F        =    0.0001\n",
      "    Residual |   15964.717       196  81.4526375   R-squared       =    0.1071\n",
      "-------------+----------------------------------   Adj R-squared   =    0.0934\n",
      "       Total |   17878.875       199   89.843593   Root MSE        =    9.0251\n",
      "\n",
      "------------------------------------------------------------------------------\n",
      "       write | Coefficient  Std. err.      t    P>|t|     [95% conf. interval]\n",
      "-------------+----------------------------------------------------------------\n",
      "        race |\n",
      "          0  |          0  (empty)\n",
      "   hispanic  |  -7.596839    1.98887    -3.82   0.000    -11.51917   -3.674507\n",
      "      asian  |   3.944828   2.822504     1.40   0.164    -1.621548    9.511204\n",
      "african-a~r  |  -5.855172    2.15276    -2.72   0.007    -10.10072   -1.609626\n",
      "      white  |          0  (omitted)\n",
      "             |\n",
      "       _cons |   54.05517   .7494947    72.12   0.000     52.57706    55.53328\n",
      "------------------------------------------------------------------------------\n"
     ]
    }
   ],
   "source": [
    "%stata regress write b0.race"
   ]
  },
  {
   "cell_type": "code",
   "execution_count": null,
   "id": "fa338954-2a20-4a49-9939-0ad6e629b459",
   "metadata": {
    "id": "fa338954-2a20-4a49-9939-0ad6e629b459"
   },
   "outputs": [],
   "source": [
    "df = stata.pdataframe_from_data()"
   ]
  },
  {
   "cell_type": "code",
   "execution_count": null,
   "id": "09f69cd3-dad3-492f-b0d1-93415f3e7873",
   "metadata": {
    "id": "09f69cd3-dad3-492f-b0d1-93415f3e7873",
    "outputId": "5a637852-6598-4a4e-c009-a30e12b926d1"
   },
   "outputs": [
    {
     "name": "stdout",
     "output_type": "stream",
     "text": [
      "<class 'pandas.core.frame.DataFrame'>\n",
      "RangeIndex: 200 entries, 0 to 199\n",
      "Data columns (total 11 columns):\n",
      " #   Column   Non-Null Count  Dtype  \n",
      "---  ------   --------------  -----  \n",
      " 0   id       200 non-null    float64\n",
      " 1   female   200 non-null    float64\n",
      " 2   race     200 non-null    float64\n",
      " 3   ses      200 non-null    float64\n",
      " 4   schtyp   200 non-null    float64\n",
      " 5   prog     200 non-null    float64\n",
      " 6   read     200 non-null    float64\n",
      " 7   write    200 non-null    float64\n",
      " 8   math     200 non-null    float64\n",
      " 9   science  200 non-null    float64\n",
      " 10  socst    200 non-null    float64\n",
      "dtypes: float64(11)\n",
      "memory usage: 17.3 KB\n"
     ]
    }
   ],
   "source": [
    "df.info()"
   ]
  }
 ],
 "metadata": {
  "colab": {
   "provenance": []
  },
  "kernelspec": {
   "display_name": "Python 3 (ipykernel)",
   "language": "python",
   "name": "python3"
  },
  "language_info": {
   "codemirror_mode": {
    "name": "ipython",
    "version": 3
   },
   "file_extension": ".py",
   "mimetype": "text/x-python",
   "name": "python",
   "nbconvert_exporter": "python",
   "pygments_lexer": "ipython3",
   "version": "3.10.9"
  }
 },
 "nbformat": 4,
 "nbformat_minor": 5
}
